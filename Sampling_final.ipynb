{
  "nbformat": 4,
  "nbformat_minor": 0,
  "metadata": {
    "colab": {
      "provenance": []
    },
    "kernelspec": {
      "name": "python3",
      "display_name": "Python 3"
    },
    "language_info": {
      "name": "python"
    }
  },
  "cells": [
    {
      "cell_type": "markdown",
      "source": [
        "## Importing Libraries"
      ],
      "metadata": {
        "id": "QZ_XANXyOC57"
      }
    },
    {
      "cell_type": "code",
      "execution_count": null,
      "metadata": {
        "id": "uu-PWpaMI6Cq"
      },
      "outputs": [],
      "source": [
        "import pandas as pd\n",
        "import numpy as np"
      ]
    },
    {
      "cell_type": "markdown",
      "source": [
        "## Uploading Dataset"
      ],
      "metadata": {
        "id": "7rceQTXgOJHz"
      }
    },
    {
      "cell_type": "code",
      "source": [
        "from google.colab import files\n",
        "upload = files.upload()"
      ],
      "metadata": {
        "colab": {
          "base_uri": "https://localhost:8080/",
          "height": 73
        },
        "id": "3Nf1iH90Qa-M",
        "outputId": "02f63885-4e40-43e5-cc69-3a38d57e769c"
      },
      "execution_count": null,
      "outputs": [
        {
          "output_type": "display_data",
          "data": {
            "text/plain": [
              "<IPython.core.display.HTML object>"
            ],
            "text/html": [
              "\n",
              "     <input type=\"file\" id=\"files-34cf2da2-f7ee-49cf-b8bd-34adf752b054\" name=\"files[]\" multiple disabled\n",
              "        style=\"border:none\" />\n",
              "     <output id=\"result-34cf2da2-f7ee-49cf-b8bd-34adf752b054\">\n",
              "      Upload widget is only available when the cell has been executed in the\n",
              "      current browser session. Please rerun this cell to enable.\n",
              "      </output>\n",
              "      <script>// Copyright 2017 Google LLC\n",
              "//\n",
              "// Licensed under the Apache License, Version 2.0 (the \"License\");\n",
              "// you may not use this file except in compliance with the License.\n",
              "// You may obtain a copy of the License at\n",
              "//\n",
              "//      http://www.apache.org/licenses/LICENSE-2.0\n",
              "//\n",
              "// Unless required by applicable law or agreed to in writing, software\n",
              "// distributed under the License is distributed on an \"AS IS\" BASIS,\n",
              "// WITHOUT WARRANTIES OR CONDITIONS OF ANY KIND, either express or implied.\n",
              "// See the License for the specific language governing permissions and\n",
              "// limitations under the License.\n",
              "\n",
              "/**\n",
              " * @fileoverview Helpers for google.colab Python module.\n",
              " */\n",
              "(function(scope) {\n",
              "function span(text, styleAttributes = {}) {\n",
              "  const element = document.createElement('span');\n",
              "  element.textContent = text;\n",
              "  for (const key of Object.keys(styleAttributes)) {\n",
              "    element.style[key] = styleAttributes[key];\n",
              "  }\n",
              "  return element;\n",
              "}\n",
              "\n",
              "// Max number of bytes which will be uploaded at a time.\n",
              "const MAX_PAYLOAD_SIZE = 100 * 1024;\n",
              "\n",
              "function _uploadFiles(inputId, outputId) {\n",
              "  const steps = uploadFilesStep(inputId, outputId);\n",
              "  const outputElement = document.getElementById(outputId);\n",
              "  // Cache steps on the outputElement to make it available for the next call\n",
              "  // to uploadFilesContinue from Python.\n",
              "  outputElement.steps = steps;\n",
              "\n",
              "  return _uploadFilesContinue(outputId);\n",
              "}\n",
              "\n",
              "// This is roughly an async generator (not supported in the browser yet),\n",
              "// where there are multiple asynchronous steps and the Python side is going\n",
              "// to poll for completion of each step.\n",
              "// This uses a Promise to block the python side on completion of each step,\n",
              "// then passes the result of the previous step as the input to the next step.\n",
              "function _uploadFilesContinue(outputId) {\n",
              "  const outputElement = document.getElementById(outputId);\n",
              "  const steps = outputElement.steps;\n",
              "\n",
              "  const next = steps.next(outputElement.lastPromiseValue);\n",
              "  return Promise.resolve(next.value.promise).then((value) => {\n",
              "    // Cache the last promise value to make it available to the next\n",
              "    // step of the generator.\n",
              "    outputElement.lastPromiseValue = value;\n",
              "    return next.value.response;\n",
              "  });\n",
              "}\n",
              "\n",
              "/**\n",
              " * Generator function which is called between each async step of the upload\n",
              " * process.\n",
              " * @param {string} inputId Element ID of the input file picker element.\n",
              " * @param {string} outputId Element ID of the output display.\n",
              " * @return {!Iterable<!Object>} Iterable of next steps.\n",
              " */\n",
              "function* uploadFilesStep(inputId, outputId) {\n",
              "  const inputElement = document.getElementById(inputId);\n",
              "  inputElement.disabled = false;\n",
              "\n",
              "  const outputElement = document.getElementById(outputId);\n",
              "  outputElement.innerHTML = '';\n",
              "\n",
              "  const pickedPromise = new Promise((resolve) => {\n",
              "    inputElement.addEventListener('change', (e) => {\n",
              "      resolve(e.target.files);\n",
              "    });\n",
              "  });\n",
              "\n",
              "  const cancel = document.createElement('button');\n",
              "  inputElement.parentElement.appendChild(cancel);\n",
              "  cancel.textContent = 'Cancel upload';\n",
              "  const cancelPromise = new Promise((resolve) => {\n",
              "    cancel.onclick = () => {\n",
              "      resolve(null);\n",
              "    };\n",
              "  });\n",
              "\n",
              "  // Wait for the user to pick the files.\n",
              "  const files = yield {\n",
              "    promise: Promise.race([pickedPromise, cancelPromise]),\n",
              "    response: {\n",
              "      action: 'starting',\n",
              "    }\n",
              "  };\n",
              "\n",
              "  cancel.remove();\n",
              "\n",
              "  // Disable the input element since further picks are not allowed.\n",
              "  inputElement.disabled = true;\n",
              "\n",
              "  if (!files) {\n",
              "    return {\n",
              "      response: {\n",
              "        action: 'complete',\n",
              "      }\n",
              "    };\n",
              "  }\n",
              "\n",
              "  for (const file of files) {\n",
              "    const li = document.createElement('li');\n",
              "    li.append(span(file.name, {fontWeight: 'bold'}));\n",
              "    li.append(span(\n",
              "        `(${file.type || 'n/a'}) - ${file.size} bytes, ` +\n",
              "        `last modified: ${\n",
              "            file.lastModifiedDate ? file.lastModifiedDate.toLocaleDateString() :\n",
              "                                    'n/a'} - `));\n",
              "    const percent = span('0% done');\n",
              "    li.appendChild(percent);\n",
              "\n",
              "    outputElement.appendChild(li);\n",
              "\n",
              "    const fileDataPromise = new Promise((resolve) => {\n",
              "      const reader = new FileReader();\n",
              "      reader.onload = (e) => {\n",
              "        resolve(e.target.result);\n",
              "      };\n",
              "      reader.readAsArrayBuffer(file);\n",
              "    });\n",
              "    // Wait for the data to be ready.\n",
              "    let fileData = yield {\n",
              "      promise: fileDataPromise,\n",
              "      response: {\n",
              "        action: 'continue',\n",
              "      }\n",
              "    };\n",
              "\n",
              "    // Use a chunked sending to avoid message size limits. See b/62115660.\n",
              "    let position = 0;\n",
              "    do {\n",
              "      const length = Math.min(fileData.byteLength - position, MAX_PAYLOAD_SIZE);\n",
              "      const chunk = new Uint8Array(fileData, position, length);\n",
              "      position += length;\n",
              "\n",
              "      const base64 = btoa(String.fromCharCode.apply(null, chunk));\n",
              "      yield {\n",
              "        response: {\n",
              "          action: 'append',\n",
              "          file: file.name,\n",
              "          data: base64,\n",
              "        },\n",
              "      };\n",
              "\n",
              "      let percentDone = fileData.byteLength === 0 ?\n",
              "          100 :\n",
              "          Math.round((position / fileData.byteLength) * 100);\n",
              "      percent.textContent = `${percentDone}% done`;\n",
              "\n",
              "    } while (position < fileData.byteLength);\n",
              "  }\n",
              "\n",
              "  // All done.\n",
              "  yield {\n",
              "    response: {\n",
              "      action: 'complete',\n",
              "    }\n",
              "  };\n",
              "}\n",
              "\n",
              "scope.google = scope.google || {};\n",
              "scope.google.colab = scope.google.colab || {};\n",
              "scope.google.colab._files = {\n",
              "  _uploadFiles,\n",
              "  _uploadFilesContinue,\n",
              "};\n",
              "})(self);\n",
              "</script> "
            ]
          },
          "metadata": {}
        },
        {
          "output_type": "stream",
          "name": "stdout",
          "text": [
            "Saving Creditcard_data.csv to Creditcard_data.csv\n"
          ]
        }
      ]
    },
    {
      "cell_type": "markdown",
      "source": [
        "## Data Preprocessing"
      ],
      "metadata": {
        "id": "E8V-Gv1iOTNE"
      }
    },
    {
      "cell_type": "code",
      "source": [
        "df=pd.read_csv('Creditcard_data.csv')\n",
        "df.head()"
      ],
      "metadata": {
        "colab": {
          "base_uri": "https://localhost:8080/",
          "height": 299
        },
        "id": "3HgkcbOxOSwa",
        "outputId": "7cad4d75-f6a6-4a0a-dbff-06408da5d7da"
      },
      "execution_count": null,
      "outputs": [
        {
          "output_type": "execute_result",
          "data": {
            "text/plain": [
              "   Time        V1        V2        V3        V4        V5        V6        V7  \\\n",
              "0     0 -1.359807 -0.072781  2.536347  1.378155 -0.338321  0.462388  0.239599   \n",
              "1     0  1.191857  0.266151  0.166480  0.448154  0.060018 -0.082361 -0.078803   \n",
              "2     1 -1.358354 -1.340163  1.773209  0.379780 -0.503198  1.800499  0.791461   \n",
              "3     1 -0.966272 -0.185226  1.792993 -0.863291 -0.010309  1.247203  0.237609   \n",
              "4     2 -1.158233  0.877737  1.548718  0.403034 -0.407193  0.095921  0.592941   \n",
              "\n",
              "         V8        V9  ...       V21       V22       V23       V24       V25  \\\n",
              "0  0.098698  0.363787  ... -0.018307  0.277838 -0.110474  0.066928  0.128539   \n",
              "1  0.085102 -0.255425  ... -0.225775 -0.638672  0.101288 -0.339846  0.167170   \n",
              "2  0.247676 -1.514654  ...  0.247998  0.771679  0.909412 -0.689281 -0.327642   \n",
              "3  0.377436 -1.387024  ... -0.108300  0.005274 -0.190321 -1.175575  0.647376   \n",
              "4 -0.270533  0.817739  ... -0.009431  0.798278 -0.137458  0.141267 -0.206010   \n",
              "\n",
              "        V26       V27       V28  Amount  Class  \n",
              "0 -0.189115  0.133558 -0.021053  149.62      0  \n",
              "1  0.125895 -0.008983  0.014724    2.69      1  \n",
              "2 -0.139097 -0.055353 -0.059752  378.66      0  \n",
              "3 -0.221929  0.062723  0.061458  123.50      0  \n",
              "4  0.502292  0.219422  0.215153   69.99      0  \n",
              "\n",
              "[5 rows x 31 columns]"
            ],
            "text/html": [
              "\n",
              "  <div id=\"df-7514e55d-a079-4d8c-a1a9-b554f8b1e243\">\n",
              "    <div class=\"colab-df-container\">\n",
              "      <div>\n",
              "<style scoped>\n",
              "    .dataframe tbody tr th:only-of-type {\n",
              "        vertical-align: middle;\n",
              "    }\n",
              "\n",
              "    .dataframe tbody tr th {\n",
              "        vertical-align: top;\n",
              "    }\n",
              "\n",
              "    .dataframe thead th {\n",
              "        text-align: right;\n",
              "    }\n",
              "</style>\n",
              "<table border=\"1\" class=\"dataframe\">\n",
              "  <thead>\n",
              "    <tr style=\"text-align: right;\">\n",
              "      <th></th>\n",
              "      <th>Time</th>\n",
              "      <th>V1</th>\n",
              "      <th>V2</th>\n",
              "      <th>V3</th>\n",
              "      <th>V4</th>\n",
              "      <th>V5</th>\n",
              "      <th>V6</th>\n",
              "      <th>V7</th>\n",
              "      <th>V8</th>\n",
              "      <th>V9</th>\n",
              "      <th>...</th>\n",
              "      <th>V21</th>\n",
              "      <th>V22</th>\n",
              "      <th>V23</th>\n",
              "      <th>V24</th>\n",
              "      <th>V25</th>\n",
              "      <th>V26</th>\n",
              "      <th>V27</th>\n",
              "      <th>V28</th>\n",
              "      <th>Amount</th>\n",
              "      <th>Class</th>\n",
              "    </tr>\n",
              "  </thead>\n",
              "  <tbody>\n",
              "    <tr>\n",
              "      <th>0</th>\n",
              "      <td>0</td>\n",
              "      <td>-1.359807</td>\n",
              "      <td>-0.072781</td>\n",
              "      <td>2.536347</td>\n",
              "      <td>1.378155</td>\n",
              "      <td>-0.338321</td>\n",
              "      <td>0.462388</td>\n",
              "      <td>0.239599</td>\n",
              "      <td>0.098698</td>\n",
              "      <td>0.363787</td>\n",
              "      <td>...</td>\n",
              "      <td>-0.018307</td>\n",
              "      <td>0.277838</td>\n",
              "      <td>-0.110474</td>\n",
              "      <td>0.066928</td>\n",
              "      <td>0.128539</td>\n",
              "      <td>-0.189115</td>\n",
              "      <td>0.133558</td>\n",
              "      <td>-0.021053</td>\n",
              "      <td>149.62</td>\n",
              "      <td>0</td>\n",
              "    </tr>\n",
              "    <tr>\n",
              "      <th>1</th>\n",
              "      <td>0</td>\n",
              "      <td>1.191857</td>\n",
              "      <td>0.266151</td>\n",
              "      <td>0.166480</td>\n",
              "      <td>0.448154</td>\n",
              "      <td>0.060018</td>\n",
              "      <td>-0.082361</td>\n",
              "      <td>-0.078803</td>\n",
              "      <td>0.085102</td>\n",
              "      <td>-0.255425</td>\n",
              "      <td>...</td>\n",
              "      <td>-0.225775</td>\n",
              "      <td>-0.638672</td>\n",
              "      <td>0.101288</td>\n",
              "      <td>-0.339846</td>\n",
              "      <td>0.167170</td>\n",
              "      <td>0.125895</td>\n",
              "      <td>-0.008983</td>\n",
              "      <td>0.014724</td>\n",
              "      <td>2.69</td>\n",
              "      <td>1</td>\n",
              "    </tr>\n",
              "    <tr>\n",
              "      <th>2</th>\n",
              "      <td>1</td>\n",
              "      <td>-1.358354</td>\n",
              "      <td>-1.340163</td>\n",
              "      <td>1.773209</td>\n",
              "      <td>0.379780</td>\n",
              "      <td>-0.503198</td>\n",
              "      <td>1.800499</td>\n",
              "      <td>0.791461</td>\n",
              "      <td>0.247676</td>\n",
              "      <td>-1.514654</td>\n",
              "      <td>...</td>\n",
              "      <td>0.247998</td>\n",
              "      <td>0.771679</td>\n",
              "      <td>0.909412</td>\n",
              "      <td>-0.689281</td>\n",
              "      <td>-0.327642</td>\n",
              "      <td>-0.139097</td>\n",
              "      <td>-0.055353</td>\n",
              "      <td>-0.059752</td>\n",
              "      <td>378.66</td>\n",
              "      <td>0</td>\n",
              "    </tr>\n",
              "    <tr>\n",
              "      <th>3</th>\n",
              "      <td>1</td>\n",
              "      <td>-0.966272</td>\n",
              "      <td>-0.185226</td>\n",
              "      <td>1.792993</td>\n",
              "      <td>-0.863291</td>\n",
              "      <td>-0.010309</td>\n",
              "      <td>1.247203</td>\n",
              "      <td>0.237609</td>\n",
              "      <td>0.377436</td>\n",
              "      <td>-1.387024</td>\n",
              "      <td>...</td>\n",
              "      <td>-0.108300</td>\n",
              "      <td>0.005274</td>\n",
              "      <td>-0.190321</td>\n",
              "      <td>-1.175575</td>\n",
              "      <td>0.647376</td>\n",
              "      <td>-0.221929</td>\n",
              "      <td>0.062723</td>\n",
              "      <td>0.061458</td>\n",
              "      <td>123.50</td>\n",
              "      <td>0</td>\n",
              "    </tr>\n",
              "    <tr>\n",
              "      <th>4</th>\n",
              "      <td>2</td>\n",
              "      <td>-1.158233</td>\n",
              "      <td>0.877737</td>\n",
              "      <td>1.548718</td>\n",
              "      <td>0.403034</td>\n",
              "      <td>-0.407193</td>\n",
              "      <td>0.095921</td>\n",
              "      <td>0.592941</td>\n",
              "      <td>-0.270533</td>\n",
              "      <td>0.817739</td>\n",
              "      <td>...</td>\n",
              "      <td>-0.009431</td>\n",
              "      <td>0.798278</td>\n",
              "      <td>-0.137458</td>\n",
              "      <td>0.141267</td>\n",
              "      <td>-0.206010</td>\n",
              "      <td>0.502292</td>\n",
              "      <td>0.219422</td>\n",
              "      <td>0.215153</td>\n",
              "      <td>69.99</td>\n",
              "      <td>0</td>\n",
              "    </tr>\n",
              "  </tbody>\n",
              "</table>\n",
              "<p>5 rows × 31 columns</p>\n",
              "</div>\n",
              "      <button class=\"colab-df-convert\" onclick=\"convertToInteractive('df-7514e55d-a079-4d8c-a1a9-b554f8b1e243')\"\n",
              "              title=\"Convert this dataframe to an interactive table.\"\n",
              "              style=\"display:none;\">\n",
              "        \n",
              "  <svg xmlns=\"http://www.w3.org/2000/svg\" height=\"24px\"viewBox=\"0 0 24 24\"\n",
              "       width=\"24px\">\n",
              "    <path d=\"M0 0h24v24H0V0z\" fill=\"none\"/>\n",
              "    <path d=\"M18.56 5.44l.94 2.06.94-2.06 2.06-.94-2.06-.94-.94-2.06-.94 2.06-2.06.94zm-11 1L8.5 8.5l.94-2.06 2.06-.94-2.06-.94L8.5 2.5l-.94 2.06-2.06.94zm10 10l.94 2.06.94-2.06 2.06-.94-2.06-.94-.94-2.06-.94 2.06-2.06.94z\"/><path d=\"M17.41 7.96l-1.37-1.37c-.4-.4-.92-.59-1.43-.59-.52 0-1.04.2-1.43.59L10.3 9.45l-7.72 7.72c-.78.78-.78 2.05 0 2.83L4 21.41c.39.39.9.59 1.41.59.51 0 1.02-.2 1.41-.59l7.78-7.78 2.81-2.81c.8-.78.8-2.07 0-2.86zM5.41 20L4 18.59l7.72-7.72 1.47 1.35L5.41 20z\"/>\n",
              "  </svg>\n",
              "      </button>\n",
              "      \n",
              "  <style>\n",
              "    .colab-df-container {\n",
              "      display:flex;\n",
              "      flex-wrap:wrap;\n",
              "      gap: 12px;\n",
              "    }\n",
              "\n",
              "    .colab-df-convert {\n",
              "      background-color: #E8F0FE;\n",
              "      border: none;\n",
              "      border-radius: 50%;\n",
              "      cursor: pointer;\n",
              "      display: none;\n",
              "      fill: #1967D2;\n",
              "      height: 32px;\n",
              "      padding: 0 0 0 0;\n",
              "      width: 32px;\n",
              "    }\n",
              "\n",
              "    .colab-df-convert:hover {\n",
              "      background-color: #E2EBFA;\n",
              "      box-shadow: 0px 1px 2px rgba(60, 64, 67, 0.3), 0px 1px 3px 1px rgba(60, 64, 67, 0.15);\n",
              "      fill: #174EA6;\n",
              "    }\n",
              "\n",
              "    [theme=dark] .colab-df-convert {\n",
              "      background-color: #3B4455;\n",
              "      fill: #D2E3FC;\n",
              "    }\n",
              "\n",
              "    [theme=dark] .colab-df-convert:hover {\n",
              "      background-color: #434B5C;\n",
              "      box-shadow: 0px 1px 3px 1px rgba(0, 0, 0, 0.15);\n",
              "      filter: drop-shadow(0px 1px 2px rgba(0, 0, 0, 0.3));\n",
              "      fill: #FFFFFF;\n",
              "    }\n",
              "  </style>\n",
              "\n",
              "      <script>\n",
              "        const buttonEl =\n",
              "          document.querySelector('#df-7514e55d-a079-4d8c-a1a9-b554f8b1e243 button.colab-df-convert');\n",
              "        buttonEl.style.display =\n",
              "          google.colab.kernel.accessAllowed ? 'block' : 'none';\n",
              "\n",
              "        async function convertToInteractive(key) {\n",
              "          const element = document.querySelector('#df-7514e55d-a079-4d8c-a1a9-b554f8b1e243');\n",
              "          const dataTable =\n",
              "            await google.colab.kernel.invokeFunction('convertToInteractive',\n",
              "                                                     [key], {});\n",
              "          if (!dataTable) return;\n",
              "\n",
              "          const docLinkHtml = 'Like what you see? Visit the ' +\n",
              "            '<a target=\"_blank\" href=https://colab.research.google.com/notebooks/data_table.ipynb>data table notebook</a>'\n",
              "            + ' to learn more about interactive tables.';\n",
              "          element.innerHTML = '';\n",
              "          dataTable['output_type'] = 'display_data';\n",
              "          await google.colab.output.renderOutput(dataTable, element);\n",
              "          const docLink = document.createElement('div');\n",
              "          docLink.innerHTML = docLinkHtml;\n",
              "          element.appendChild(docLink);\n",
              "        }\n",
              "      </script>\n",
              "    </div>\n",
              "  </div>\n",
              "  "
            ]
          },
          "metadata": {},
          "execution_count": 5
        }
      ]
    },
    {
      "cell_type": "code",
      "source": [
        "df.info()"
      ],
      "metadata": {
        "colab": {
          "base_uri": "https://localhost:8080/"
        },
        "id": "B7Jar2CDRCQf",
        "outputId": "e2aca00b-7009-4ff0-acc2-435638905841"
      },
      "execution_count": null,
      "outputs": [
        {
          "output_type": "stream",
          "name": "stdout",
          "text": [
            "<class 'pandas.core.frame.DataFrame'>\n",
            "RangeIndex: 772 entries, 0 to 771\n",
            "Data columns (total 31 columns):\n",
            " #   Column  Non-Null Count  Dtype  \n",
            "---  ------  --------------  -----  \n",
            " 0   Time    772 non-null    int64  \n",
            " 1   V1      772 non-null    float64\n",
            " 2   V2      772 non-null    float64\n",
            " 3   V3      772 non-null    float64\n",
            " 4   V4      772 non-null    float64\n",
            " 5   V5      772 non-null    float64\n",
            " 6   V6      772 non-null    float64\n",
            " 7   V7      772 non-null    float64\n",
            " 8   V8      772 non-null    float64\n",
            " 9   V9      772 non-null    float64\n",
            " 10  V10     772 non-null    float64\n",
            " 11  V11     772 non-null    float64\n",
            " 12  V12     772 non-null    float64\n",
            " 13  V13     772 non-null    float64\n",
            " 14  V14     772 non-null    float64\n",
            " 15  V15     772 non-null    float64\n",
            " 16  V16     772 non-null    float64\n",
            " 17  V17     772 non-null    float64\n",
            " 18  V18     772 non-null    float64\n",
            " 19  V19     772 non-null    float64\n",
            " 20  V20     772 non-null    float64\n",
            " 21  V21     772 non-null    float64\n",
            " 22  V22     772 non-null    float64\n",
            " 23  V23     772 non-null    float64\n",
            " 24  V24     772 non-null    float64\n",
            " 25  V25     772 non-null    float64\n",
            " 26  V26     772 non-null    float64\n",
            " 27  V27     772 non-null    float64\n",
            " 28  V28     772 non-null    float64\n",
            " 29  Amount  772 non-null    float64\n",
            " 30  Class   772 non-null    int64  \n",
            "dtypes: float64(29), int64(2)\n",
            "memory usage: 187.1 KB\n"
          ]
        }
      ]
    },
    {
      "cell_type": "code",
      "source": [
        "df.describe()"
      ],
      "metadata": {
        "colab": {
          "base_uri": "https://localhost:8080/",
          "height": 393
        },
        "id": "WWc-jZf8RKeQ",
        "outputId": "9a0a1aa7-6883-4341-af97-1d409a864d85"
      },
      "execution_count": null,
      "outputs": [
        {
          "output_type": "execute_result",
          "data": {
            "text/plain": [
              "             Time          V1          V2          V3          V4          V5  \\\n",
              "count  772.000000  772.000000  772.000000  772.000000  772.000000  772.000000   \n",
              "mean   283.005181   -0.176963    0.217169    0.875172    0.285628   -0.005029   \n",
              "std    171.834196    1.294724    1.173401    1.031878    1.258758    1.098143   \n",
              "min      0.000000   -6.093248  -12.114213   -5.694973   -4.657545   -6.631951   \n",
              "25%    126.500000   -0.896416   -0.174684    0.308677   -0.460058   -0.534567   \n",
              "50%    282.000000   -0.382618    0.285843    0.905435    0.395919   -0.116612   \n",
              "75%    432.000000    1.110739    0.885745    1.532969    1.117559    0.452818   \n",
              "max    581.000000    1.586093    5.267376    3.772857    4.075817    7.672544   \n",
              "\n",
              "               V6          V7          V8          V9  ...         V21  \\\n",
              "count  772.000000  772.000000  772.000000  772.000000  ...  772.000000   \n",
              "mean     0.159081    0.123329   -0.057547   -0.030384  ...    0.004888   \n",
              "std      1.225682    0.852075    0.830144    0.878183  ...    0.609335   \n",
              "min     -3.498447   -4.925568   -7.494658   -2.770089  ...   -4.134608   \n",
              "25%     -0.630717   -0.296289   -0.167880   -0.517068  ...   -0.213746   \n",
              "50%     -0.109581    0.116329    0.034755   -0.082270  ...   -0.075802   \n",
              "75%      0.482972    0.575390    0.252395    0.412261  ...    0.095149   \n",
              "max      5.122103    4.808426    2.134599    5.459274  ...    5.273420   \n",
              "\n",
              "              V22         V23         V24         V25         V26         V27  \\\n",
              "count  772.000000  772.000000  772.000000  772.000000  772.000000  772.000000   \n",
              "mean    -0.096995   -0.040344   -0.002501    0.114337    0.022782    0.023353   \n",
              "std      0.607228    0.358724    0.621507    0.429667    0.484227    0.300934   \n",
              "min     -2.776923   -3.553381   -1.867208   -1.389079   -1.243924   -2.377933   \n",
              "25%     -0.525289   -0.176915   -0.379766   -0.166227   -0.313631   -0.047868   \n",
              "50%     -0.076551   -0.048353    0.091886    0.143723   -0.026414    0.023199   \n",
              "75%      0.307438    0.070085    0.426339    0.425798    0.260408    0.112199   \n",
              "max      1.574750    3.150413    1.215279    1.136720    3.087444    2.490503   \n",
              "\n",
              "              V28       Amount       Class  \n",
              "count  772.000000   772.000000  772.000000  \n",
              "mean    -0.017045    68.668290    0.011658  \n",
              "std      0.278332   197.838269    0.107411  \n",
              "min     -2.735623     0.000000    0.000000  \n",
              "25%     -0.033083     5.987500    0.000000  \n",
              "50%      0.021034    16.665000    0.000000  \n",
              "75%      0.087023    55.527500    0.000000  \n",
              "max      1.575380  3828.040000    1.000000  \n",
              "\n",
              "[8 rows x 31 columns]"
            ],
            "text/html": [
              "\n",
              "  <div id=\"df-9f65ddc6-624c-4da4-b644-987030feaca9\">\n",
              "    <div class=\"colab-df-container\">\n",
              "      <div>\n",
              "<style scoped>\n",
              "    .dataframe tbody tr th:only-of-type {\n",
              "        vertical-align: middle;\n",
              "    }\n",
              "\n",
              "    .dataframe tbody tr th {\n",
              "        vertical-align: top;\n",
              "    }\n",
              "\n",
              "    .dataframe thead th {\n",
              "        text-align: right;\n",
              "    }\n",
              "</style>\n",
              "<table border=\"1\" class=\"dataframe\">\n",
              "  <thead>\n",
              "    <tr style=\"text-align: right;\">\n",
              "      <th></th>\n",
              "      <th>Time</th>\n",
              "      <th>V1</th>\n",
              "      <th>V2</th>\n",
              "      <th>V3</th>\n",
              "      <th>V4</th>\n",
              "      <th>V5</th>\n",
              "      <th>V6</th>\n",
              "      <th>V7</th>\n",
              "      <th>V8</th>\n",
              "      <th>V9</th>\n",
              "      <th>...</th>\n",
              "      <th>V21</th>\n",
              "      <th>V22</th>\n",
              "      <th>V23</th>\n",
              "      <th>V24</th>\n",
              "      <th>V25</th>\n",
              "      <th>V26</th>\n",
              "      <th>V27</th>\n",
              "      <th>V28</th>\n",
              "      <th>Amount</th>\n",
              "      <th>Class</th>\n",
              "    </tr>\n",
              "  </thead>\n",
              "  <tbody>\n",
              "    <tr>\n",
              "      <th>count</th>\n",
              "      <td>772.000000</td>\n",
              "      <td>772.000000</td>\n",
              "      <td>772.000000</td>\n",
              "      <td>772.000000</td>\n",
              "      <td>772.000000</td>\n",
              "      <td>772.000000</td>\n",
              "      <td>772.000000</td>\n",
              "      <td>772.000000</td>\n",
              "      <td>772.000000</td>\n",
              "      <td>772.000000</td>\n",
              "      <td>...</td>\n",
              "      <td>772.000000</td>\n",
              "      <td>772.000000</td>\n",
              "      <td>772.000000</td>\n",
              "      <td>772.000000</td>\n",
              "      <td>772.000000</td>\n",
              "      <td>772.000000</td>\n",
              "      <td>772.000000</td>\n",
              "      <td>772.000000</td>\n",
              "      <td>772.000000</td>\n",
              "      <td>772.000000</td>\n",
              "    </tr>\n",
              "    <tr>\n",
              "      <th>mean</th>\n",
              "      <td>283.005181</td>\n",
              "      <td>-0.176963</td>\n",
              "      <td>0.217169</td>\n",
              "      <td>0.875172</td>\n",
              "      <td>0.285628</td>\n",
              "      <td>-0.005029</td>\n",
              "      <td>0.159081</td>\n",
              "      <td>0.123329</td>\n",
              "      <td>-0.057547</td>\n",
              "      <td>-0.030384</td>\n",
              "      <td>...</td>\n",
              "      <td>0.004888</td>\n",
              "      <td>-0.096995</td>\n",
              "      <td>-0.040344</td>\n",
              "      <td>-0.002501</td>\n",
              "      <td>0.114337</td>\n",
              "      <td>0.022782</td>\n",
              "      <td>0.023353</td>\n",
              "      <td>-0.017045</td>\n",
              "      <td>68.668290</td>\n",
              "      <td>0.011658</td>\n",
              "    </tr>\n",
              "    <tr>\n",
              "      <th>std</th>\n",
              "      <td>171.834196</td>\n",
              "      <td>1.294724</td>\n",
              "      <td>1.173401</td>\n",
              "      <td>1.031878</td>\n",
              "      <td>1.258758</td>\n",
              "      <td>1.098143</td>\n",
              "      <td>1.225682</td>\n",
              "      <td>0.852075</td>\n",
              "      <td>0.830144</td>\n",
              "      <td>0.878183</td>\n",
              "      <td>...</td>\n",
              "      <td>0.609335</td>\n",
              "      <td>0.607228</td>\n",
              "      <td>0.358724</td>\n",
              "      <td>0.621507</td>\n",
              "      <td>0.429667</td>\n",
              "      <td>0.484227</td>\n",
              "      <td>0.300934</td>\n",
              "      <td>0.278332</td>\n",
              "      <td>197.838269</td>\n",
              "      <td>0.107411</td>\n",
              "    </tr>\n",
              "    <tr>\n",
              "      <th>min</th>\n",
              "      <td>0.000000</td>\n",
              "      <td>-6.093248</td>\n",
              "      <td>-12.114213</td>\n",
              "      <td>-5.694973</td>\n",
              "      <td>-4.657545</td>\n",
              "      <td>-6.631951</td>\n",
              "      <td>-3.498447</td>\n",
              "      <td>-4.925568</td>\n",
              "      <td>-7.494658</td>\n",
              "      <td>-2.770089</td>\n",
              "      <td>...</td>\n",
              "      <td>-4.134608</td>\n",
              "      <td>-2.776923</td>\n",
              "      <td>-3.553381</td>\n",
              "      <td>-1.867208</td>\n",
              "      <td>-1.389079</td>\n",
              "      <td>-1.243924</td>\n",
              "      <td>-2.377933</td>\n",
              "      <td>-2.735623</td>\n",
              "      <td>0.000000</td>\n",
              "      <td>0.000000</td>\n",
              "    </tr>\n",
              "    <tr>\n",
              "      <th>25%</th>\n",
              "      <td>126.500000</td>\n",
              "      <td>-0.896416</td>\n",
              "      <td>-0.174684</td>\n",
              "      <td>0.308677</td>\n",
              "      <td>-0.460058</td>\n",
              "      <td>-0.534567</td>\n",
              "      <td>-0.630717</td>\n",
              "      <td>-0.296289</td>\n",
              "      <td>-0.167880</td>\n",
              "      <td>-0.517068</td>\n",
              "      <td>...</td>\n",
              "      <td>-0.213746</td>\n",
              "      <td>-0.525289</td>\n",
              "      <td>-0.176915</td>\n",
              "      <td>-0.379766</td>\n",
              "      <td>-0.166227</td>\n",
              "      <td>-0.313631</td>\n",
              "      <td>-0.047868</td>\n",
              "      <td>-0.033083</td>\n",
              "      <td>5.987500</td>\n",
              "      <td>0.000000</td>\n",
              "    </tr>\n",
              "    <tr>\n",
              "      <th>50%</th>\n",
              "      <td>282.000000</td>\n",
              "      <td>-0.382618</td>\n",
              "      <td>0.285843</td>\n",
              "      <td>0.905435</td>\n",
              "      <td>0.395919</td>\n",
              "      <td>-0.116612</td>\n",
              "      <td>-0.109581</td>\n",
              "      <td>0.116329</td>\n",
              "      <td>0.034755</td>\n",
              "      <td>-0.082270</td>\n",
              "      <td>...</td>\n",
              "      <td>-0.075802</td>\n",
              "      <td>-0.076551</td>\n",
              "      <td>-0.048353</td>\n",
              "      <td>0.091886</td>\n",
              "      <td>0.143723</td>\n",
              "      <td>-0.026414</td>\n",
              "      <td>0.023199</td>\n",
              "      <td>0.021034</td>\n",
              "      <td>16.665000</td>\n",
              "      <td>0.000000</td>\n",
              "    </tr>\n",
              "    <tr>\n",
              "      <th>75%</th>\n",
              "      <td>432.000000</td>\n",
              "      <td>1.110739</td>\n",
              "      <td>0.885745</td>\n",
              "      <td>1.532969</td>\n",
              "      <td>1.117559</td>\n",
              "      <td>0.452818</td>\n",
              "      <td>0.482972</td>\n",
              "      <td>0.575390</td>\n",
              "      <td>0.252395</td>\n",
              "      <td>0.412261</td>\n",
              "      <td>...</td>\n",
              "      <td>0.095149</td>\n",
              "      <td>0.307438</td>\n",
              "      <td>0.070085</td>\n",
              "      <td>0.426339</td>\n",
              "      <td>0.425798</td>\n",
              "      <td>0.260408</td>\n",
              "      <td>0.112199</td>\n",
              "      <td>0.087023</td>\n",
              "      <td>55.527500</td>\n",
              "      <td>0.000000</td>\n",
              "    </tr>\n",
              "    <tr>\n",
              "      <th>max</th>\n",
              "      <td>581.000000</td>\n",
              "      <td>1.586093</td>\n",
              "      <td>5.267376</td>\n",
              "      <td>3.772857</td>\n",
              "      <td>4.075817</td>\n",
              "      <td>7.672544</td>\n",
              "      <td>5.122103</td>\n",
              "      <td>4.808426</td>\n",
              "      <td>2.134599</td>\n",
              "      <td>5.459274</td>\n",
              "      <td>...</td>\n",
              "      <td>5.273420</td>\n",
              "      <td>1.574750</td>\n",
              "      <td>3.150413</td>\n",
              "      <td>1.215279</td>\n",
              "      <td>1.136720</td>\n",
              "      <td>3.087444</td>\n",
              "      <td>2.490503</td>\n",
              "      <td>1.575380</td>\n",
              "      <td>3828.040000</td>\n",
              "      <td>1.000000</td>\n",
              "    </tr>\n",
              "  </tbody>\n",
              "</table>\n",
              "<p>8 rows × 31 columns</p>\n",
              "</div>\n",
              "      <button class=\"colab-df-convert\" onclick=\"convertToInteractive('df-9f65ddc6-624c-4da4-b644-987030feaca9')\"\n",
              "              title=\"Convert this dataframe to an interactive table.\"\n",
              "              style=\"display:none;\">\n",
              "        \n",
              "  <svg xmlns=\"http://www.w3.org/2000/svg\" height=\"24px\"viewBox=\"0 0 24 24\"\n",
              "       width=\"24px\">\n",
              "    <path d=\"M0 0h24v24H0V0z\" fill=\"none\"/>\n",
              "    <path d=\"M18.56 5.44l.94 2.06.94-2.06 2.06-.94-2.06-.94-.94-2.06-.94 2.06-2.06.94zm-11 1L8.5 8.5l.94-2.06 2.06-.94-2.06-.94L8.5 2.5l-.94 2.06-2.06.94zm10 10l.94 2.06.94-2.06 2.06-.94-2.06-.94-.94-2.06-.94 2.06-2.06.94z\"/><path d=\"M17.41 7.96l-1.37-1.37c-.4-.4-.92-.59-1.43-.59-.52 0-1.04.2-1.43.59L10.3 9.45l-7.72 7.72c-.78.78-.78 2.05 0 2.83L4 21.41c.39.39.9.59 1.41.59.51 0 1.02-.2 1.41-.59l7.78-7.78 2.81-2.81c.8-.78.8-2.07 0-2.86zM5.41 20L4 18.59l7.72-7.72 1.47 1.35L5.41 20z\"/>\n",
              "  </svg>\n",
              "      </button>\n",
              "      \n",
              "  <style>\n",
              "    .colab-df-container {\n",
              "      display:flex;\n",
              "      flex-wrap:wrap;\n",
              "      gap: 12px;\n",
              "    }\n",
              "\n",
              "    .colab-df-convert {\n",
              "      background-color: #E8F0FE;\n",
              "      border: none;\n",
              "      border-radius: 50%;\n",
              "      cursor: pointer;\n",
              "      display: none;\n",
              "      fill: #1967D2;\n",
              "      height: 32px;\n",
              "      padding: 0 0 0 0;\n",
              "      width: 32px;\n",
              "    }\n",
              "\n",
              "    .colab-df-convert:hover {\n",
              "      background-color: #E2EBFA;\n",
              "      box-shadow: 0px 1px 2px rgba(60, 64, 67, 0.3), 0px 1px 3px 1px rgba(60, 64, 67, 0.15);\n",
              "      fill: #174EA6;\n",
              "    }\n",
              "\n",
              "    [theme=dark] .colab-df-convert {\n",
              "      background-color: #3B4455;\n",
              "      fill: #D2E3FC;\n",
              "    }\n",
              "\n",
              "    [theme=dark] .colab-df-convert:hover {\n",
              "      background-color: #434B5C;\n",
              "      box-shadow: 0px 1px 3px 1px rgba(0, 0, 0, 0.15);\n",
              "      filter: drop-shadow(0px 1px 2px rgba(0, 0, 0, 0.3));\n",
              "      fill: #FFFFFF;\n",
              "    }\n",
              "  </style>\n",
              "\n",
              "      <script>\n",
              "        const buttonEl =\n",
              "          document.querySelector('#df-9f65ddc6-624c-4da4-b644-987030feaca9 button.colab-df-convert');\n",
              "        buttonEl.style.display =\n",
              "          google.colab.kernel.accessAllowed ? 'block' : 'none';\n",
              "\n",
              "        async function convertToInteractive(key) {\n",
              "          const element = document.querySelector('#df-9f65ddc6-624c-4da4-b644-987030feaca9');\n",
              "          const dataTable =\n",
              "            await google.colab.kernel.invokeFunction('convertToInteractive',\n",
              "                                                     [key], {});\n",
              "          if (!dataTable) return;\n",
              "\n",
              "          const docLinkHtml = 'Like what you see? Visit the ' +\n",
              "            '<a target=\"_blank\" href=https://colab.research.google.com/notebooks/data_table.ipynb>data table notebook</a>'\n",
              "            + ' to learn more about interactive tables.';\n",
              "          element.innerHTML = '';\n",
              "          dataTable['output_type'] = 'display_data';\n",
              "          await google.colab.output.renderOutput(dataTable, element);\n",
              "          const docLink = document.createElement('div');\n",
              "          docLink.innerHTML = docLinkHtml;\n",
              "          element.appendChild(docLink);\n",
              "        }\n",
              "      </script>\n",
              "    </div>\n",
              "  </div>\n",
              "  "
            ]
          },
          "metadata": {},
          "execution_count": 7
        }
      ]
    },
    {
      "cell_type": "code",
      "source": [
        "df.dtypes"
      ],
      "metadata": {
        "colab": {
          "base_uri": "https://localhost:8080/"
        },
        "id": "NMes7RfVRnzK",
        "outputId": "9a7a002a-4ba0-499d-9507-92c8c7ead346"
      },
      "execution_count": null,
      "outputs": [
        {
          "output_type": "execute_result",
          "data": {
            "text/plain": [
              "Time        int64\n",
              "V1        float64\n",
              "V2        float64\n",
              "V3        float64\n",
              "V4        float64\n",
              "V5        float64\n",
              "V6        float64\n",
              "V7        float64\n",
              "V8        float64\n",
              "V9        float64\n",
              "V10       float64\n",
              "V11       float64\n",
              "V12       float64\n",
              "V13       float64\n",
              "V14       float64\n",
              "V15       float64\n",
              "V16       float64\n",
              "V17       float64\n",
              "V18       float64\n",
              "V19       float64\n",
              "V20       float64\n",
              "V21       float64\n",
              "V22       float64\n",
              "V23       float64\n",
              "V24       float64\n",
              "V25       float64\n",
              "V26       float64\n",
              "V27       float64\n",
              "V28       float64\n",
              "Amount    float64\n",
              "Class       int64\n",
              "dtype: object"
            ]
          },
          "metadata": {},
          "execution_count": 8
        }
      ]
    },
    {
      "cell_type": "code",
      "source": [
        "# Checking Null Values\n",
        "df.isnull().sum()"
      ],
      "metadata": {
        "colab": {
          "base_uri": "https://localhost:8080/"
        },
        "id": "Drwm0BakSgJr",
        "outputId": "944d3124-0849-4e66-b86b-f66d03537f62"
      },
      "execution_count": null,
      "outputs": [
        {
          "output_type": "execute_result",
          "data": {
            "text/plain": [
              "Time      0\n",
              "V1        0\n",
              "V2        0\n",
              "V3        0\n",
              "V4        0\n",
              "V5        0\n",
              "V6        0\n",
              "V7        0\n",
              "V8        0\n",
              "V9        0\n",
              "V10       0\n",
              "V11       0\n",
              "V12       0\n",
              "V13       0\n",
              "V14       0\n",
              "V15       0\n",
              "V16       0\n",
              "V17       0\n",
              "V18       0\n",
              "V19       0\n",
              "V20       0\n",
              "V21       0\n",
              "V22       0\n",
              "V23       0\n",
              "V24       0\n",
              "V25       0\n",
              "V26       0\n",
              "V27       0\n",
              "V28       0\n",
              "Amount    0\n",
              "Class     0\n",
              "dtype: int64"
            ]
          },
          "metadata": {},
          "execution_count": 9
        }
      ]
    },
    {
      "cell_type": "code",
      "source": [
        "#Checking for missing values\n",
        "import missingno as msno\n",
        "# Gives a bar chart of the missing values\n",
        "msno.bar(df)"
      ],
      "metadata": {
        "colab": {
          "base_uri": "https://localhost:8080/",
          "height": 417
        },
        "id": "gRKNoTn7Sru5",
        "outputId": "338b1fcb-9f3c-466d-d8cc-a460bbf6ad46"
      },
      "execution_count": null,
      "outputs": [
        {
          "output_type": "execute_result",
          "data": {
            "text/plain": [
              "<matplotlib.axes._subplots.AxesSubplot at 0x7f440f6a6fd0>"
            ]
          },
          "metadata": {},
          "execution_count": 10
        },
        {
          "output_type": "display_data",
          "data": {
            "text/plain": [
              "<Figure size 1800x720 with 3 Axes>"
            ],
            "image/png": "[encoded data removed]"
          },
          "metadata": {
            "needs_background": "light"
          }
        }
      ]
    },
    {
      "cell_type": "code",
      "source": [
        "# Unique value and Count\n",
        "#df.Class.unique()\n",
        "df['Class'].unique()"
      ],
      "metadata": {
        "colab": {
          "base_uri": "https://localhost:8080/"
        },
        "id": "drdU3m7cTXXD",
        "outputId": "dadc926d-6f8e-4cc4-f574-3550b7c06ddf"
      },
      "execution_count": null,
      "outputs": [
        {
          "output_type": "execute_result",
          "data": {
            "text/plain": [
              "array([0, 1])"
            ]
          },
          "metadata": {},
          "execution_count": 11
        }
      ]
    },
    {
      "cell_type": "code",
      "source": [
        "df['Class'].value_counts()"
      ],
      "metadata": {
        "colab": {
          "base_uri": "https://localhost:8080/"
        },
        "id": "IGQHYN-LT6ls",
        "outputId": "7d4e2931-bf3b-4908-b24f-b45913b76a26"
      },
      "execution_count": null,
      "outputs": [
        {
          "output_type": "execute_result",
          "data": {
            "text/plain": [
              "0    763\n",
              "1      9\n",
              "Name: Class, dtype: int64"
            ]
          },
          "metadata": {},
          "execution_count": 12
        }
      ]
    },
    {
      "cell_type": "code",
      "source": [
        "#Plot Column 'Class'\n",
        "import matplotlib.pyplot as plt\n",
        "df['Class'].value_counts().plot(kind='bar')"
      ],
      "metadata": {
        "colab": {
          "base_uri": "https://localhost:8080/",
          "height": 282
        },
        "id": "__0O2DKZY9QC",
        "outputId": "3febbe3c-89a4-48d9-df1a-aee8f00a8e8a"
      },
      "execution_count": null,
      "outputs": [
        {
          "output_type": "execute_result",
          "data": {
            "text/plain": [
              "<matplotlib.axes._subplots.AxesSubplot at 0x7f440f3af7c0>"
            ]
          },
          "metadata": {},
          "execution_count": 14
        },
        {
          "output_type": "display_data",
          "data": {
            "text/plain": [
              "<Figure size 432x288 with 1 Axes>"
            ],
            "image/png": "[encoded data removed]"
          },
          "metadata": {
            "needs_background": "light"
          }
        }
      ]
    },
    {
      "cell_type": "markdown",
      "source": [
        "Hence,Imbalanced Dataset"
      ],
      "metadata": {
        "id": "8Qd3FX9AQeCd"
      }
    },
    {
      "cell_type": "markdown",
      "source": [
        "Scaling the Column 'Amount'"
      ],
      "metadata": {
        "id": "XNfuCFxIRBzE"
      }
    },
    {
      "cell_type": "code",
      "source": [
        "min(df.Amount),max(df.Amount)"
      ],
      "metadata": {
        "colab": {
          "base_uri": "https://localhost:8080/"
        },
        "id": "C7d5wu9_izSy",
        "outputId": "37c901ed-72d7-4620-ee38-e3705f8a382b"
      },
      "execution_count": null,
      "outputs": [
        {
          "output_type": "execute_result",
          "data": {
            "text/plain": [
              "(0.0, 3828.04)"
            ]
          },
          "metadata": {},
          "execution_count": 15
        }
      ]
    },
    {
      "cell_type": "code",
      "source": [
        "# Difference is huge\n",
        "from sklearn.preprocessing import StandardScaler\n",
        "sc = StandardScaler()\n",
        "amount = df['Amount'].values\n",
        "df['Amount'] = sc.fit_transform(amount.reshape(-1, 1))"
      ],
      "metadata": {
        "id": "irSylwOxi6b8"
      },
      "execution_count": null,
      "outputs": []
    },
    {
      "cell_type": "markdown",
      "source": [
        "Drop the duplicates"
      ],
      "metadata": {
        "id": "TmaA7De9lACE"
      }
    },
    {
      "cell_type": "code",
      "source": [
        "df.shape"
      ],
      "metadata": {
        "colab": {
          "base_uri": "https://localhost:8080/"
        },
        "id": "jGO_qB5ekaB0",
        "outputId": "490f86e4-a553-4e1d-c956-70b66a06669c"
      },
      "execution_count": null,
      "outputs": [
        {
          "output_type": "execute_result",
          "data": {
            "text/plain": [
              "(772, 31)"
            ]
          },
          "metadata": {},
          "execution_count": 17
        }
      ]
    },
    {
      "cell_type": "code",
      "source": [
        "df.drop_duplicates(inplace=True)"
      ],
      "metadata": {
        "id": "zmFBHdVkkYhR"
      },
      "execution_count": null,
      "outputs": []
    },
    {
      "cell_type": "code",
      "source": [
        "df.shape"
      ],
      "metadata": {
        "colab": {
          "base_uri": "https://localhost:8080/"
        },
        "id": "OSpLfamNkhbk",
        "outputId": "7ddf8cc1-fde5-44fd-dd61-9887eb01edde"
      },
      "execution_count": null,
      "outputs": [
        {
          "output_type": "execute_result",
          "data": {
            "text/plain": [
              "(765, 31)"
            ]
          },
          "metadata": {},
          "execution_count": 19
        }
      ]
    },
    {
      "cell_type": "markdown",
      "source": [
        "Drop Time column"
      ],
      "metadata": {
        "id": "y7pqWo7flEU0"
      }
    },
    {
      "cell_type": "code",
      "source": [
        "df['Time'].unique"
      ],
      "metadata": {
        "colab": {
          "base_uri": "https://localhost:8080/"
        },
        "id": "BzogCSjtT3ni",
        "outputId": "505cf895-3aab-41a2-b4a2-a9511f788118"
      },
      "execution_count": null,
      "outputs": [
        {
          "output_type": "execute_result",
          "data": {
            "text/plain": [
              "<bound method Series.unique of 0        0\n",
              "1        0\n",
              "2        1\n",
              "3        1\n",
              "4        2\n",
              "      ... \n",
              "767    575\n",
              "768    579\n",
              "769    579\n",
              "770    580\n",
              "771    581\n",
              "Name: Time, Length: 765, dtype: int64>"
            ]
          },
          "metadata": {},
          "execution_count": 21
        }
      ]
    },
    {
      "cell_type": "code",
      "source": [
        "df.drop(['Time'], axis=1, inplace=True)"
      ],
      "metadata": {
        "id": "vORNez4EkoC_"
      },
      "execution_count": null,
      "outputs": []
    },
    {
      "cell_type": "code",
      "source": [
        "df1=df"
      ],
      "metadata": {
        "id": "c0EcCbes1p9b"
      },
      "execution_count": null,
      "outputs": []
    },
    {
      "cell_type": "code",
      "source": [
        "#Extracting the columns:\n",
        "cols=df1.columns\n",
        "print(cols)"
      ],
      "metadata": {
        "colab": {
          "base_uri": "https://localhost:8080/"
        },
        "id": "-kgySNuY5Abr",
        "outputId": "6524896e-c1fa-46d0-d2db-89759ab27edb"
      },
      "execution_count": null,
      "outputs": [
        {
          "output_type": "stream",
          "name": "stdout",
          "text": [
            "Index(['V1', 'V2', 'V3', 'V4', 'V5', 'V6', 'V7', 'V8', 'V9', 'V10', 'V11',\n",
            "       'V12', 'V13', 'V14', 'V15', 'V16', 'V17', 'V18', 'V19', 'V20', 'V21',\n",
            "       'V22', 'V23', 'V24', 'V25', 'V26', 'V27', 'V28', 'Amount', 'Class'],\n",
            "      dtype='object')\n"
          ]
        }
      ]
    },
    {
      "cell_type": "code",
      "source": [
        "df1.head()"
      ],
      "metadata": {
        "colab": {
          "base_uri": "https://localhost:8080/",
          "height": 299
        },
        "id": "CZlHtBFjk00E",
        "outputId": "3fe14468-9226-4ee6-90c9-bc8337f9fe1c"
      },
      "execution_count": null,
      "outputs": [
        {
          "output_type": "execute_result",
          "data": {
            "text/plain": [
              "         V1        V2        V3        V4        V5        V6        V7  \\\n",
              "0 -1.359807 -0.072781  2.536347  1.378155 -0.338321  0.462388  0.239599   \n",
              "1  1.191857  0.266151  0.166480  0.448154  0.060018 -0.082361 -0.078803   \n",
              "2 -1.358354 -1.340163  1.773209  0.379780 -0.503198  1.800499  0.791461   \n",
              "3 -0.966272 -0.185226  1.792993 -0.863291 -0.010309  1.247203  0.237609   \n",
              "4 -1.158233  0.877737  1.548718  0.403034 -0.407193  0.095921  0.592941   \n",
              "\n",
              "         V8        V9       V10  ...       V21       V22       V23       V24  \\\n",
              "0  0.098698  0.363787  0.090794  ... -0.018307  0.277838 -0.110474  0.066928   \n",
              "1  0.085102 -0.255425 -0.166974  ... -0.225775 -0.638672  0.101288 -0.339846   \n",
              "2  0.247676 -1.514654  0.207643  ...  0.247998  0.771679  0.909412 -0.689281   \n",
              "3  0.377436 -1.387024 -0.054952  ... -0.108300  0.005274 -0.190321 -1.175575   \n",
              "4 -0.270533  0.817739  0.753074  ... -0.009431  0.798278 -0.137458  0.141267   \n",
              "\n",
              "        V25       V26       V27       V28    Amount  Class  \n",
              "0  0.128539 -0.189115  0.133558 -0.021053  0.409447      0  \n",
              "1  0.167170  0.125895 -0.008983  0.014724 -0.333712      1  \n",
              "2 -0.327642 -0.139097 -0.055353 -0.059752  1.567910      0  \n",
              "3  0.647376 -0.221929  0.062723  0.061458  0.277334      0  \n",
              "4 -0.206010  0.502292  0.219422  0.215153  0.006685      0  \n",
              "\n",
              "[5 rows x 30 columns]"
            ],
            "text/html": [
              "\n",
              "  <div id=\"df-add998f2-dbb3-4dbf-a4e6-7cc716399326\">\n",
              "    <div class=\"colab-df-container\">\n",
              "      <div>\n",
              "<style scoped>\n",
              "    .dataframe tbody tr th:only-of-type {\n",
              "        vertical-align: middle;\n",
              "    }\n",
              "\n",
              "    .dataframe tbody tr th {\n",
              "        vertical-align: top;\n",
              "    }\n",
              "\n",
              "    .dataframe thead th {\n",
              "        text-align: right;\n",
              "    }\n",
              "</style>\n",
              "<table border=\"1\" class=\"dataframe\">\n",
              "  <thead>\n",
              "    <tr style=\"text-align: right;\">\n",
              "      <th></th>\n",
              "      <th>V1</th>\n",
              "      <th>V2</th>\n",
              "      <th>V3</th>\n",
              "      <th>V4</th>\n",
              "      <th>V5</th>\n",
              "      <th>V6</th>\n",
              "      <th>V7</th>\n",
              "      <th>V8</th>\n",
              "      <th>V9</th>\n",
              "      <th>V10</th>\n",
              "      <th>...</th>\n",
              "      <th>V21</th>\n",
              "      <th>V22</th>\n",
              "      <th>V23</th>\n",
              "      <th>V24</th>\n",
              "      <th>V25</th>\n",
              "      <th>V26</th>\n",
              "      <th>V27</th>\n",
              "      <th>V28</th>\n",
              "      <th>Amount</th>\n",
              "      <th>Class</th>\n",
              "    </tr>\n",
              "  </thead>\n",
              "  <tbody>\n",
              "    <tr>\n",
              "      <th>0</th>\n",
              "      <td>-1.359807</td>\n",
              "      <td>-0.072781</td>\n",
              "      <td>2.536347</td>\n",
              "      <td>1.378155</td>\n",
              "      <td>-0.338321</td>\n",
              "      <td>0.462388</td>\n",
              "      <td>0.239599</td>\n",
              "      <td>0.098698</td>\n",
              "      <td>0.363787</td>\n",
              "      <td>0.090794</td>\n",
              "      <td>...</td>\n",
              "      <td>-0.018307</td>\n",
              "      <td>0.277838</td>\n",
              "      <td>-0.110474</td>\n",
              "      <td>0.066928</td>\n",
              "      <td>0.128539</td>\n",
              "      <td>-0.189115</td>\n",
              "      <td>0.133558</td>\n",
              "      <td>-0.021053</td>\n",
              "      <td>0.409447</td>\n",
              "      <td>0</td>\n",
              "    </tr>\n",
              "    <tr>\n",
              "      <th>1</th>\n",
              "      <td>1.191857</td>\n",
              "      <td>0.266151</td>\n",
              "      <td>0.166480</td>\n",
              "      <td>0.448154</td>\n",
              "      <td>0.060018</td>\n",
              "      <td>-0.082361</td>\n",
              "      <td>-0.078803</td>\n",
              "      <td>0.085102</td>\n",
              "      <td>-0.255425</td>\n",
              "      <td>-0.166974</td>\n",
              "      <td>...</td>\n",
              "      <td>-0.225775</td>\n",
              "      <td>-0.638672</td>\n",
              "      <td>0.101288</td>\n",
              "      <td>-0.339846</td>\n",
              "      <td>0.167170</td>\n",
              "      <td>0.125895</td>\n",
              "      <td>-0.008983</td>\n",
              "      <td>0.014724</td>\n",
              "      <td>-0.333712</td>\n",
              "      <td>1</td>\n",
              "    </tr>\n",
              "    <tr>\n",
              "      <th>2</th>\n",
              "      <td>-1.358354</td>\n",
              "      <td>-1.340163</td>\n",
              "      <td>1.773209</td>\n",
              "      <td>0.379780</td>\n",
              "      <td>-0.503198</td>\n",
              "      <td>1.800499</td>\n",
              "      <td>0.791461</td>\n",
              "      <td>0.247676</td>\n",
              "      <td>-1.514654</td>\n",
              "      <td>0.207643</td>\n",
              "      <td>...</td>\n",
              "      <td>0.247998</td>\n",
              "      <td>0.771679</td>\n",
              "      <td>0.909412</td>\n",
              "      <td>-0.689281</td>\n",
              "      <td>-0.327642</td>\n",
              "      <td>-0.139097</td>\n",
              "      <td>-0.055353</td>\n",
              "      <td>-0.059752</td>\n",
              "      <td>1.567910</td>\n",
              "      <td>0</td>\n",
              "    </tr>\n",
              "    <tr>\n",
              "      <th>3</th>\n",
              "      <td>-0.966272</td>\n",
              "      <td>-0.185226</td>\n",
              "      <td>1.792993</td>\n",
              "      <td>-0.863291</td>\n",
              "      <td>-0.010309</td>\n",
              "      <td>1.247203</td>\n",
              "      <td>0.237609</td>\n",
              "      <td>0.377436</td>\n",
              "      <td>-1.387024</td>\n",
              "      <td>-0.054952</td>\n",
              "      <td>...</td>\n",
              "      <td>-0.108300</td>\n",
              "      <td>0.005274</td>\n",
              "      <td>-0.190321</td>\n",
              "      <td>-1.175575</td>\n",
              "      <td>0.647376</td>\n",
              "      <td>-0.221929</td>\n",
              "      <td>0.062723</td>\n",
              "      <td>0.061458</td>\n",
              "      <td>0.277334</td>\n",
              "      <td>0</td>\n",
              "    </tr>\n",
              "    <tr>\n",
              "      <th>4</th>\n",
              "      <td>-1.158233</td>\n",
              "      <td>0.877737</td>\n",
              "      <td>1.548718</td>\n",
              "      <td>0.403034</td>\n",
              "      <td>-0.407193</td>\n",
              "      <td>0.095921</td>\n",
              "      <td>0.592941</td>\n",
              "      <td>-0.270533</td>\n",
              "      <td>0.817739</td>\n",
              "      <td>0.753074</td>\n",
              "      <td>...</td>\n",
              "      <td>-0.009431</td>\n",
              "      <td>0.798278</td>\n",
              "      <td>-0.137458</td>\n",
              "      <td>0.141267</td>\n",
              "      <td>-0.206010</td>\n",
              "      <td>0.502292</td>\n",
              "      <td>0.219422</td>\n",
              "      <td>0.215153</td>\n",
              "      <td>0.006685</td>\n",
              "      <td>0</td>\n",
              "    </tr>\n",
              "  </tbody>\n",
              "</table>\n",
              "<p>5 rows × 30 columns</p>\n",
              "</div>\n",
              "      <button class=\"colab-df-convert\" onclick=\"convertToInteractive('df-add998f2-dbb3-4dbf-a4e6-7cc716399326')\"\n",
              "              title=\"Convert this dataframe to an interactive table.\"\n",
              "              style=\"display:none;\">\n",
              "        \n",
              "  <svg xmlns=\"http://www.w3.org/2000/svg\" height=\"24px\"viewBox=\"0 0 24 24\"\n",
              "       width=\"24px\">\n",
              "    <path d=\"M0 0h24v24H0V0z\" fill=\"none\"/>\n",
              "    <path d=\"M18.56 5.44l.94 2.06.94-2.06 2.06-.94-2.06-.94-.94-2.06-.94 2.06-2.06.94zm-11 1L8.5 8.5l.94-2.06 2.06-.94-2.06-.94L8.5 2.5l-.94 2.06-2.06.94zm10 10l.94 2.06.94-2.06 2.06-.94-2.06-.94-.94-2.06-.94 2.06-2.06.94z\"/><path d=\"M17.41 7.96l-1.37-1.37c-.4-.4-.92-.59-1.43-.59-.52 0-1.04.2-1.43.59L10.3 9.45l-7.72 7.72c-.78.78-.78 2.05 0 2.83L4 21.41c.39.39.9.59 1.41.59.51 0 1.02-.2 1.41-.59l7.78-7.78 2.81-2.81c.8-.78.8-2.07 0-2.86zM5.41 20L4 18.59l7.72-7.72 1.47 1.35L5.41 20z\"/>\n",
              "  </svg>\n",
              "      </button>\n",
              "      \n",
              "  <style>\n",
              "    .colab-df-container {\n",
              "      display:flex;\n",
              "      flex-wrap:wrap;\n",
              "      gap: 12px;\n",
              "    }\n",
              "\n",
              "    .colab-df-convert {\n",
              "      background-color: #E8F0FE;\n",
              "      border: none;\n",
              "      border-radius: 50%;\n",
              "      cursor: pointer;\n",
              "      display: none;\n",
              "      fill: #1967D2;\n",
              "      height: 32px;\n",
              "      padding: 0 0 0 0;\n",
              "      width: 32px;\n",
              "    }\n",
              "\n",
              "    .colab-df-convert:hover {\n",
              "      background-color: #E2EBFA;\n",
              "      box-shadow: 0px 1px 2px rgba(60, 64, 67, 0.3), 0px 1px 3px 1px rgba(60, 64, 67, 0.15);\n",
              "      fill: #174EA6;\n",
              "    }\n",
              "\n",
              "    [theme=dark] .colab-df-convert {\n",
              "      background-color: #3B4455;\n",
              "      fill: #D2E3FC;\n",
              "    }\n",
              "\n",
              "    [theme=dark] .colab-df-convert:hover {\n",
              "      background-color: #434B5C;\n",
              "      box-shadow: 0px 1px 3px 1px rgba(0, 0, 0, 0.15);\n",
              "      filter: drop-shadow(0px 1px 2px rgba(0, 0, 0, 0.3));\n",
              "      fill: #FFFFFF;\n",
              "    }\n",
              "  </style>\n",
              "\n",
              "      <script>\n",
              "        const buttonEl =\n",
              "          document.querySelector('#df-add998f2-dbb3-4dbf-a4e6-7cc716399326 button.colab-df-convert');\n",
              "        buttonEl.style.display =\n",
              "          google.colab.kernel.accessAllowed ? 'block' : 'none';\n",
              "\n",
              "        async function convertToInteractive(key) {\n",
              "          const element = document.querySelector('#df-add998f2-dbb3-4dbf-a4e6-7cc716399326');\n",
              "          const dataTable =\n",
              "            await google.colab.kernel.invokeFunction('convertToInteractive',\n",
              "                                                     [key], {});\n",
              "          if (!dataTable) return;\n",
              "\n",
              "          const docLinkHtml = 'Like what you see? Visit the ' +\n",
              "            '<a target=\"_blank\" href=https://colab.research.google.com/notebooks/data_table.ipynb>data table notebook</a>'\n",
              "            + ' to learn more about interactive tables.';\n",
              "          element.innerHTML = '';\n",
              "          dataTable['output_type'] = 'display_data';\n",
              "          await google.colab.output.renderOutput(dataTable, element);\n",
              "          const docLink = document.createElement('div');\n",
              "          docLink.innerHTML = docLinkHtml;\n",
              "          element.appendChild(docLink);\n",
              "        }\n",
              "      </script>\n",
              "    </div>\n",
              "  </div>\n",
              "  "
            ]
          },
          "metadata": {},
          "execution_count": 26
        }
      ]
    },
    {
      "cell_type": "markdown",
      "source": [
        "### Balancing the Dataset"
      ],
      "metadata": {
        "id": "RH0h8NXpaN-8"
      }
    },
    {
      "cell_type": "code",
      "source": [
        "#Spliting input and output features\n",
        "x1=df1.iloc[:,:-1]\n",
        "y1=df1.iloc[:,-1]\n",
        "print(x1)\n",
        "print(y1)"
      ],
      "metadata": {
        "colab": {
          "base_uri": "https://localhost:8080/"
        },
        "id": "WmTAJIo3dumy",
        "outputId": "11927978-d475-421b-8fda-f7e4675d75fb"
      },
      "execution_count": null,
      "outputs": [
        {
          "output_type": "stream",
          "name": "stdout",
          "text": [
            "           V1        V2        V3        V4        V5        V6        V7  \\\n",
            "0   -1.359807 -0.072781  2.536347  1.378155 -0.338321  0.462388  0.239599   \n",
            "1    1.191857  0.266151  0.166480  0.448154  0.060018 -0.082361 -0.078803   \n",
            "2   -1.358354 -1.340163  1.773209  0.379780 -0.503198  1.800499  0.791461   \n",
            "3   -0.966272 -0.185226  1.792993 -0.863291 -0.010309  1.247203  0.237609   \n",
            "4   -1.158233  0.877737  1.548718  0.403034 -0.407193  0.095921  0.592941   \n",
            "..        ...       ...       ...       ...       ...       ...       ...   \n",
            "767 -0.572263  0.731748  1.541254  0.150506  1.108974  0.372152  1.084879   \n",
            "768 -1.296845 -0.511605  2.404726 -0.310762 -0.319551 -0.542842 -0.173310   \n",
            "769  1.214170  0.210481  0.484651  0.479768 -0.261955 -0.527039  0.021782   \n",
            "770  1.267030 -0.071114  0.037680  0.512683  0.242392  0.705212 -0.226582   \n",
            "771  1.153758  0.132273  0.382969  1.405063 -0.224287 -0.197295  0.020653   \n",
            "\n",
            "           V8        V9       V10  ...       V20       V21       V22  \\\n",
            "0    0.098698  0.363787  0.090794  ...  0.251412 -0.018307  0.277838   \n",
            "1    0.085102 -0.255425 -0.166974  ... -0.069083 -0.225775 -0.638672   \n",
            "2    0.247676 -1.514654  0.207643  ...  0.524980  0.247998  0.771679   \n",
            "3    0.377436 -1.387024 -0.054952  ... -0.208038 -0.108300  0.005274   \n",
            "4   -0.270533  0.817739  0.753074  ...  0.408542 -0.009431  0.798278   \n",
            "..        ...       ...       ...  ...       ...       ...       ...   \n",
            "767 -0.146329 -0.274447 -0.663670  ...  0.056544 -0.143508 -0.107582   \n",
            "768  0.260423 -1.202688  0.050584  ... -0.349668 -0.071270 -0.161175   \n",
            "769 -0.106888 -0.037631 -0.144073  ... -0.071540 -0.224292 -0.594609   \n",
            "770  0.109483  0.657565 -0.276918  ... -0.066990 -0.164468 -0.177225   \n",
            "771  0.029260  0.412254 -0.103547  ... -0.230877 -0.107809 -0.125231   \n",
            "\n",
            "          V23       V24       V25       V26       V27       V28    Amount  \n",
            "0   -0.110474  0.066928  0.128539 -0.189115  0.133558 -0.021053  0.409447  \n",
            "1    0.101288 -0.339846  0.167170  0.125895 -0.008983  0.014724 -0.333712  \n",
            "2    0.909412 -0.689281 -0.327642 -0.139097 -0.055353 -0.059752  1.567910  \n",
            "3   -0.190321 -1.175575  0.647376 -0.221929  0.062723  0.061458  0.277334  \n",
            "4   -0.137458  0.141267 -0.206010  0.502292  0.219422  0.215153  0.006685  \n",
            "..        ...       ...       ...       ...       ...       ...       ...  \n",
            "767 -0.418263 -0.731029  0.877525 -0.364150 -0.177509 -0.256545 -0.212171  \n",
            "768  0.088496  0.285390  0.281069 -0.370130  0.043410  0.092318  0.057315  \n",
            "769  0.159877  0.091873  0.140964  0.227406 -0.017389  0.016030 -0.317072  \n",
            "770 -0.222918 -1.245505  0.678360  0.525059  0.002920 -0.003333 -0.284802  \n",
            "771 -0.057041  0.073082  0.633977 -0.310685  0.033590  0.015250 -0.277569  \n",
            "\n",
            "[765 rows x 29 columns]\n",
            "0      0\n",
            "1      1\n",
            "2      0\n",
            "3      0\n",
            "4      0\n",
            "      ..\n",
            "767    0\n",
            "768    0\n",
            "769    0\n",
            "770    0\n",
            "771    0\n",
            "Name: Class, Length: 765, dtype: int64\n"
          ]
        }
      ]
    },
    {
      "cell_type": "code",
      "source": [
        "import warnings\n",
        "warnings.filterwarnings('ignore') #else warning generated after sampling techniques"
      ],
      "metadata": {
        "id": "cd4I3HcYxO-o"
      },
      "execution_count": null,
      "outputs": []
    },
    {
      "cell_type": "code",
      "source": [
        "def sampling_strategy(X,y,n_samples, t='majority'):\n",
        "    target_classes = ''\n",
        "    if t == 'majority':\n",
        "        target_classes = y.value_counts() > n_samples\n",
        "    elif t == 'minority':\n",
        "        target_classes = y.value_counts() < n_samples\n",
        "    tc = target_classes[target_classes == True].index\n",
        "    #target_classes_all = y.value_counts().index\n",
        "    sampling_strategy = {}\n",
        "    for target in tc:\n",
        "        sampling_strategy[target] = n_samples\n",
        "    return sampling_strategy"
      ],
      "metadata": {
        "id": "Niz0n2oNxQlM"
      },
      "execution_count": null,
      "outputs": []
    },
    {
      "cell_type": "code",
      "source": [
        "from imblearn.over_sampling import SMOTE\n",
        "over_sampler = SMOTE(sampling_strategy=sampling_strategy(x1, y1,500, t='minority'),k_neighbors=2)\n",
        "X_bal, y_bal = over_sampler.fit_resample(x1, y1)"
      ],
      "metadata": {
        "id": "kEel86daxsmJ"
      },
      "execution_count": null,
      "outputs": []
    },
    {
      "cell_type": "code",
      "source": [
        "y_bal.value_counts()"
      ],
      "metadata": {
        "colab": {
          "base_uri": "https://localhost:8080/"
        },
        "id": "OShJE8pm3EVI",
        "outputId": "0ad110a1-2f8a-4e71-c5b8-08847538ffd1"
      },
      "execution_count": null,
      "outputs": [
        {
          "output_type": "execute_result",
          "data": {
            "text/plain": [
              "0    756\n",
              "1    500\n",
              "Name: Class, dtype: int64"
            ]
          },
          "metadata": {},
          "execution_count": 33
        }
      ]
    },
    {
      "cell_type": "code",
      "source": [
        "y_bal.value_counts().plot(kind='bar')"
      ],
      "metadata": {
        "colab": {
          "base_uri": "https://localhost:8080/",
          "height": 279
        },
        "id": "hcGB2ygT3YCW",
        "outputId": "5d83cf9f-5a8e-48c0-c74b-27d1538a867e"
      },
      "execution_count": null,
      "outputs": [
        {
          "output_type": "execute_result",
          "data": {
            "text/plain": [
              "<matplotlib.axes._subplots.AxesSubplot at 0x7f440a03f3a0>"
            ]
          },
          "metadata": {},
          "execution_count": 34
        },
        {
          "output_type": "display_data",
          "data": {
            "text/plain": [
              "<Figure size 432x288 with 1 Axes>"
            ],
            "image/png": "[encoded data removed]"
          },
          "metadata": {
            "needs_background": "light"
          }
        }
      ]
    },
    {
      "cell_type": "code",
      "source": [
        "from imblearn.under_sampling import RandomUnderSampler\n",
        "rus = RandomUnderSampler(sampling_strategy=sampling_strategy(X_bal,y_bal,500,t='majority'))\n",
        "x_rus, y_rus = rus.fit_resample(X_bal, y_bal)"
      ],
      "metadata": {
        "id": "Hqf5dn-l2eje"
      },
      "execution_count": null,
      "outputs": []
    },
    {
      "cell_type": "code",
      "source": [
        "y_rus.value_counts()"
      ],
      "metadata": {
        "colab": {
          "base_uri": "https://localhost:8080/"
        },
        "id": "1BkfFS8Z3NYV",
        "outputId": "9c3fd339-614e-4c8c-a7d0-b126ceeffa60"
      },
      "execution_count": null,
      "outputs": [
        {
          "output_type": "execute_result",
          "data": {
            "text/plain": [
              "0    500\n",
              "1    500\n",
              "Name: Class, dtype: int64"
            ]
          },
          "metadata": {},
          "execution_count": 36
        }
      ]
    },
    {
      "cell_type": "code",
      "source": [
        "y_rus.value_counts().plot(kind='bar')"
      ],
      "metadata": {
        "colab": {
          "base_uri": "https://localhost:8080/",
          "height": 279
        },
        "id": "72il5raSeMWo",
        "outputId": "8d31f2b0-1983-45c1-88ee-53e3408fd32e"
      },
      "execution_count": null,
      "outputs": [
        {
          "output_type": "execute_result",
          "data": {
            "text/plain": [
              "<matplotlib.axes._subplots.AxesSubplot at 0x7f440a01f310>"
            ]
          },
          "metadata": {},
          "execution_count": 37
        },
        {
          "output_type": "display_data",
          "data": {
            "text/plain": [
              "<Figure size 432x288 with 1 Axes>"
            ],
            "image/png": "[encoded data removed]"
          },
          "metadata": {
            "needs_background": "light"
          }
        }
      ]
    },
    {
      "cell_type": "markdown",
      "source": [
        "New Dataset after Balancing"
      ],
      "metadata": {
        "id": "zJHcgqXuVsYW"
      }
    },
    {
      "cell_type": "code",
      "source": [
        "df2=pd.DataFrame(x_rus)"
      ],
      "metadata": {
        "id": "EdvQsAnE5y23"
      },
      "execution_count": null,
      "outputs": []
    },
    {
      "cell_type": "code",
      "source": [
        "df2['Class']=y_rus"
      ],
      "metadata": {
        "id": "J1B3HMW23mnE"
      },
      "execution_count": null,
      "outputs": []
    },
    {
      "cell_type": "code",
      "source": [
        "df2.head()"
      ],
      "metadata": {
        "colab": {
          "base_uri": "https://localhost:8080/",
          "height": 299
        },
        "id": "s-ZiH9rC8PJ-",
        "outputId": "004126ea-8454-46e3-e0b5-03709e0ceb46"
      },
      "execution_count": null,
      "outputs": [
        {
          "output_type": "execute_result",
          "data": {
            "text/plain": [
              "         V1        V2        V3        V4        V5        V6        V7  \\\n",
              "0  0.921024 -0.162447 -0.094331  0.474084 -0.021486 -0.397506  0.482643   \n",
              "1 -0.246046  0.473267  1.695738  0.262411 -0.010866 -0.610836  0.793937   \n",
              "2 -1.075652  1.101233  0.579164 -0.459366  0.600011  0.160927  0.573488   \n",
              "3  1.131541 -0.174361  0.992622  0.600032 -1.021934 -0.644779 -0.428619   \n",
              "4 -0.866655  1.029621 -0.410810  0.159946  2.372236  3.801113 -0.088801   \n",
              "\n",
              "         V8        V9       V10  ...       V21       V22       V23       V24  \\\n",
              "0 -0.117496 -0.577836 -0.018607  ... -0.209381 -0.930107  0.028510  0.032682   \n",
              "1 -0.247253  0.138879 -0.401007  ... -0.194600 -0.335133 -0.078180  0.392784   \n",
              "2  0.274773 -0.581368  0.121711  ... -0.074954 -0.016218 -0.267397 -0.982177   \n",
              "3 -0.032071  0.516318 -0.118985  ...  0.022068 -0.031149  0.022845  0.414591   \n",
              "4  1.103079 -0.293703  0.217734  ... -0.098255 -0.140316 -0.181176  1.014273   \n",
              "\n",
              "        V25       V26       V27       V28    Amount  Class  \n",
              "0  0.155130  0.133250 -0.073534  0.022349  0.410863      0  \n",
              "1 -0.031157  0.198037 -0.175347 -0.203616 -0.193102      0  \n",
              "2 -0.009294  0.266081  0.158421 -0.059168 -0.145002      0  \n",
              "3  0.129935  0.387228 -0.016423  0.034255 -0.082284      0  \n",
              "4  0.119952 -0.288597 -0.144102 -0.077164 -0.304326      0  \n",
              "\n",
              "[5 rows x 30 columns]"
            ],
            "text/html": [
              "\n",
              "  <div id=\"df-ad9c58ae-52d6-4032-9089-9e19276dd769\">\n",
              "    <div class=\"colab-df-container\">\n",
              "      <div>\n",
              "<style scoped>\n",
              "    .dataframe tbody tr th:only-of-type {\n",
              "        vertical-align: middle;\n",
              "    }\n",
              "\n",
              "    .dataframe tbody tr th {\n",
              "        vertical-align: top;\n",
              "    }\n",
              "\n",
              "    .dataframe thead th {\n",
              "        text-align: right;\n",
              "    }\n",
              "</style>\n",
              "<table border=\"1\" class=\"dataframe\">\n",
              "  <thead>\n",
              "    <tr style=\"text-align: right;\">\n",
              "      <th></th>\n",
              "      <th>V1</th>\n",
              "      <th>V2</th>\n",
              "      <th>V3</th>\n",
              "      <th>V4</th>\n",
              "      <th>V5</th>\n",
              "      <th>V6</th>\n",
              "      <th>V7</th>\n",
              "      <th>V8</th>\n",
              "      <th>V9</th>\n",
              "      <th>V10</th>\n",
              "      <th>...</th>\n",
              "      <th>V21</th>\n",
              "      <th>V22</th>\n",
              "      <th>V23</th>\n",
              "      <th>V24</th>\n",
              "      <th>V25</th>\n",
              "      <th>V26</th>\n",
              "      <th>V27</th>\n",
              "      <th>V28</th>\n",
              "      <th>Amount</th>\n",
              "      <th>Class</th>\n",
              "    </tr>\n",
              "  </thead>\n",
              "  <tbody>\n",
              "    <tr>\n",
              "      <th>0</th>\n",
              "      <td>0.921024</td>\n",
              "      <td>-0.162447</td>\n",
              "      <td>-0.094331</td>\n",
              "      <td>0.474084</td>\n",
              "      <td>-0.021486</td>\n",
              "      <td>-0.397506</td>\n",
              "      <td>0.482643</td>\n",
              "      <td>-0.117496</td>\n",
              "      <td>-0.577836</td>\n",
              "      <td>-0.018607</td>\n",
              "      <td>...</td>\n",
              "      <td>-0.209381</td>\n",
              "      <td>-0.930107</td>\n",
              "      <td>0.028510</td>\n",
              "      <td>0.032682</td>\n",
              "      <td>0.155130</td>\n",
              "      <td>0.133250</td>\n",
              "      <td>-0.073534</td>\n",
              "      <td>0.022349</td>\n",
              "      <td>0.410863</td>\n",
              "      <td>0</td>\n",
              "    </tr>\n",
              "    <tr>\n",
              "      <th>1</th>\n",
              "      <td>-0.246046</td>\n",
              "      <td>0.473267</td>\n",
              "      <td>1.695738</td>\n",
              "      <td>0.262411</td>\n",
              "      <td>-0.010866</td>\n",
              "      <td>-0.610836</td>\n",
              "      <td>0.793937</td>\n",
              "      <td>-0.247253</td>\n",
              "      <td>0.138879</td>\n",
              "      <td>-0.401007</td>\n",
              "      <td>...</td>\n",
              "      <td>-0.194600</td>\n",
              "      <td>-0.335133</td>\n",
              "      <td>-0.078180</td>\n",
              "      <td>0.392784</td>\n",
              "      <td>-0.031157</td>\n",
              "      <td>0.198037</td>\n",
              "      <td>-0.175347</td>\n",
              "      <td>-0.203616</td>\n",
              "      <td>-0.193102</td>\n",
              "      <td>0</td>\n",
              "    </tr>\n",
              "    <tr>\n",
              "      <th>2</th>\n",
              "      <td>-1.075652</td>\n",
              "      <td>1.101233</td>\n",
              "      <td>0.579164</td>\n",
              "      <td>-0.459366</td>\n",
              "      <td>0.600011</td>\n",
              "      <td>0.160927</td>\n",
              "      <td>0.573488</td>\n",
              "      <td>0.274773</td>\n",
              "      <td>-0.581368</td>\n",
              "      <td>0.121711</td>\n",
              "      <td>...</td>\n",
              "      <td>-0.074954</td>\n",
              "      <td>-0.016218</td>\n",
              "      <td>-0.267397</td>\n",
              "      <td>-0.982177</td>\n",
              "      <td>-0.009294</td>\n",
              "      <td>0.266081</td>\n",
              "      <td>0.158421</td>\n",
              "      <td>-0.059168</td>\n",
              "      <td>-0.145002</td>\n",
              "      <td>0</td>\n",
              "    </tr>\n",
              "    <tr>\n",
              "      <th>3</th>\n",
              "      <td>1.131541</td>\n",
              "      <td>-0.174361</td>\n",
              "      <td>0.992622</td>\n",
              "      <td>0.600032</td>\n",
              "      <td>-1.021934</td>\n",
              "      <td>-0.644779</td>\n",
              "      <td>-0.428619</td>\n",
              "      <td>-0.032071</td>\n",
              "      <td>0.516318</td>\n",
              "      <td>-0.118985</td>\n",
              "      <td>...</td>\n",
              "      <td>0.022068</td>\n",
              "      <td>-0.031149</td>\n",
              "      <td>0.022845</td>\n",
              "      <td>0.414591</td>\n",
              "      <td>0.129935</td>\n",
              "      <td>0.387228</td>\n",
              "      <td>-0.016423</td>\n",
              "      <td>0.034255</td>\n",
              "      <td>-0.082284</td>\n",
              "      <td>0</td>\n",
              "    </tr>\n",
              "    <tr>\n",
              "      <th>4</th>\n",
              "      <td>-0.866655</td>\n",
              "      <td>1.029621</td>\n",
              "      <td>-0.410810</td>\n",
              "      <td>0.159946</td>\n",
              "      <td>2.372236</td>\n",
              "      <td>3.801113</td>\n",
              "      <td>-0.088801</td>\n",
              "      <td>1.103079</td>\n",
              "      <td>-0.293703</td>\n",
              "      <td>0.217734</td>\n",
              "      <td>...</td>\n",
              "      <td>-0.098255</td>\n",
              "      <td>-0.140316</td>\n",
              "      <td>-0.181176</td>\n",
              "      <td>1.014273</td>\n",
              "      <td>0.119952</td>\n",
              "      <td>-0.288597</td>\n",
              "      <td>-0.144102</td>\n",
              "      <td>-0.077164</td>\n",
              "      <td>-0.304326</td>\n",
              "      <td>0</td>\n",
              "    </tr>\n",
              "  </tbody>\n",
              "</table>\n",
              "<p>5 rows × 30 columns</p>\n",
              "</div>\n",
              "      <button class=\"colab-df-convert\" onclick=\"convertToInteractive('df-ad9c58ae-52d6-4032-9089-9e19276dd769')\"\n",
              "              title=\"Convert this dataframe to an interactive table.\"\n",
              "              style=\"display:none;\">\n",
              "        \n",
              "  <svg xmlns=\"http://www.w3.org/2000/svg\" height=\"24px\"viewBox=\"0 0 24 24\"\n",
              "       width=\"24px\">\n",
              "    <path d=\"M0 0h24v24H0V0z\" fill=\"none\"/>\n",
              "    <path d=\"M18.56 5.44l.94 2.06.94-2.06 2.06-.94-2.06-.94-.94-2.06-.94 2.06-2.06.94zm-11 1L8.5 8.5l.94-2.06 2.06-.94-2.06-.94L8.5 2.5l-.94 2.06-2.06.94zm10 10l.94 2.06.94-2.06 2.06-.94-2.06-.94-.94-2.06-.94 2.06-2.06.94z\"/><path d=\"M17.41 7.96l-1.37-1.37c-.4-.4-.92-.59-1.43-.59-.52 0-1.04.2-1.43.59L10.3 9.45l-7.72 7.72c-.78.78-.78 2.05 0 2.83L4 21.41c.39.39.9.59 1.41.59.51 0 1.02-.2 1.41-.59l7.78-7.78 2.81-2.81c.8-.78.8-2.07 0-2.86zM5.41 20L4 18.59l7.72-7.72 1.47 1.35L5.41 20z\"/>\n",
              "  </svg>\n",
              "      </button>\n",
              "      \n",
              "  <style>\n",
              "    .colab-df-container {\n",
              "      display:flex;\n",
              "      flex-wrap:wrap;\n",
              "      gap: 12px;\n",
              "    }\n",
              "\n",
              "    .colab-df-convert {\n",
              "      background-color: #E8F0FE;\n",
              "      border: none;\n",
              "      border-radius: 50%;\n",
              "      cursor: pointer;\n",
              "      display: none;\n",
              "      fill: #1967D2;\n",
              "      height: 32px;\n",
              "      padding: 0 0 0 0;\n",
              "      width: 32px;\n",
              "    }\n",
              "\n",
              "    .colab-df-convert:hover {\n",
              "      background-color: #E2EBFA;\n",
              "      box-shadow: 0px 1px 2px rgba(60, 64, 67, 0.3), 0px 1px 3px 1px rgba(60, 64, 67, 0.15);\n",
              "      fill: #174EA6;\n",
              "    }\n",
              "\n",
              "    [theme=dark] .colab-df-convert {\n",
              "      background-color: #3B4455;\n",
              "      fill: #D2E3FC;\n",
              "    }\n",
              "\n",
              "    [theme=dark] .colab-df-convert:hover {\n",
              "      background-color: #434B5C;\n",
              "      box-shadow: 0px 1px 3px 1px rgba(0, 0, 0, 0.15);\n",
              "      filter: drop-shadow(0px 1px 2px rgba(0, 0, 0, 0.3));\n",
              "      fill: #FFFFFF;\n",
              "    }\n",
              "  </style>\n",
              "\n",
              "      <script>\n",
              "        const buttonEl =\n",
              "          document.querySelector('#df-ad9c58ae-52d6-4032-9089-9e19276dd769 button.colab-df-convert');\n",
              "        buttonEl.style.display =\n",
              "          google.colab.kernel.accessAllowed ? 'block' : 'none';\n",
              "\n",
              "        async function convertToInteractive(key) {\n",
              "          const element = document.querySelector('#df-ad9c58ae-52d6-4032-9089-9e19276dd769');\n",
              "          const dataTable =\n",
              "            await google.colab.kernel.invokeFunction('convertToInteractive',\n",
              "                                                     [key], {});\n",
              "          if (!dataTable) return;\n",
              "\n",
              "          const docLinkHtml = 'Like what you see? Visit the ' +\n",
              "            '<a target=\"_blank\" href=https://colab.research.google.com/notebooks/data_table.ipynb>data table notebook</a>'\n",
              "            + ' to learn more about interactive tables.';\n",
              "          element.innerHTML = '';\n",
              "          dataTable['output_type'] = 'display_data';\n",
              "          await google.colab.output.renderOutput(dataTable, element);\n",
              "          const docLink = document.createElement('div');\n",
              "          docLink.innerHTML = docLinkHtml;\n",
              "          element.appendChild(docLink);\n",
              "        }\n",
              "      </script>\n",
              "    </div>\n",
              "  </div>\n",
              "  "
            ]
          },
          "metadata": {},
          "execution_count": 40
        }
      ]
    },
    {
      "cell_type": "code",
      "source": [
        "# Converting Dataset to csv file\n",
        "df2.to_csv('Balanced Credit Card.csv')"
      ],
      "metadata": {
        "id": "R2Xn2AB28S3n"
      },
      "execution_count": null,
      "outputs": []
    },
    {
      "cell_type": "markdown",
      "source": [
        "## Sampling Techniques"
      ],
      "metadata": {
        "id": "iKzGV7zjcUZp"
      }
    },
    {
      "cell_type": "markdown",
      "source": [
        "### Simple Random Sampling"
      ],
      "metadata": {
        "id": "1CRN7suShJiP"
      }
    },
    {
      "cell_type": "code",
      "source": [
        "from scipy.stats import norm\n",
        "confidence_level = 0.95\n",
        "z_score = norm.ppf((1 + confidence_level) / 2)\n",
        "print(z_score)"
      ],
      "metadata": {
        "id": "hX7gX3g9hXVg",
        "colab": {
          "base_uri": "https://localhost:8080/"
        },
        "outputId": "98fe6083-83e8-4ba4-93bb-4ec11a400fa3"
      },
      "execution_count": null,
      "outputs": [
        {
          "output_type": "stream",
          "name": "stdout",
          "text": [
            "1.959963984540054\n"
          ]
        }
      ]
    },
    {
      "cell_type": "markdown",
      "source": [
        "Sample Size"
      ],
      "metadata": {
        "id": "VpkhywOLhptf"
      }
    },
    {
      "cell_type": "code",
      "source": [
        "import math\n",
        "\n",
        "# Set the values for z, p, and e\n",
        "z = 1.96  # for 95% confidence level\n",
        "p = 0.5  # use a conservative estimate of 0.5 if no prior information is available\n",
        "e = 0.05  # 5% margin of error\n",
        "\n",
        "# Calculate the sample size\n",
        "n = (z**2 * p * (1 - p)) / e**2\n",
        "\n",
        "# Round up to the nearest integer\n",
        "n = math.ceil(n)\n",
        "print(n)"
      ],
      "metadata": {
        "colab": {
          "base_uri": "https://localhost:8080/"
        },
        "id": "nzzxCyDAccLg",
        "outputId": "2ddb60e2-1052-4280-c84a-b9ed2adeac1f"
      },
      "execution_count": null,
      "outputs": [
        {
          "output_type": "stream",
          "name": "stdout",
          "text": [
            "385\n"
          ]
        }
      ]
    },
    {
      "cell_type": "markdown",
      "source": [
        "Creating Sample"
      ],
      "metadata": {
        "id": "TrapVozHX9nj"
      }
    },
    {
      "cell_type": "code",
      "source": [
        "import random\n",
        "\n",
        "# Set the sample size\n",
        "sample_size = n\n",
        "\n",
        "# Create a simple random sample\n",
        "simple_random_sample = df2.sample(n=sample_size, random_state=42)\n",
        "\n",
        "# Print the sample\n",
        "print(simple_random_sample)"
      ],
      "metadata": {
        "colab": {
          "base_uri": "https://localhost:8080/"
        },
        "id": "AbixZpdhluPg",
        "outputId": "cdb32655-31f5-48f2-a6e8-d2960fe2c1f8"
      },
      "execution_count": null,
      "outputs": [
        {
          "output_type": "stream",
          "name": "stdout",
          "text": [
            "           V1        V2        V3        V4        V5        V6        V7  \\\n",
            "521 -1.849560 -2.088048  2.364924  1.005252  2.251423  0.383725 -1.689296   \n",
            "737 -1.089799  0.329268  1.630581  0.015209  0.957256 -0.779452  0.757321   \n",
            "740  1.248728  0.351281  0.287751  0.657537 -0.300757 -0.933004  0.070646   \n",
            "660  1.244930  0.336967  0.280955  0.654331 -0.303155 -0.913849  0.060565   \n",
            "411 -1.269461 -1.027153  2.261373 -0.504356  0.693421  1.237761  0.056065   \n",
            "..        ...       ...       ...       ...       ...       ...       ...   \n",
            "238 -1.896099 -1.829046  1.181222  3.897846 -1.686469  1.976371 -0.564107   \n",
            "145 -0.614586  0.975396  1.689027 -0.170483 -0.152020 -0.698487  0.726557   \n",
            "792  1.197390  0.274434  0.178279  0.468526  0.024916 -0.165125 -0.064262   \n",
            "234  1.215468 -0.071342  1.048697  0.724719 -0.694532  0.041879 -0.528919   \n",
            "220  0.953918 -0.760595  1.091611  0.147115 -0.729796  1.430148 -1.070470   \n",
            "\n",
            "           V8        V9       V10  ...       V21       V22       V23  \\\n",
            "521  0.655298  0.803796 -0.363289  ...  0.372313  1.066698  0.219578   \n",
            "737 -0.097288 -0.109080 -0.473345  ...  0.017291  0.186921 -0.258747   \n",
            "740 -0.169976 -0.022386 -0.269763  ... -0.278518 -0.795815  0.124063   \n",
            "660 -0.157248 -0.010852 -0.264308  ... -0.277805 -0.801965  0.123841   \n",
            "411  0.091919 -0.676680  0.330000  ... -0.131777  0.697266  0.288501   \n",
            "..        ...       ...       ...  ...       ...       ...       ...   \n",
            "238 -2.400465 -0.979202 -0.284724  ... -0.936346 -0.516626 -0.911682   \n",
            "145 -0.067588 -0.126745  0.412887  ... -0.261770 -0.550214 -0.006560   \n",
            "792  0.060284 -0.232751 -0.176975  ... -0.230907 -0.653961  0.103504   \n",
            "234  0.019939  0.735112 -0.285616  ... -0.107924 -0.044997 -0.055459   \n",
            "220  0.727965  1.432734 -0.602646  ... -0.098744 -0.015598  0.248461   \n",
            "\n",
            "          V24       V25       V26       V27       V28    Amount  Class  \n",
            "521 -0.682159 -0.133371  0.675882 -0.121781 -0.164683 -0.340087      1  \n",
            "737  0.261110  0.246233 -0.315350 -0.152469 -0.177202 -0.342260      1  \n",
            "740  0.249896  0.213756  0.098692 -0.020386  0.028730 -0.339827      1  \n",
            "660  0.231882  0.208222  0.099642 -0.021079  0.028332 -0.333712      1  \n",
            "411 -0.644487  0.027409 -0.329714 -0.291795 -0.381556  0.052257      0  \n",
            "..        ...       ...       ...       ...       ...       ...    ...  \n",
            "238  0.025106  0.656699  0.200868 -0.088994  0.339814  4.109359      0  \n",
            "145  0.475347 -0.268825  0.022419  0.199155 -0.054699 -0.302151      0  \n",
            "792 -0.282467  0.171703  0.123248 -0.010093  0.016087 -0.334307      1  \n",
            "234 -0.062254  0.377130  0.344304  0.025717  0.025628 -0.289152      0  \n",
            "220 -0.596979 -0.291046  1.053935  0.021906  0.003337 -0.182278      0  \n",
            "\n",
            "[385 rows x 30 columns]\n"
          ]
        }
      ]
    },
    {
      "cell_type": "code",
      "source": [
        "simple_random_sample.head()"
      ],
      "metadata": {
        "colab": {
          "base_uri": "https://localhost:8080/",
          "height": 299
        },
        "id": "CsYCCo25Y35n",
        "outputId": "31ff8d4f-87c6-4027-ba2e-a15b2977d913"
      },
      "execution_count": null,
      "outputs": [
        {
          "output_type": "execute_result",
          "data": {
            "text/plain": [
              "           V1        V2        V3        V4        V5        V6        V7  \\\n",
              "521 -1.849560 -2.088048  2.364924  1.005252  2.251423  0.383725 -1.689296   \n",
              "737 -1.089799  0.329268  1.630581  0.015209  0.957256 -0.779452  0.757321   \n",
              "740  1.248728  0.351281  0.287751  0.657537 -0.300757 -0.933004  0.070646   \n",
              "660  1.244930  0.336967  0.280955  0.654331 -0.303155 -0.913849  0.060565   \n",
              "411 -1.269461 -1.027153  2.261373 -0.504356  0.693421  1.237761  0.056065   \n",
              "\n",
              "           V8        V9       V10  ...       V21       V22       V23  \\\n",
              "521  0.655298  0.803796 -0.363289  ...  0.372313  1.066698  0.219578   \n",
              "737 -0.097288 -0.109080 -0.473345  ...  0.017291  0.186921 -0.258747   \n",
              "740 -0.169976 -0.022386 -0.269763  ... -0.278518 -0.795815  0.124063   \n",
              "660 -0.157248 -0.010852 -0.264308  ... -0.277805 -0.801965  0.123841   \n",
              "411  0.091919 -0.676680  0.330000  ... -0.131777  0.697266  0.288501   \n",
              "\n",
              "          V24       V25       V26       V27       V28    Amount  Class  \n",
              "521 -0.682159 -0.133371  0.675882 -0.121781 -0.164683 -0.340087      1  \n",
              "737  0.261110  0.246233 -0.315350 -0.152469 -0.177202 -0.342260      1  \n",
              "740  0.249896  0.213756  0.098692 -0.020386  0.028730 -0.339827      1  \n",
              "660  0.231882  0.208222  0.099642 -0.021079  0.028332 -0.333712      1  \n",
              "411 -0.644487  0.027409 -0.329714 -0.291795 -0.381556  0.052257      0  \n",
              "\n",
              "[5 rows x 30 columns]"
            ],
            "text/html": [
              "\n",
              "  <div id=\"df-9cd1c319-aa4d-4e19-a1d8-fc407855e08d\">\n",
              "    <div class=\"colab-df-container\">\n",
              "      <div>\n",
              "<style scoped>\n",
              "    .dataframe tbody tr th:only-of-type {\n",
              "        vertical-align: middle;\n",
              "    }\n",
              "\n",
              "    .dataframe tbody tr th {\n",
              "        vertical-align: top;\n",
              "    }\n",
              "\n",
              "    .dataframe thead th {\n",
              "        text-align: right;\n",
              "    }\n",
              "</style>\n",
              "<table border=\"1\" class=\"dataframe\">\n",
              "  <thead>\n",
              "    <tr style=\"text-align: right;\">\n",
              "      <th></th>\n",
              "      <th>V1</th>\n",
              "      <th>V2</th>\n",
              "      <th>V3</th>\n",
              "      <th>V4</th>\n",
              "      <th>V5</th>\n",
              "      <th>V6</th>\n",
              "      <th>V7</th>\n",
              "      <th>V8</th>\n",
              "      <th>V9</th>\n",
              "      <th>V10</th>\n",
              "      <th>...</th>\n",
              "      <th>V21</th>\n",
              "      <th>V22</th>\n",
              "      <th>V23</th>\n",
              "      <th>V24</th>\n",
              "      <th>V25</th>\n",
              "      <th>V26</th>\n",
              "      <th>V27</th>\n",
              "      <th>V28</th>\n",
              "      <th>Amount</th>\n",
              "      <th>Class</th>\n",
              "    </tr>\n",
              "  </thead>\n",
              "  <tbody>\n",
              "    <tr>\n",
              "      <th>521</th>\n",
              "      <td>-1.849560</td>\n",
              "      <td>-2.088048</td>\n",
              "      <td>2.364924</td>\n",
              "      <td>1.005252</td>\n",
              "      <td>2.251423</td>\n",
              "      <td>0.383725</td>\n",
              "      <td>-1.689296</td>\n",
              "      <td>0.655298</td>\n",
              "      <td>0.803796</td>\n",
              "      <td>-0.363289</td>\n",
              "      <td>...</td>\n",
              "      <td>0.372313</td>\n",
              "      <td>1.066698</td>\n",
              "      <td>0.219578</td>\n",
              "      <td>-0.682159</td>\n",
              "      <td>-0.133371</td>\n",
              "      <td>0.675882</td>\n",
              "      <td>-0.121781</td>\n",
              "      <td>-0.164683</td>\n",
              "      <td>-0.340087</td>\n",
              "      <td>1</td>\n",
              "    </tr>\n",
              "    <tr>\n",
              "      <th>737</th>\n",
              "      <td>-1.089799</td>\n",
              "      <td>0.329268</td>\n",
              "      <td>1.630581</td>\n",
              "      <td>0.015209</td>\n",
              "      <td>0.957256</td>\n",
              "      <td>-0.779452</td>\n",
              "      <td>0.757321</td>\n",
              "      <td>-0.097288</td>\n",
              "      <td>-0.109080</td>\n",
              "      <td>-0.473345</td>\n",
              "      <td>...</td>\n",
              "      <td>0.017291</td>\n",
              "      <td>0.186921</td>\n",
              "      <td>-0.258747</td>\n",
              "      <td>0.261110</td>\n",
              "      <td>0.246233</td>\n",
              "      <td>-0.315350</td>\n",
              "      <td>-0.152469</td>\n",
              "      <td>-0.177202</td>\n",
              "      <td>-0.342260</td>\n",
              "      <td>1</td>\n",
              "    </tr>\n",
              "    <tr>\n",
              "      <th>740</th>\n",
              "      <td>1.248728</td>\n",
              "      <td>0.351281</td>\n",
              "      <td>0.287751</td>\n",
              "      <td>0.657537</td>\n",
              "      <td>-0.300757</td>\n",
              "      <td>-0.933004</td>\n",
              "      <td>0.070646</td>\n",
              "      <td>-0.169976</td>\n",
              "      <td>-0.022386</td>\n",
              "      <td>-0.269763</td>\n",
              "      <td>...</td>\n",
              "      <td>-0.278518</td>\n",
              "      <td>-0.795815</td>\n",
              "      <td>0.124063</td>\n",
              "      <td>0.249896</td>\n",
              "      <td>0.213756</td>\n",
              "      <td>0.098692</td>\n",
              "      <td>-0.020386</td>\n",
              "      <td>0.028730</td>\n",
              "      <td>-0.339827</td>\n",
              "      <td>1</td>\n",
              "    </tr>\n",
              "    <tr>\n",
              "      <th>660</th>\n",
              "      <td>1.244930</td>\n",
              "      <td>0.336967</td>\n",
              "      <td>0.280955</td>\n",
              "      <td>0.654331</td>\n",
              "      <td>-0.303155</td>\n",
              "      <td>-0.913849</td>\n",
              "      <td>0.060565</td>\n",
              "      <td>-0.157248</td>\n",
              "      <td>-0.010852</td>\n",
              "      <td>-0.264308</td>\n",
              "      <td>...</td>\n",
              "      <td>-0.277805</td>\n",
              "      <td>-0.801965</td>\n",
              "      <td>0.123841</td>\n",
              "      <td>0.231882</td>\n",
              "      <td>0.208222</td>\n",
              "      <td>0.099642</td>\n",
              "      <td>-0.021079</td>\n",
              "      <td>0.028332</td>\n",
              "      <td>-0.333712</td>\n",
              "      <td>1</td>\n",
              "    </tr>\n",
              "    <tr>\n",
              "      <th>411</th>\n",
              "      <td>-1.269461</td>\n",
              "      <td>-1.027153</td>\n",
              "      <td>2.261373</td>\n",
              "      <td>-0.504356</td>\n",
              "      <td>0.693421</td>\n",
              "      <td>1.237761</td>\n",
              "      <td>0.056065</td>\n",
              "      <td>0.091919</td>\n",
              "      <td>-0.676680</td>\n",
              "      <td>0.330000</td>\n",
              "      <td>...</td>\n",
              "      <td>-0.131777</td>\n",
              "      <td>0.697266</td>\n",
              "      <td>0.288501</td>\n",
              "      <td>-0.644487</td>\n",
              "      <td>0.027409</td>\n",
              "      <td>-0.329714</td>\n",
              "      <td>-0.291795</td>\n",
              "      <td>-0.381556</td>\n",
              "      <td>0.052257</td>\n",
              "      <td>0</td>\n",
              "    </tr>\n",
              "  </tbody>\n",
              "</table>\n",
              "<p>5 rows × 30 columns</p>\n",
              "</div>\n",
              "      <button class=\"colab-df-convert\" onclick=\"convertToInteractive('df-9cd1c319-aa4d-4e19-a1d8-fc407855e08d')\"\n",
              "              title=\"Convert this dataframe to an interactive table.\"\n",
              "              style=\"display:none;\">\n",
              "        \n",
              "  <svg xmlns=\"http://www.w3.org/2000/svg\" height=\"24px\"viewBox=\"0 0 24 24\"\n",
              "       width=\"24px\">\n",
              "    <path d=\"M0 0h24v24H0V0z\" fill=\"none\"/>\n",
              "    <path d=\"M18.56 5.44l.94 2.06.94-2.06 2.06-.94-2.06-.94-.94-2.06-.94 2.06-2.06.94zm-11 1L8.5 8.5l.94-2.06 2.06-.94-2.06-.94L8.5 2.5l-.94 2.06-2.06.94zm10 10l.94 2.06.94-2.06 2.06-.94-2.06-.94-.94-2.06-.94 2.06-2.06.94z\"/><path d=\"M17.41 7.96l-1.37-1.37c-.4-.4-.92-.59-1.43-.59-.52 0-1.04.2-1.43.59L10.3 9.45l-7.72 7.72c-.78.78-.78 2.05 0 2.83L4 21.41c.39.39.9.59 1.41.59.51 0 1.02-.2 1.41-.59l7.78-7.78 2.81-2.81c.8-.78.8-2.07 0-2.86zM5.41 20L4 18.59l7.72-7.72 1.47 1.35L5.41 20z\"/>\n",
              "  </svg>\n",
              "      </button>\n",
              "      \n",
              "  <style>\n",
              "    .colab-df-container {\n",
              "      display:flex;\n",
              "      flex-wrap:wrap;\n",
              "      gap: 12px;\n",
              "    }\n",
              "\n",
              "    .colab-df-convert {\n",
              "      background-color: #E8F0FE;\n",
              "      border: none;\n",
              "      border-radius: 50%;\n",
              "      cursor: pointer;\n",
              "      display: none;\n",
              "      fill: #1967D2;\n",
              "      height: 32px;\n",
              "      padding: 0 0 0 0;\n",
              "      width: 32px;\n",
              "    }\n",
              "\n",
              "    .colab-df-convert:hover {\n",
              "      background-color: #E2EBFA;\n",
              "      box-shadow: 0px 1px 2px rgba(60, 64, 67, 0.3), 0px 1px 3px 1px rgba(60, 64, 67, 0.15);\n",
              "      fill: #174EA6;\n",
              "    }\n",
              "\n",
              "    [theme=dark] .colab-df-convert {\n",
              "      background-color: #3B4455;\n",
              "      fill: #D2E3FC;\n",
              "    }\n",
              "\n",
              "    [theme=dark] .colab-df-convert:hover {\n",
              "      background-color: #434B5C;\n",
              "      box-shadow: 0px 1px 3px 1px rgba(0, 0, 0, 0.15);\n",
              "      filter: drop-shadow(0px 1px 2px rgba(0, 0, 0, 0.3));\n",
              "      fill: #FFFFFF;\n",
              "    }\n",
              "  </style>\n",
              "\n",
              "      <script>\n",
              "        const buttonEl =\n",
              "          document.querySelector('#df-9cd1c319-aa4d-4e19-a1d8-fc407855e08d button.colab-df-convert');\n",
              "        buttonEl.style.display =\n",
              "          google.colab.kernel.accessAllowed ? 'block' : 'none';\n",
              "\n",
              "        async function convertToInteractive(key) {\n",
              "          const element = document.querySelector('#df-9cd1c319-aa4d-4e19-a1d8-fc407855e08d');\n",
              "          const dataTable =\n",
              "            await google.colab.kernel.invokeFunction('convertToInteractive',\n",
              "                                                     [key], {});\n",
              "          if (!dataTable) return;\n",
              "\n",
              "          const docLinkHtml = 'Like what you see? Visit the ' +\n",
              "            '<a target=\"_blank\" href=https://colab.research.google.com/notebooks/data_table.ipynb>data table notebook</a>'\n",
              "            + ' to learn more about interactive tables.';\n",
              "          element.innerHTML = '';\n",
              "          dataTable['output_type'] = 'display_data';\n",
              "          await google.colab.output.renderOutput(dataTable, element);\n",
              "          const docLink = document.createElement('div');\n",
              "          docLink.innerHTML = docLinkHtml;\n",
              "          element.appendChild(docLink);\n",
              "        }\n",
              "      </script>\n",
              "    </div>\n",
              "  </div>\n",
              "  "
            ]
          },
          "metadata": {},
          "execution_count": 426
        }
      ]
    },
    {
      "cell_type": "markdown",
      "source": [
        "Classification Model"
      ],
      "metadata": {
        "id": "5OtSDV_XYPBD"
      }
    },
    {
      "cell_type": "code",
      "source": [
        "# Spliting input and output features\n",
        "x_simple=simple_random_sample.iloc[:,:-1]\n",
        "y_simple=simple_random_sample.iloc[:,-1]"
      ],
      "metadata": {
        "id": "etVsmfK6YJbL"
      },
      "execution_count": null,
      "outputs": []
    },
    {
      "cell_type": "code",
      "source": [
        "# Training-Testing Splitting\n",
        "from sklearn.model_selection import train_test_split\n",
        "x_train, x_test, y_train, y_test = train_test_split(x_simple, y_simple, test_size=0.25, random_state=42)"
      ],
      "metadata": {
        "id": "OHXYY1nRZK3U"
      },
      "execution_count": null,
      "outputs": []
    },
    {
      "cell_type": "markdown",
      "source": [
        "\n",
        "Logistic Regression"
      ],
      "metadata": {
        "id": "mjzLk2pDfDom"
      }
    },
    {
      "cell_type": "code",
      "source": [
        "# Logistic Regression\n",
        "from sklearn.metrics import accuracy_score\n",
        "from sklearn import linear_model\n",
        "logr = linear_model.LogisticRegression()\n",
        "logr.fit(x_train, y_train)\n",
        "logr_pred = logr.predict(x_test)\n",
        "score = accuracy_score(logr_pred, y_test)\n",
        "print(score)"
      ],
      "metadata": {
        "colab": {
          "base_uri": "https://localhost:8080/"
        },
        "id": "kYwwcBvkZ1f4",
        "outputId": "da95c0a0-a2d2-459e-9cc9-4efd3db2c7a9"
      },
      "execution_count": null,
      "outputs": [
        {
          "output_type": "stream",
          "name": "stdout",
          "text": [
            "0.8865979381443299\n"
          ]
        }
      ]
    },
    {
      "cell_type": "markdown",
      "source": [
        "Decision Tree"
      ],
      "metadata": {
        "id": "yhArcRGWjiEf"
      }
    },
    {
      "cell_type": "code",
      "source": [
        "# Decision Tree Classifier\n",
        "from sklearn.tree import DecisionTreeClassifier\n",
        "from sklearn.metrics import confusion_matrix,accuracy_score\n",
        "\n",
        "dtree_model = DecisionTreeClassifier(max_depth = 2).fit(x_train, y_train)\n",
        "dtree_predictions = dtree_model.predict(x_test)\n",
        "\n",
        "# creating a confusion matrix\n",
        "#cm = confusion_matrix(y_test,dtree_predictions)\n",
        "#print(cm)\n",
        "accuracy_score(y_test,dtree_predictions)"
      ],
      "metadata": {
        "colab": {
          "base_uri": "https://localhost:8080/"
        },
        "id": "AVDTcBJ1jpr5",
        "outputId": "13d79c09-1533-43d5-ff16-03f090b9a739"
      },
      "execution_count": null,
      "outputs": [
        {
          "output_type": "execute_result",
          "data": {
            "text/plain": [
              "0.9072164948453608"
            ]
          },
          "metadata": {},
          "execution_count": 310
        }
      ]
    },
    {
      "cell_type": "markdown",
      "source": [
        "Random Forest Classification"
      ],
      "metadata": {
        "id": "3wt3Fr__kOdY"
      }
    },
    {
      "cell_type": "code",
      "source": [
        "# Random Forest Classifier\n",
        "from sklearn.ensemble import RandomForestClassifier\n",
        "from sklearn.metrics import accuracy_score\n",
        "model1 = RandomForestClassifier()\n",
        "model1.fit(x_train, y_train)\n",
        "ypred1 = model1.predict(x_test)\n",
        "print(accuracy_score(y_test, ypred1))"
      ],
      "metadata": {
        "colab": {
          "base_uri": "https://localhost:8080/"
        },
        "id": "3CJPIOJykaIy",
        "outputId": "32ba91e1-8acf-4860-a903-574eb758fe6b"
      },
      "execution_count": null,
      "outputs": [
        {
          "output_type": "stream",
          "name": "stdout",
          "text": [
            "0.9690721649484536\n"
          ]
        }
      ]
    },
    {
      "cell_type": "markdown",
      "source": [
        "KNN Classification"
      ],
      "metadata": {
        "id": "vu399yJAk2cU"
      }
    },
    {
      "cell_type": "code",
      "source": [
        "#KNN Classification\n",
        "from sklearn.neighbors import KNeighborsClassifier\n",
        "model = KNeighborsClassifier()\n",
        "model.fit(x_train, y_train)\n",
        "ypred = model.predict(x_test)\n",
        "print(accuracy_score(y_test, ypred))"
      ],
      "metadata": {
        "colab": {
          "base_uri": "https://localhost:8080/"
        },
        "id": "wNxsVqoOk5gT",
        "outputId": "420558d1-db16-4e45-f02c-987112a9dc4f"
      },
      "execution_count": null,
      "outputs": [
        {
          "output_type": "stream",
          "name": "stdout",
          "text": [
            "0.8041237113402062\n"
          ]
        }
      ]
    },
    {
      "cell_type": "markdown",
      "source": [
        "Naive Bayes Classification"
      ],
      "metadata": {
        "id": "_DpldwP-mrMT"
      }
    },
    {
      "cell_type": "code",
      "source": [
        "# Gaussian Naive Bayes\n",
        "from sklearn.naive_bayes import GaussianNB\n",
        "model = GaussianNB()\n",
        "model.fit(x_train, y_train)\n",
        "ypred = model.predict(x_test)\n",
        "print(accuracy_score(y_test, ypred))"
      ],
      "metadata": {
        "colab": {
          "base_uri": "https://localhost:8080/"
        },
        "id": "onh5qhknnGgH",
        "outputId": "82a05acf-917a-4589-bdfa-c241c2a25574"
      },
      "execution_count": null,
      "outputs": [
        {
          "output_type": "stream",
          "name": "stdout",
          "text": [
            "0.6494845360824743\n"
          ]
        }
      ]
    },
    {
      "cell_type": "markdown",
      "source": [
        "### Stratified Sampling"
      ],
      "metadata": {
        "id": "DL_OVqtYnHQs"
      }
    },
    {
      "cell_type": "markdown",
      "source": [
        "Sample Size"
      ],
      "metadata": {
        "id": "N3QikF42rDv2"
      }
    },
    {
      "cell_type": "code",
      "source": [
        "num_strata = df2['Class'].nunique()\n",
        "print(num_strata)"
      ],
      "metadata": {
        "colab": {
          "base_uri": "https://localhost:8080/"
        },
        "id": "hZiCUFMKrGnC",
        "outputId": "58327a9b-6de9-41da-89e1-44126047f9a7"
      },
      "execution_count": null,
      "outputs": [
        {
          "output_type": "stream",
          "name": "stdout",
          "text": [
            "2\n"
          ]
        }
      ]
    },
    {
      "cell_type": "code",
      "source": [
        "import math\n",
        "\n",
        "# Set the values for z, p, and e\n",
        "z = 1.96  # for 95% confidence level\n",
        "p = 0.5  # use a conservative estimate of 0.5 if no prior information is available\n",
        "e = 0.07  # 7% margin of error\n",
        "\n",
        "# Calculate the sample size\n",
        "n2 = (z**2 * p * (1 - p)) / (e/num_strata)**2\n",
        "\n",
        "# Round up to the nearest integer\n",
        "n2 = math.ceil(n2)\n",
        "print(n2)"
      ],
      "metadata": {
        "colab": {
          "base_uri": "https://localhost:8080/"
        },
        "id": "1RK8tiFitNjg",
        "outputId": "d6f9ed98-0c40-4d22-b73e-88031a4f6bb5"
      },
      "execution_count": null,
      "outputs": [
        {
          "output_type": "stream",
          "name": "stdout",
          "text": [
            "784\n"
          ]
        }
      ]
    },
    {
      "cell_type": "markdown",
      "source": [
        "Sample Size is 784, i.e. 392 for each class"
      ],
      "metadata": {
        "id": "l2SDhpsvn-uk"
      }
    },
    {
      "cell_type": "markdown",
      "source": [
        "Creating Samples:"
      ],
      "metadata": {
        "id": "uKQgDOwbpho5"
      }
    },
    {
      "cell_type": "code",
      "source": [
        "# Stratified Sampling\n",
        "strat_sample = df2.groupby('Class', group_keys=False).apply(lambda x: x.sample(392,replace=True,random_state=42))\n",
        "print(strat_sample)"
      ],
      "metadata": {
        "colab": {
          "base_uri": "https://localhost:8080/"
        },
        "id": "aBlzFdCHcFCR",
        "outputId": "181d2067-cc6d-4974-bea1-b70baf85b6c3"
      },
      "execution_count": null,
      "outputs": [
        {
          "output_type": "stream",
          "name": "stdout",
          "text": [
            "           V1        V2        V3        V4        V5        V6        V7  \\\n",
            "102  1.586093 -1.169091 -1.350477 -2.504580  1.106389  3.135282 -1.351529   \n",
            "435 -0.420270  0.814760  1.513242  1.292782  0.138053  0.223342  1.088084   \n",
            "348 -0.427191  0.745708  1.761811 -0.165130  0.058298 -0.213413  0.647323   \n",
            "270 -0.399880  1.051966  1.390802  0.093132 -0.007699 -0.717559  0.588095   \n",
            "106 -1.760402  0.221924  0.579950 -1.413194  0.804876 -0.353324  0.869656   \n",
            "..        ...       ...       ...       ...       ...       ...       ...   \n",
            "603  1.255328  0.361160  0.301824  0.681836 -0.342625 -1.031721  0.087989   \n",
            "839 -1.724175  0.058880  1.196906 -0.641733  0.921437 -0.302617  0.279925   \n",
            "753  0.561924  0.468040  0.390124  0.353986  0.329145 -0.294958  0.209691   \n",
            "726  1.256477  0.358339  0.304959  0.691735 -0.363849 -1.068710  0.090955   \n",
            "611 -2.802377 -3.004276  1.407253  2.023058  1.614665 -0.681197 -0.237639   \n",
            "\n",
            "           V8        V9       V10  ...       V21       V22       V23  \\\n",
            "102  0.690932 -2.090697  1.523080  ... -0.200366 -0.325402 -0.071104   \n",
            "435 -0.150282 -0.216386  0.036197  ... -0.043948  0.313610 -0.033527   \n",
            "348  0.073464 -0.291864  0.064800  ... -0.201681 -0.432070  0.013164   \n",
            "270  0.085932 -0.310722 -0.533285  ... -0.224926 -0.573766  0.057041   \n",
            "106 -0.031477  0.317739 -0.118295  ... -0.403692 -0.478169  0.261138   \n",
            "..        ...       ...       ...  ...       ...       ...       ...   \n",
            "603 -0.199577  0.004658 -0.281691  ... -0.284639 -0.814052  0.126706   \n",
            "839  0.135348  0.020521 -0.075444  ... -0.175174 -0.183621 -0.261810   \n",
            "753 -0.002032 -0.057645 -0.200497  ... -0.194424 -0.568283  0.141532   \n",
            "726 -0.206995  0.023621 -0.284509  ... -0.287182 -0.825982  0.127849   \n",
            "611  0.130169  0.013402 -0.720671  ...  0.606376  0.611191  1.126673   \n",
            "\n",
            "          V24       V25       V26       V27       V28    Amount  Class  \n",
            "102  0.996898  0.681093 -0.100190  0.022118  0.009259 -0.271449      0  \n",
            "435  0.097487 -0.080282 -0.255179  0.244131 -0.013384  0.053167      0  \n",
            "348  0.161606 -0.401310  0.047423  0.102549 -0.116571 -0.301190      0  \n",
            "270  0.329354 -0.302724  0.083883  0.258834  0.096337 -0.342817      0  \n",
            "106 -0.903295 -0.130709  0.713907 -0.028134 -0.410877 -0.029074      0  \n",
            "..        ...       ...       ...       ...       ...       ...    ...  \n",
            "603  0.318335  0.219162  0.095535 -0.021710  0.030355 -0.340536      1  \n",
            "839 -0.226405 -0.322132  0.227983 -0.340851 -0.378981 -0.342260      1  \n",
            "753 -0.659742 -0.725523  0.083388  0.126283  0.147784 -0.338756      1  \n",
            "726  0.341489  0.218828  0.094529 -0.022705  0.030921 -0.337658      1  \n",
            "611 -0.424054  0.164388  0.087341 -0.223141 -0.012059  1.711391      1  \n",
            "\n",
            "[784 rows x 30 columns]\n"
          ]
        }
      ]
    },
    {
      "cell_type": "code",
      "source": [
        "strat_sample.head()"
      ],
      "metadata": {
        "colab": {
          "base_uri": "https://localhost:8080/",
          "height": 299
        },
        "id": "ivNKtX9CxaWl",
        "outputId": "38db8a12-48b3-40d0-b331-610988f4d0d3"
      },
      "execution_count": null,
      "outputs": [
        {
          "output_type": "execute_result",
          "data": {
            "text/plain": [
              "           V1        V2        V3        V4        V5        V6        V7  \\\n",
              "102  1.586093 -1.169091 -1.350477 -2.504580  1.106389  3.135282 -1.351529   \n",
              "435 -0.420270  0.814760  1.513242  1.292782  0.138053  0.223342  1.088084   \n",
              "348 -0.427191  0.745708  1.761811 -0.165130  0.058298 -0.213413  0.647323   \n",
              "270 -0.399880  1.051966  1.390802  0.093132 -0.007699 -0.717559  0.588095   \n",
              "106 -1.760402  0.221924  0.579950 -1.413194  0.804876 -0.353324  0.869656   \n",
              "\n",
              "           V8        V9       V10  ...       V21       V22       V23  \\\n",
              "102  0.690932 -2.090697  1.523080  ... -0.200366 -0.325402 -0.071104   \n",
              "435 -0.150282 -0.216386  0.036197  ... -0.043948  0.313610 -0.033527   \n",
              "348  0.073464 -0.291864  0.064800  ... -0.201681 -0.432070  0.013164   \n",
              "270  0.085932 -0.310722 -0.533285  ... -0.224926 -0.573766  0.057041   \n",
              "106 -0.031477  0.317739 -0.118295  ... -0.403692 -0.478169  0.261138   \n",
              "\n",
              "          V24       V25       V26       V27       V28    Amount  Class  \n",
              "102  0.996898  0.681093 -0.100190  0.022118  0.009259 -0.271449      0  \n",
              "435  0.097487 -0.080282 -0.255179  0.244131 -0.013384  0.053167      0  \n",
              "348  0.161606 -0.401310  0.047423  0.102549 -0.116571 -0.301190      0  \n",
              "270  0.329354 -0.302724  0.083883  0.258834  0.096337 -0.342817      0  \n",
              "106 -0.903295 -0.130709  0.713907 -0.028134 -0.410877 -0.029074      0  \n",
              "\n",
              "[5 rows x 30 columns]"
            ],
            "text/html": [
              "\n",
              "  <div id=\"df-591e99bd-6027-4eca-aab4-d5ebef10c7df\">\n",
              "    <div class=\"colab-df-container\">\n",
              "      <div>\n",
              "<style scoped>\n",
              "    .dataframe tbody tr th:only-of-type {\n",
              "        vertical-align: middle;\n",
              "    }\n",
              "\n",
              "    .dataframe tbody tr th {\n",
              "        vertical-align: top;\n",
              "    }\n",
              "\n",
              "    .dataframe thead th {\n",
              "        text-align: right;\n",
              "    }\n",
              "</style>\n",
              "<table border=\"1\" class=\"dataframe\">\n",
              "  <thead>\n",
              "    <tr style=\"text-align: right;\">\n",
              "      <th></th>\n",
              "      <th>V1</th>\n",
              "      <th>V2</th>\n",
              "      <th>V3</th>\n",
              "      <th>V4</th>\n",
              "      <th>V5</th>\n",
              "      <th>V6</th>\n",
              "      <th>V7</th>\n",
              "      <th>V8</th>\n",
              "      <th>V9</th>\n",
              "      <th>V10</th>\n",
              "      <th>...</th>\n",
              "      <th>V21</th>\n",
              "      <th>V22</th>\n",
              "      <th>V23</th>\n",
              "      <th>V24</th>\n",
              "      <th>V25</th>\n",
              "      <th>V26</th>\n",
              "      <th>V27</th>\n",
              "      <th>V28</th>\n",
              "      <th>Amount</th>\n",
              "      <th>Class</th>\n",
              "    </tr>\n",
              "  </thead>\n",
              "  <tbody>\n",
              "    <tr>\n",
              "      <th>102</th>\n",
              "      <td>1.586093</td>\n",
              "      <td>-1.169091</td>\n",
              "      <td>-1.350477</td>\n",
              "      <td>-2.504580</td>\n",
              "      <td>1.106389</td>\n",
              "      <td>3.135282</td>\n",
              "      <td>-1.351529</td>\n",
              "      <td>0.690932</td>\n",
              "      <td>-2.090697</td>\n",
              "      <td>1.523080</td>\n",
              "      <td>...</td>\n",
              "      <td>-0.200366</td>\n",
              "      <td>-0.325402</td>\n",
              "      <td>-0.071104</td>\n",
              "      <td>0.996898</td>\n",
              "      <td>0.681093</td>\n",
              "      <td>-0.100190</td>\n",
              "      <td>0.022118</td>\n",
              "      <td>0.009259</td>\n",
              "      <td>-0.271449</td>\n",
              "      <td>0</td>\n",
              "    </tr>\n",
              "    <tr>\n",
              "      <th>435</th>\n",
              "      <td>-0.420270</td>\n",
              "      <td>0.814760</td>\n",
              "      <td>1.513242</td>\n",
              "      <td>1.292782</td>\n",
              "      <td>0.138053</td>\n",
              "      <td>0.223342</td>\n",
              "      <td>1.088084</td>\n",
              "      <td>-0.150282</td>\n",
              "      <td>-0.216386</td>\n",
              "      <td>0.036197</td>\n",
              "      <td>...</td>\n",
              "      <td>-0.043948</td>\n",
              "      <td>0.313610</td>\n",
              "      <td>-0.033527</td>\n",
              "      <td>0.097487</td>\n",
              "      <td>-0.080282</td>\n",
              "      <td>-0.255179</td>\n",
              "      <td>0.244131</td>\n",
              "      <td>-0.013384</td>\n",
              "      <td>0.053167</td>\n",
              "      <td>0</td>\n",
              "    </tr>\n",
              "    <tr>\n",
              "      <th>348</th>\n",
              "      <td>-0.427191</td>\n",
              "      <td>0.745708</td>\n",
              "      <td>1.761811</td>\n",
              "      <td>-0.165130</td>\n",
              "      <td>0.058298</td>\n",
              "      <td>-0.213413</td>\n",
              "      <td>0.647323</td>\n",
              "      <td>0.073464</td>\n",
              "      <td>-0.291864</td>\n",
              "      <td>0.064800</td>\n",
              "      <td>...</td>\n",
              "      <td>-0.201681</td>\n",
              "      <td>-0.432070</td>\n",
              "      <td>0.013164</td>\n",
              "      <td>0.161606</td>\n",
              "      <td>-0.401310</td>\n",
              "      <td>0.047423</td>\n",
              "      <td>0.102549</td>\n",
              "      <td>-0.116571</td>\n",
              "      <td>-0.301190</td>\n",
              "      <td>0</td>\n",
              "    </tr>\n",
              "    <tr>\n",
              "      <th>270</th>\n",
              "      <td>-0.399880</td>\n",
              "      <td>1.051966</td>\n",
              "      <td>1.390802</td>\n",
              "      <td>0.093132</td>\n",
              "      <td>-0.007699</td>\n",
              "      <td>-0.717559</td>\n",
              "      <td>0.588095</td>\n",
              "      <td>0.085932</td>\n",
              "      <td>-0.310722</td>\n",
              "      <td>-0.533285</td>\n",
              "      <td>...</td>\n",
              "      <td>-0.224926</td>\n",
              "      <td>-0.573766</td>\n",
              "      <td>0.057041</td>\n",
              "      <td>0.329354</td>\n",
              "      <td>-0.302724</td>\n",
              "      <td>0.083883</td>\n",
              "      <td>0.258834</td>\n",
              "      <td>0.096337</td>\n",
              "      <td>-0.342817</td>\n",
              "      <td>0</td>\n",
              "    </tr>\n",
              "    <tr>\n",
              "      <th>106</th>\n",
              "      <td>-1.760402</td>\n",
              "      <td>0.221924</td>\n",
              "      <td>0.579950</td>\n",
              "      <td>-1.413194</td>\n",
              "      <td>0.804876</td>\n",
              "      <td>-0.353324</td>\n",
              "      <td>0.869656</td>\n",
              "      <td>-0.031477</td>\n",
              "      <td>0.317739</td>\n",
              "      <td>-0.118295</td>\n",
              "      <td>...</td>\n",
              "      <td>-0.403692</td>\n",
              "      <td>-0.478169</td>\n",
              "      <td>0.261138</td>\n",
              "      <td>-0.903295</td>\n",
              "      <td>-0.130709</td>\n",
              "      <td>0.713907</td>\n",
              "      <td>-0.028134</td>\n",
              "      <td>-0.410877</td>\n",
              "      <td>-0.029074</td>\n",
              "      <td>0</td>\n",
              "    </tr>\n",
              "  </tbody>\n",
              "</table>\n",
              "<p>5 rows × 30 columns</p>\n",
              "</div>\n",
              "      <button class=\"colab-df-convert\" onclick=\"convertToInteractive('df-591e99bd-6027-4eca-aab4-d5ebef10c7df')\"\n",
              "              title=\"Convert this dataframe to an interactive table.\"\n",
              "              style=\"display:none;\">\n",
              "        \n",
              "  <svg xmlns=\"http://www.w3.org/2000/svg\" height=\"24px\"viewBox=\"0 0 24 24\"\n",
              "       width=\"24px\">\n",
              "    <path d=\"M0 0h24v24H0V0z\" fill=\"none\"/>\n",
              "    <path d=\"M18.56 5.44l.94 2.06.94-2.06 2.06-.94-2.06-.94-.94-2.06-.94 2.06-2.06.94zm-11 1L8.5 8.5l.94-2.06 2.06-.94-2.06-.94L8.5 2.5l-.94 2.06-2.06.94zm10 10l.94 2.06.94-2.06 2.06-.94-2.06-.94-.94-2.06-.94 2.06-2.06.94z\"/><path d=\"M17.41 7.96l-1.37-1.37c-.4-.4-.92-.59-1.43-.59-.52 0-1.04.2-1.43.59L10.3 9.45l-7.72 7.72c-.78.78-.78 2.05 0 2.83L4 21.41c.39.39.9.59 1.41.59.51 0 1.02-.2 1.41-.59l7.78-7.78 2.81-2.81c.8-.78.8-2.07 0-2.86zM5.41 20L4 18.59l7.72-7.72 1.47 1.35L5.41 20z\"/>\n",
              "  </svg>\n",
              "      </button>\n",
              "      \n",
              "  <style>\n",
              "    .colab-df-container {\n",
              "      display:flex;\n",
              "      flex-wrap:wrap;\n",
              "      gap: 12px;\n",
              "    }\n",
              "\n",
              "    .colab-df-convert {\n",
              "      background-color: #E8F0FE;\n",
              "      border: none;\n",
              "      border-radius: 50%;\n",
              "      cursor: pointer;\n",
              "      display: none;\n",
              "      fill: #1967D2;\n",
              "      height: 32px;\n",
              "      padding: 0 0 0 0;\n",
              "      width: 32px;\n",
              "    }\n",
              "\n",
              "    .colab-df-convert:hover {\n",
              "      background-color: #E2EBFA;\n",
              "      box-shadow: 0px 1px 2px rgba(60, 64, 67, 0.3), 0px 1px 3px 1px rgba(60, 64, 67, 0.15);\n",
              "      fill: #174EA6;\n",
              "    }\n",
              "\n",
              "    [theme=dark] .colab-df-convert {\n",
              "      background-color: #3B4455;\n",
              "      fill: #D2E3FC;\n",
              "    }\n",
              "\n",
              "    [theme=dark] .colab-df-convert:hover {\n",
              "      background-color: #434B5C;\n",
              "      box-shadow: 0px 1px 3px 1px rgba(0, 0, 0, 0.15);\n",
              "      filter: drop-shadow(0px 1px 2px rgba(0, 0, 0, 0.3));\n",
              "      fill: #FFFFFF;\n",
              "    }\n",
              "  </style>\n",
              "\n",
              "      <script>\n",
              "        const buttonEl =\n",
              "          document.querySelector('#df-591e99bd-6027-4eca-aab4-d5ebef10c7df button.colab-df-convert');\n",
              "        buttonEl.style.display =\n",
              "          google.colab.kernel.accessAllowed ? 'block' : 'none';\n",
              "\n",
              "        async function convertToInteractive(key) {\n",
              "          const element = document.querySelector('#df-591e99bd-6027-4eca-aab4-d5ebef10c7df');\n",
              "          const dataTable =\n",
              "            await google.colab.kernel.invokeFunction('convertToInteractive',\n",
              "                                                     [key], {});\n",
              "          if (!dataTable) return;\n",
              "\n",
              "          const docLinkHtml = 'Like what you see? Visit the ' +\n",
              "            '<a target=\"_blank\" href=https://colab.research.google.com/notebooks/data_table.ipynb>data table notebook</a>'\n",
              "            + ' to learn more about interactive tables.';\n",
              "          element.innerHTML = '';\n",
              "          dataTable['output_type'] = 'display_data';\n",
              "          await google.colab.output.renderOutput(dataTable, element);\n",
              "          const docLink = document.createElement('div');\n",
              "          docLink.innerHTML = docLinkHtml;\n",
              "          element.appendChild(docLink);\n",
              "        }\n",
              "      </script>\n",
              "    </div>\n",
              "  </div>\n",
              "  "
            ]
          },
          "metadata": {},
          "execution_count": 324
        }
      ]
    },
    {
      "cell_type": "markdown",
      "source": [
        "Classification Models"
      ],
      "metadata": {
        "id": "uzQUN_8ssaSy"
      }
    },
    {
      "cell_type": "code",
      "source": [
        "# Spliting input and output features\n",
        "x_strat=strat_sample.iloc[:,:-1]\n",
        "y_strat=strat_sample.iloc[:,-1]"
      ],
      "metadata": {
        "id": "mUH6iAycsjGJ"
      },
      "execution_count": null,
      "outputs": []
    },
    {
      "cell_type": "code",
      "source": [
        "# Training-Testing Splitting\n",
        "from sklearn.model_selection import train_test_split\n",
        "x_train, x_test, y_train, y_test = train_test_split(x_strat, y_strat, test_size=0.25, random_state=42)"
      ],
      "metadata": {
        "id": "W1yXjH-SsnQF"
      },
      "execution_count": null,
      "outputs": []
    },
    {
      "cell_type": "markdown",
      "source": [
        "Logistic Regression"
      ],
      "metadata": {
        "id": "EqiLavn0sery"
      }
    },
    {
      "cell_type": "code",
      "source": [
        "# Logistic Regression\n",
        "from sklearn.metrics import accuracy_score\n",
        "from sklearn import linear_model\n",
        "logr = linear_model.LogisticRegression()\n",
        "logr.fit(x_train, y_train)\n",
        "logr_pred = logr.predict(x_test)\n",
        "score = accuracy_score(logr_pred, y_test)\n",
        "print(score)"
      ],
      "metadata": {
        "colab": {
          "base_uri": "https://localhost:8080/"
        },
        "id": "4wHR-4gPshNn",
        "outputId": "f6226edf-6106-4318-b381-702a566f4e80"
      },
      "execution_count": null,
      "outputs": [
        {
          "output_type": "stream",
          "name": "stdout",
          "text": [
            "0.9132653061224489\n"
          ]
        }
      ]
    },
    {
      "cell_type": "markdown",
      "source": [
        "Decision Tree Classifier"
      ],
      "metadata": {
        "id": "RrM3QOT6s9_1"
      }
    },
    {
      "cell_type": "code",
      "source": [
        "# Decision Tree Classifier\n",
        "from sklearn.tree import DecisionTreeClassifier\n",
        "from sklearn.metrics import confusion_matrix,accuracy_score\n",
        "\n",
        "dtree_model = DecisionTreeClassifier(max_depth = 2).fit(x_train, y_train)\n",
        "dtree_predictions = dtree_model.predict(x_test)\n",
        "\n",
        "# creating a confusion matrix\n",
        "#cm = confusion_matrix(y_test,dtree_predictions)\n",
        "#print(cm)\n",
        "accuracy_score(y_test,dtree_predictions)"
      ],
      "metadata": {
        "colab": {
          "base_uri": "https://localhost:8080/"
        },
        "id": "xqKzfYJKtFPh",
        "outputId": "2af62c87-fd1b-4c53-9c75-9d2bc23839fa"
      },
      "execution_count": null,
      "outputs": [
        {
          "output_type": "execute_result",
          "data": {
            "text/plain": [
              "0.9081632653061225"
            ]
          },
          "metadata": {},
          "execution_count": 328
        }
      ]
    },
    {
      "cell_type": "markdown",
      "source": [
        "Random Forest Classification"
      ],
      "metadata": {
        "id": "snDXHQuptLZI"
      }
    },
    {
      "cell_type": "code",
      "source": [
        "# Random Forest Classifier\n",
        "from sklearn.ensemble import RandomForestClassifier\n",
        "from sklearn.metrics import accuracy_score\n",
        "model1 = RandomForestClassifier()\n",
        "model1.fit(x_train, y_train)\n",
        "ypred = model1.predict(x_test)\n",
        "print(accuracy_score(y_test, ypred))"
      ],
      "metadata": {
        "colab": {
          "base_uri": "https://localhost:8080/"
        },
        "id": "YJtUmxtdtPK2",
        "outputId": "ca4de44c-6441-4812-dea4-b5e02f973060"
      },
      "execution_count": null,
      "outputs": [
        {
          "output_type": "stream",
          "name": "stdout",
          "text": [
            "0.9948979591836735\n"
          ]
        }
      ]
    },
    {
      "cell_type": "markdown",
      "source": [
        "KNN Classification"
      ],
      "metadata": {
        "id": "jf_KxEAytG2Y"
      }
    },
    {
      "cell_type": "code",
      "source": [
        "#KNN Classification\n",
        "from sklearn.neighbors import KNeighborsClassifier\n",
        "model = KNeighborsClassifier()\n",
        "model.fit(x_train, y_train)\n",
        "ypred = model.predict(x_test)\n",
        "print(accuracy_score(y_test, ypred))"
      ],
      "metadata": {
        "colab": {
          "base_uri": "https://localhost:8080/"
        },
        "id": "Q7ew1ieztJ3O",
        "outputId": "16899113-8240-449b-f521-297fd10ead7b"
      },
      "execution_count": null,
      "outputs": [
        {
          "output_type": "stream",
          "name": "stdout",
          "text": [
            "0.9438775510204082\n"
          ]
        }
      ]
    },
    {
      "cell_type": "markdown",
      "source": [
        "Naive Bayes Classifiaction"
      ],
      "metadata": {
        "id": "6VdnIU8ltRES"
      }
    },
    {
      "cell_type": "code",
      "source": [
        "# Gaussian Naive Bayes\n",
        "from sklearn.naive_bayes import GaussianNB\n",
        "model = GaussianNB()\n",
        "model.fit(x_train, y_train)\n",
        "ypred = model.predict(x_test)\n",
        "print(accuracy_score(y_test, ypred))"
      ],
      "metadata": {
        "colab": {
          "base_uri": "https://localhost:8080/"
        },
        "id": "Atu3knBrtTyr",
        "outputId": "1d300019-5363-4b98-e1f7-ae9373e8b3e1"
      },
      "execution_count": null,
      "outputs": [
        {
          "output_type": "stream",
          "name": "stdout",
          "text": [
            "0.6581632653061225\n"
          ]
        }
      ]
    },
    {
      "cell_type": "markdown",
      "source": [
        "### Systematic Sampling"
      ],
      "metadata": {
        "id": "K1QCldzLzGow"
      }
    },
    {
      "cell_type": "markdown",
      "source": [
        "k = 4 (Interval)"
      ],
      "metadata": {
        "id": "3K_vUX-MydQD"
      }
    },
    {
      "cell_type": "markdown",
      "source": [
        "Creating Samples"
      ],
      "metadata": {
        "id": "kvqAguP7yVOD"
      }
    },
    {
      "cell_type": "code",
      "source": [
        "# Systematic Sampling\n",
        "sys_sample = df2.iloc[::4]\n",
        "print(sys_sample)"
      ],
      "metadata": {
        "id": "t780RYbHzKCV",
        "colab": {
          "base_uri": "https://localhost:8080/"
        },
        "outputId": "39a9074c-3923-4e84-d8f1-8132dc0cea20"
      },
      "execution_count": null,
      "outputs": [
        {
          "output_type": "stream",
          "name": "stdout",
          "text": [
            "           V1        V2        V3        V4        V5        V6        V7  \\\n",
            "0    0.921024 -0.162447 -0.094331  0.474084 -0.021486 -0.397506  0.482643   \n",
            "4   -0.866655  1.029621 -0.410810  0.159946  2.372236  3.801113 -0.088801   \n",
            "8    1.038370  0.127486  0.184456  1.109950  0.441699  0.945283 -0.036715   \n",
            "12  -0.471796  0.523169  1.948967  0.995503  0.379069 -0.577466  0.521413   \n",
            "16   1.000234 -0.295227  1.308259  1.257753 -0.967532  0.460245 -0.781850   \n",
            "..        ...       ...       ...       ...       ...       ...       ...   \n",
            "980 -1.996360  1.800026 -1.449728  3.677923 -0.469707 -1.305377 -2.315765   \n",
            "984 -1.988993 -2.382900  2.410593  1.060672  2.393909  0.555115 -2.005063   \n",
            "988 -1.755141 -0.108323  1.267966 -0.543090  1.018048 -0.235784  0.118699   \n",
            "992  1.256504  0.358477  0.305001  0.691711 -0.363718 -1.068683  0.091026   \n",
            "996  1.218678  0.301938  0.224331  0.552347 -0.123514 -0.502559 -0.008372   \n",
            "\n",
            "           V8        V9       V10  ...       V21       V22       V23  \\\n",
            "0   -0.117496 -0.577836 -0.018607  ... -0.209381 -0.930107  0.028510   \n",
            "4    1.103079 -0.293703  0.217734  ... -0.098255 -0.140316 -0.181176   \n",
            "8    0.350995  0.118950 -0.243289  ...  0.102520  0.605089  0.023092   \n",
            "12  -0.128940 -0.704962  0.186559  ... -0.099422 -0.287139  0.151288   \n",
            "16   0.424415  0.790908 -0.054855  ...  0.032730  0.179644  0.028786   \n",
            "..        ...       ...       ...  ...       ...       ...       ...   \n",
            "980  1.273881 -2.543412 -2.537425  ...  0.450256 -0.089461 -0.414146   \n",
            "984  0.759730  0.917484 -0.317046  ...  0.395855  1.134095  0.273107   \n",
            "988  0.181571  0.082583 -0.082981  ... -0.141496 -0.104342 -0.226502   \n",
            "992 -0.207066  0.023423 -0.284541  ... -0.287175 -0.825868  0.127845   \n",
            "996 -0.037371 -0.131828 -0.216163  ... -0.252069 -0.721193  0.112685   \n",
            "\n",
            "          V24       V25       V26       V27       V28    Amount  Class  \n",
            "0    0.032682  0.155130  0.133250 -0.073534  0.022349  0.410863      0  \n",
            "4    1.014273  0.119952 -0.288597 -0.144102 -0.077164 -0.304326      0  \n",
            "8   -0.626463  0.479120 -0.166937  0.081247  0.001192 -0.341350      0  \n",
            "12   0.490367 -0.725252 -0.741834  0.004784 -0.045977 -0.254000      0  \n",
            "16   0.203489  0.234992 -0.408459  0.072615  0.028892 -0.165385      0  \n",
            "..        ...       ...       ...       ...       ...       ...    ...  \n",
            "980  0.260700  0.055575  0.173157  0.236795 -0.129033 -0.346092      1  \n",
            "984 -0.829729 -0.224435  0.833596 -0.134364 -0.180449 -0.339843      1  \n",
            "988 -0.276641 -0.327726  0.279554 -0.331192 -0.370132 -0.342100      1  \n",
            "992  0.341524  0.218877  0.094526 -0.022694  0.030921 -0.337725      1  \n",
            "996 -0.050920  0.187916  0.112628 -0.015096  0.021601 -0.333712      1  \n",
            "\n",
            "[250 rows x 30 columns]\n"
          ]
        }
      ]
    },
    {
      "cell_type": "code",
      "source": [
        "sys_sample.head()"
      ],
      "metadata": {
        "colab": {
          "base_uri": "https://localhost:8080/",
          "height": 299
        },
        "id": "ZxVRDp2OyswO",
        "outputId": "70af9cc9-b451-465b-a0ab-513ca65b6ce1"
      },
      "execution_count": null,
      "outputs": [
        {
          "output_type": "execute_result",
          "data": {
            "text/plain": [
              "          V1        V2        V3        V4        V5        V6        V7  \\\n",
              "0   0.921024 -0.162447 -0.094331  0.474084 -0.021486 -0.397506  0.482643   \n",
              "4  -0.866655  1.029621 -0.410810  0.159946  2.372236  3.801113 -0.088801   \n",
              "8   1.038370  0.127486  0.184456  1.109950  0.441699  0.945283 -0.036715   \n",
              "12 -0.471796  0.523169  1.948967  0.995503  0.379069 -0.577466  0.521413   \n",
              "16  1.000234 -0.295227  1.308259  1.257753 -0.967532  0.460245 -0.781850   \n",
              "\n",
              "          V8        V9       V10  ...       V21       V22       V23       V24  \\\n",
              "0  -0.117496 -0.577836 -0.018607  ... -0.209381 -0.930107  0.028510  0.032682   \n",
              "4   1.103079 -0.293703  0.217734  ... -0.098255 -0.140316 -0.181176  1.014273   \n",
              "8   0.350995  0.118950 -0.243289  ...  0.102520  0.605089  0.023092 -0.626463   \n",
              "12 -0.128940 -0.704962  0.186559  ... -0.099422 -0.287139  0.151288  0.490367   \n",
              "16  0.424415  0.790908 -0.054855  ...  0.032730  0.179644  0.028786  0.203489   \n",
              "\n",
              "         V25       V26       V27       V28    Amount  Class  \n",
              "0   0.155130  0.133250 -0.073534  0.022349  0.410863      0  \n",
              "4   0.119952 -0.288597 -0.144102 -0.077164 -0.304326      0  \n",
              "8   0.479120 -0.166937  0.081247  0.001192 -0.341350      0  \n",
              "12 -0.725252 -0.741834  0.004784 -0.045977 -0.254000      0  \n",
              "16  0.234992 -0.408459  0.072615  0.028892 -0.165385      0  \n",
              "\n",
              "[5 rows x 30 columns]"
            ],
            "text/html": [
              "\n",
              "  <div id=\"df-a71b0ea5-0fbf-4d81-8a84-d987c3d0915c\">\n",
              "    <div class=\"colab-df-container\">\n",
              "      <div>\n",
              "<style scoped>\n",
              "    .dataframe tbody tr th:only-of-type {\n",
              "        vertical-align: middle;\n",
              "    }\n",
              "\n",
              "    .dataframe tbody tr th {\n",
              "        vertical-align: top;\n",
              "    }\n",
              "\n",
              "    .dataframe thead th {\n",
              "        text-align: right;\n",
              "    }\n",
              "</style>\n",
              "<table border=\"1\" class=\"dataframe\">\n",
              "  <thead>\n",
              "    <tr style=\"text-align: right;\">\n",
              "      <th></th>\n",
              "      <th>V1</th>\n",
              "      <th>V2</th>\n",
              "      <th>V3</th>\n",
              "      <th>V4</th>\n",
              "      <th>V5</th>\n",
              "      <th>V6</th>\n",
              "      <th>V7</th>\n",
              "      <th>V8</th>\n",
              "      <th>V9</th>\n",
              "      <th>V10</th>\n",
              "      <th>...</th>\n",
              "      <th>V21</th>\n",
              "      <th>V22</th>\n",
              "      <th>V23</th>\n",
              "      <th>V24</th>\n",
              "      <th>V25</th>\n",
              "      <th>V26</th>\n",
              "      <th>V27</th>\n",
              "      <th>V28</th>\n",
              "      <th>Amount</th>\n",
              "      <th>Class</th>\n",
              "    </tr>\n",
              "  </thead>\n",
              "  <tbody>\n",
              "    <tr>\n",
              "      <th>0</th>\n",
              "      <td>0.921024</td>\n",
              "      <td>-0.162447</td>\n",
              "      <td>-0.094331</td>\n",
              "      <td>0.474084</td>\n",
              "      <td>-0.021486</td>\n",
              "      <td>-0.397506</td>\n",
              "      <td>0.482643</td>\n",
              "      <td>-0.117496</td>\n",
              "      <td>-0.577836</td>\n",
              "      <td>-0.018607</td>\n",
              "      <td>...</td>\n",
              "      <td>-0.209381</td>\n",
              "      <td>-0.930107</td>\n",
              "      <td>0.028510</td>\n",
              "      <td>0.032682</td>\n",
              "      <td>0.155130</td>\n",
              "      <td>0.133250</td>\n",
              "      <td>-0.073534</td>\n",
              "      <td>0.022349</td>\n",
              "      <td>0.410863</td>\n",
              "      <td>0</td>\n",
              "    </tr>\n",
              "    <tr>\n",
              "      <th>4</th>\n",
              "      <td>-0.866655</td>\n",
              "      <td>1.029621</td>\n",
              "      <td>-0.410810</td>\n",
              "      <td>0.159946</td>\n",
              "      <td>2.372236</td>\n",
              "      <td>3.801113</td>\n",
              "      <td>-0.088801</td>\n",
              "      <td>1.103079</td>\n",
              "      <td>-0.293703</td>\n",
              "      <td>0.217734</td>\n",
              "      <td>...</td>\n",
              "      <td>-0.098255</td>\n",
              "      <td>-0.140316</td>\n",
              "      <td>-0.181176</td>\n",
              "      <td>1.014273</td>\n",
              "      <td>0.119952</td>\n",
              "      <td>-0.288597</td>\n",
              "      <td>-0.144102</td>\n",
              "      <td>-0.077164</td>\n",
              "      <td>-0.304326</td>\n",
              "      <td>0</td>\n",
              "    </tr>\n",
              "    <tr>\n",
              "      <th>8</th>\n",
              "      <td>1.038370</td>\n",
              "      <td>0.127486</td>\n",
              "      <td>0.184456</td>\n",
              "      <td>1.109950</td>\n",
              "      <td>0.441699</td>\n",
              "      <td>0.945283</td>\n",
              "      <td>-0.036715</td>\n",
              "      <td>0.350995</td>\n",
              "      <td>0.118950</td>\n",
              "      <td>-0.243289</td>\n",
              "      <td>...</td>\n",
              "      <td>0.102520</td>\n",
              "      <td>0.605089</td>\n",
              "      <td>0.023092</td>\n",
              "      <td>-0.626463</td>\n",
              "      <td>0.479120</td>\n",
              "      <td>-0.166937</td>\n",
              "      <td>0.081247</td>\n",
              "      <td>0.001192</td>\n",
              "      <td>-0.341350</td>\n",
              "      <td>0</td>\n",
              "    </tr>\n",
              "    <tr>\n",
              "      <th>12</th>\n",
              "      <td>-0.471796</td>\n",
              "      <td>0.523169</td>\n",
              "      <td>1.948967</td>\n",
              "      <td>0.995503</td>\n",
              "      <td>0.379069</td>\n",
              "      <td>-0.577466</td>\n",
              "      <td>0.521413</td>\n",
              "      <td>-0.128940</td>\n",
              "      <td>-0.704962</td>\n",
              "      <td>0.186559</td>\n",
              "      <td>...</td>\n",
              "      <td>-0.099422</td>\n",
              "      <td>-0.287139</td>\n",
              "      <td>0.151288</td>\n",
              "      <td>0.490367</td>\n",
              "      <td>-0.725252</td>\n",
              "      <td>-0.741834</td>\n",
              "      <td>0.004784</td>\n",
              "      <td>-0.045977</td>\n",
              "      <td>-0.254000</td>\n",
              "      <td>0</td>\n",
              "    </tr>\n",
              "    <tr>\n",
              "      <th>16</th>\n",
              "      <td>1.000234</td>\n",
              "      <td>-0.295227</td>\n",
              "      <td>1.308259</td>\n",
              "      <td>1.257753</td>\n",
              "      <td>-0.967532</td>\n",
              "      <td>0.460245</td>\n",
              "      <td>-0.781850</td>\n",
              "      <td>0.424415</td>\n",
              "      <td>0.790908</td>\n",
              "      <td>-0.054855</td>\n",
              "      <td>...</td>\n",
              "      <td>0.032730</td>\n",
              "      <td>0.179644</td>\n",
              "      <td>0.028786</td>\n",
              "      <td>0.203489</td>\n",
              "      <td>0.234992</td>\n",
              "      <td>-0.408459</td>\n",
              "      <td>0.072615</td>\n",
              "      <td>0.028892</td>\n",
              "      <td>-0.165385</td>\n",
              "      <td>0</td>\n",
              "    </tr>\n",
              "  </tbody>\n",
              "</table>\n",
              "<p>5 rows × 30 columns</p>\n",
              "</div>\n",
              "      <button class=\"colab-df-convert\" onclick=\"convertToInteractive('df-a71b0ea5-0fbf-4d81-8a84-d987c3d0915c')\"\n",
              "              title=\"Convert this dataframe to an interactive table.\"\n",
              "              style=\"display:none;\">\n",
              "        \n",
              "  <svg xmlns=\"http://www.w3.org/2000/svg\" height=\"24px\"viewBox=\"0 0 24 24\"\n",
              "       width=\"24px\">\n",
              "    <path d=\"M0 0h24v24H0V0z\" fill=\"none\"/>\n",
              "    <path d=\"M18.56 5.44l.94 2.06.94-2.06 2.06-.94-2.06-.94-.94-2.06-.94 2.06-2.06.94zm-11 1L8.5 8.5l.94-2.06 2.06-.94-2.06-.94L8.5 2.5l-.94 2.06-2.06.94zm10 10l.94 2.06.94-2.06 2.06-.94-2.06-.94-.94-2.06-.94 2.06-2.06.94z\"/><path d=\"M17.41 7.96l-1.37-1.37c-.4-.4-.92-.59-1.43-.59-.52 0-1.04.2-1.43.59L10.3 9.45l-7.72 7.72c-.78.78-.78 2.05 0 2.83L4 21.41c.39.39.9.59 1.41.59.51 0 1.02-.2 1.41-.59l7.78-7.78 2.81-2.81c.8-.78.8-2.07 0-2.86zM5.41 20L4 18.59l7.72-7.72 1.47 1.35L5.41 20z\"/>\n",
              "  </svg>\n",
              "      </button>\n",
              "      \n",
              "  <style>\n",
              "    .colab-df-container {\n",
              "      display:flex;\n",
              "      flex-wrap:wrap;\n",
              "      gap: 12px;\n",
              "    }\n",
              "\n",
              "    .colab-df-convert {\n",
              "      background-color: #E8F0FE;\n",
              "      border: none;\n",
              "      border-radius: 50%;\n",
              "      cursor: pointer;\n",
              "      display: none;\n",
              "      fill: #1967D2;\n",
              "      height: 32px;\n",
              "      padding: 0 0 0 0;\n",
              "      width: 32px;\n",
              "    }\n",
              "\n",
              "    .colab-df-convert:hover {\n",
              "      background-color: #E2EBFA;\n",
              "      box-shadow: 0px 1px 2px rgba(60, 64, 67, 0.3), 0px 1px 3px 1px rgba(60, 64, 67, 0.15);\n",
              "      fill: #174EA6;\n",
              "    }\n",
              "\n",
              "    [theme=dark] .colab-df-convert {\n",
              "      background-color: #3B4455;\n",
              "      fill: #D2E3FC;\n",
              "    }\n",
              "\n",
              "    [theme=dark] .colab-df-convert:hover {\n",
              "      background-color: #434B5C;\n",
              "      box-shadow: 0px 1px 3px 1px rgba(0, 0, 0, 0.15);\n",
              "      filter: drop-shadow(0px 1px 2px rgba(0, 0, 0, 0.3));\n",
              "      fill: #FFFFFF;\n",
              "    }\n",
              "  </style>\n",
              "\n",
              "      <script>\n",
              "        const buttonEl =\n",
              "          document.querySelector('#df-a71b0ea5-0fbf-4d81-8a84-d987c3d0915c button.colab-df-convert');\n",
              "        buttonEl.style.display =\n",
              "          google.colab.kernel.accessAllowed ? 'block' : 'none';\n",
              "\n",
              "        async function convertToInteractive(key) {\n",
              "          const element = document.querySelector('#df-a71b0ea5-0fbf-4d81-8a84-d987c3d0915c');\n",
              "          const dataTable =\n",
              "            await google.colab.kernel.invokeFunction('convertToInteractive',\n",
              "                                                     [key], {});\n",
              "          if (!dataTable) return;\n",
              "\n",
              "          const docLinkHtml = 'Like what you see? Visit the ' +\n",
              "            '<a target=\"_blank\" href=https://colab.research.google.com/notebooks/data_table.ipynb>data table notebook</a>'\n",
              "            + ' to learn more about interactive tables.';\n",
              "          element.innerHTML = '';\n",
              "          dataTable['output_type'] = 'display_data';\n",
              "          await google.colab.output.renderOutput(dataTable, element);\n",
              "          const docLink = document.createElement('div');\n",
              "          docLink.innerHTML = docLinkHtml;\n",
              "          element.appendChild(docLink);\n",
              "        }\n",
              "      </script>\n",
              "    </div>\n",
              "  </div>\n",
              "  "
            ]
          },
          "metadata": {},
          "execution_count": 336
        }
      ]
    },
    {
      "cell_type": "markdown",
      "source": [
        "Classification Models"
      ],
      "metadata": {
        "id": "Iw1vQ9N0y54O"
      }
    },
    {
      "cell_type": "code",
      "source": [
        "# Spliting input and output features\n",
        "x_sys=sys_sample.iloc[:,:-1]\n",
        "y_sys=sys_sample.iloc[:,-1]"
      ],
      "metadata": {
        "id": "iSHMb9T7zCuA"
      },
      "execution_count": null,
      "outputs": []
    },
    {
      "cell_type": "code",
      "source": [
        "# Training-Testing Splitting\n",
        "from sklearn.model_selection import train_test_split\n",
        "x_train, x_test, y_train, y_test = train_test_split(x_sys, y_sys, test_size=0.25, random_state=42)"
      ],
      "metadata": {
        "id": "nc07fSyHzFY6"
      },
      "execution_count": null,
      "outputs": []
    },
    {
      "cell_type": "markdown",
      "source": [
        "Logistic Regression"
      ],
      "metadata": {
        "id": "4RKXCslky99_"
      }
    },
    {
      "cell_type": "code",
      "source": [
        "# Logistic Regression\n",
        "from sklearn.metrics import accuracy_score\n",
        "from sklearn import linear_model\n",
        "logr = linear_model.LogisticRegression()\n",
        "logr.fit(x_train, y_train)\n",
        "logr_pred = logr.predict(x_test)\n",
        "score = accuracy_score(logr_pred, y_test)\n",
        "print(score)"
      ],
      "metadata": {
        "colab": {
          "base_uri": "https://localhost:8080/"
        },
        "id": "gtq3MdZwzALT",
        "outputId": "869350cd-221e-4924-c2ec-d118b2cfdbe5"
      },
      "execution_count": null,
      "outputs": [
        {
          "output_type": "stream",
          "name": "stdout",
          "text": [
            "0.8888888888888888\n"
          ]
        }
      ]
    },
    {
      "cell_type": "markdown",
      "source": [
        "Decision Tree Classifiaction"
      ],
      "metadata": {
        "id": "-ZKvR7M7zVkW"
      }
    },
    {
      "cell_type": "code",
      "source": [
        "# Decision Tree Classifier\n",
        "from sklearn.tree import DecisionTreeClassifier\n",
        "from sklearn.metrics import confusion_matrix,accuracy_score\n",
        "\n",
        "dtree_model = DecisionTreeClassifier(max_depth = 2).fit(x_train, y_train)\n",
        "dtree_predictions = dtree_model.predict(x_test)\n",
        "\n",
        "# creating a confusion matrix\n",
        "#cm = confusion_matrix(y_test,dtree_predictions)\n",
        "#print(cm)\n",
        "accuracy_score(y_test,dtree_predictions)"
      ],
      "metadata": {
        "colab": {
          "base_uri": "https://localhost:8080/"
        },
        "id": "HcuavVb1y9Sd",
        "outputId": "40b00dd0-9185-41bf-e962-74e946dc4ace"
      },
      "execution_count": null,
      "outputs": [
        {
          "output_type": "execute_result",
          "data": {
            "text/plain": [
              "0.8571428571428571"
            ]
          },
          "metadata": {},
          "execution_count": 354
        }
      ]
    },
    {
      "cell_type": "markdown",
      "source": [
        "Random Forest Classification"
      ],
      "metadata": {
        "id": "SsetVKxyzcqw"
      }
    },
    {
      "cell_type": "code",
      "source": [
        "# Random Forest Classifier\n",
        "from sklearn.ensemble import RandomForestClassifier\n",
        "from sklearn.metrics import accuracy_score\n",
        "model1 = RandomForestClassifier()\n",
        "model1.fit(x_train, y_train)\n",
        "ypred1 = model1.predict(x_test)\n",
        "print(accuracy_score(y_test, ypred1))"
      ],
      "metadata": {
        "colab": {
          "base_uri": "https://localhost:8080/"
        },
        "id": "ui_n5ZAkzf8m",
        "outputId": "7fdb022a-3395-47f5-b0d7-6c9a0eb94545"
      },
      "execution_count": null,
      "outputs": [
        {
          "output_type": "stream",
          "name": "stdout",
          "text": [
            "0.9841269841269841\n"
          ]
        }
      ]
    },
    {
      "cell_type": "markdown",
      "source": [
        "KNN Classification"
      ],
      "metadata": {
        "id": "CCo0uJvFzlUw"
      }
    },
    {
      "cell_type": "code",
      "source": [
        "#KNN Classification\n",
        "from sklearn.neighbors import KNeighborsClassifier\n",
        "model = KNeighborsClassifier()\n",
        "model.fit(x_train, y_train)\n",
        "ypred = model.predict(x_test)\n",
        "print(accuracy_score(y_test, ypred))"
      ],
      "metadata": {
        "colab": {
          "base_uri": "https://localhost:8080/"
        },
        "id": "Espz4cbmzjBS",
        "outputId": "934007b3-c852-4015-c17e-e95d460a3eca"
      },
      "execution_count": null,
      "outputs": [
        {
          "output_type": "stream",
          "name": "stdout",
          "text": [
            "0.873015873015873\n"
          ]
        }
      ]
    },
    {
      "cell_type": "markdown",
      "source": [
        "Naive Bayes Classification"
      ],
      "metadata": {
        "id": "eLXK88e_zrfk"
      }
    },
    {
      "cell_type": "code",
      "source": [
        "# Gaussian Naive Bayes\n",
        "from sklearn.naive_bayes import GaussianNB\n",
        "model = GaussianNB()\n",
        "model.fit(x_train, y_train)\n",
        "ypred = model.predict(x_test)\n",
        "print(accuracy_score(y_test, ypred))"
      ],
      "metadata": {
        "colab": {
          "base_uri": "https://localhost:8080/"
        },
        "id": "CAb_2yxyzt-p",
        "outputId": "3ff7a462-5049-436e-a53d-40470acf7cfb"
      },
      "execution_count": null,
      "outputs": [
        {
          "output_type": "stream",
          "name": "stdout",
          "text": [
            "0.7301587301587301\n"
          ]
        }
      ]
    },
    {
      "cell_type": "markdown",
      "source": [
        "### Cluster Sampling"
      ],
      "metadata": {
        "id": "Crto5P3H1NbU"
      }
    },
    {
      "cell_type": "markdown",
      "source": [
        "Sample Size"
      ],
      "metadata": {
        "id": "9W6_6pW7-kN1"
      }
    },
    {
      "cell_type": "code",
      "source": [
        "num_cluster=23"
      ],
      "metadata": {
        "id": "jq1CnLFe-pP7"
      },
      "execution_count": null,
      "outputs": []
    },
    {
      "cell_type": "markdown",
      "source": [
        "Creating Samples"
      ],
      "metadata": {
        "id": "9Fms9Lxj1O5K"
      }
    },
    {
      "cell_type": "code",
      "source": [
        "# Cluster Sampling\n",
        "def get_clustered_Sample(df, n_per_cluster, num_select_clusters):\n",
        "    N = len(df)\n",
        "    K = int(N/n_per_cluster)\n",
        "    data = None\n",
        "    for k in range(K):\n",
        "        sample_k = df.sample(n_per_cluster)\n",
        "        sample_k[\"Cluster\"] = np.repeat(k,len(sample_k))\n",
        "        df = df.drop(index = sample_k.index)\n",
        "        data = pd.concat([data,sample_k],axis = 0)\n",
        "    random_chosen_clusters = np.random.randint(0,K,size = num_select_clusters)\n",
        "    samples = data[data['Cluster'].isin(random_chosen_clusters)]\n",
        "    return(samples)\n",
        "cluster_sample = get_clustered_Sample(df = df2, n_per_cluster = 20, num_select_clusters = 23)\n",
        "print(cluster_sample)"
      ],
      "metadata": {
        "id": "yQw22j671SPG",
        "colab": {
          "base_uri": "https://localhost:8080/"
        },
        "outputId": "5ae8d44a-8f2c-4aa3-b17a-18629e8da1db"
      },
      "execution_count": null,
      "outputs": [
        {
          "output_type": "stream",
          "name": "stdout",
          "text": [
            "           V1        V2        V3        V4        V5        V6        V7  \\\n",
            "593 -2.518483 -2.824130  1.782526  1.710416  1.914681 -0.229600 -0.900643   \n",
            "944  0.224169  0.813109 -0.250093  1.648052 -0.415021 -1.173208 -0.671487   \n",
            "502  0.073497  0.551033  0.451890  0.114964  0.822947  0.251480  0.296319   \n",
            "940  1.257502  0.363619  0.306579  0.690830 -0.358852 -1.067696  0.093691   \n",
            "393 -0.860626 -0.109137  2.112474 -1.400567  0.180269  1.329656  0.431001   \n",
            "..        ...       ...       ...       ...       ...       ...       ...   \n",
            "547 -1.420040  0.075938  1.076119 -0.536559  0.827074 -0.269023  0.231267   \n",
            "988 -1.755141 -0.108323  1.267966 -0.543090  1.018048 -0.235784  0.118699   \n",
            "172 -0.903628 -0.233363  2.580864 -0.990572 -0.397920  0.281755  0.238619   \n",
            "543 -1.824345  1.732925 -1.348298  3.545906 -0.501574 -1.377815 -2.178477   \n",
            "389  1.220896  0.116243  0.545205  0.838269 -0.491896 -0.691202  0.037916   \n",
            "\n",
            "           V8        V9       V10  ...       V22       V23       V24  \\\n",
            "593  0.363208  0.348139 -0.581863  ...  0.818037  0.833210 -0.577383   \n",
            "944  0.257902 -0.775436 -1.002016  ... -0.602202 -0.043352  0.333871   \n",
            "502  0.139497 -0.123050 -0.142617  ... -0.381932  0.151012 -1.363967   \n",
            "940 -0.209722  0.016059 -0.285749  ... -0.821590  0.127696  0.342841   \n",
            "393  0.317761  0.593762 -0.987304  ... -0.436535 -0.194840 -1.236873   \n",
            "..        ...       ...       ...  ...       ...       ...       ...   \n",
            "547  0.134595 -0.006852 -0.077339  ... -0.240586 -0.222403 -0.248604   \n",
            "988  0.181571  0.082583 -0.082981  ... -0.104342 -0.226502 -0.276641   \n",
            "172  0.249102  0.651330 -0.881775  ... -0.097906  0.059448  0.244548   \n",
            "543  1.173577 -2.386413 -2.431760  ... -0.144142 -0.384066  0.322828   \n",
            "389 -0.180524  0.348690 -0.218638  ... -0.426644 -0.001156  0.451173   \n",
            "\n",
            "          V25       V26       V27       V28    Amount  Class  Cluster  \n",
            "593  0.028529  0.361274 -0.188259 -0.068356  0.985158      1        8  \n",
            "944  0.166410  0.118726  0.058853 -0.019435 -0.337644      1        8  \n",
            "502 -1.389079  0.075412  0.231750  0.230171 -0.342311      1        8  \n",
            "940  0.220719  0.094415 -0.022279  0.030940 -0.340245      1        8  \n",
            "393  0.218668  0.902383 -0.210195 -0.190458  0.122157      0        8  \n",
            "..        ...       ...       ...       ...       ...    ...      ...  \n",
            "547 -0.280449  0.227884 -0.308590 -0.340269 -0.341331      1       49  \n",
            "988 -0.327726  0.279554 -0.331192 -0.370132 -0.342100      1       49  \n",
            "172 -0.316141  0.754405 -0.166316 -0.138177  0.013109      0       49  \n",
            "543  0.067965  0.166469  0.222234 -0.119455 -0.345457      1       49  \n",
            "389  0.477482  0.265557 -0.018555  0.015656 -0.282122      0       49  \n",
            "\n",
            "[340 rows x 31 columns]\n"
          ]
        }
      ]
    },
    {
      "cell_type": "code",
      "source": [
        "cluster_sample.to_csv('Cluster Sample.csv')"
      ],
      "metadata": {
        "id": "iiCamw8FJRk5"
      },
      "execution_count": null,
      "outputs": []
    },
    {
      "cell_type": "code",
      "source": [
        "#cluster_sample=pd.read_csv('Cluster Sample.csv')"
      ],
      "metadata": {
        "id": "3usbzOVcUzxu"
      },
      "execution_count": null,
      "outputs": []
    },
    {
      "cell_type": "code",
      "source": [
        "cluster_sample.head()"
      ],
      "metadata": {
        "colab": {
          "base_uri": "https://localhost:8080/",
          "height": 299
        },
        "id": "Nv4VNZwGEo8R",
        "outputId": "af301d72-8c73-4182-ae8f-a15d67e573f3"
      },
      "execution_count": null,
      "outputs": [
        {
          "output_type": "execute_result",
          "data": {
            "text/plain": [
              "           V1        V2        V3        V4        V5        V6        V7  \\\n",
              "593 -2.518483 -2.824130  1.782526  1.710416  1.914681 -0.229600 -0.900643   \n",
              "944  0.224169  0.813109 -0.250093  1.648052 -0.415021 -1.173208 -0.671487   \n",
              "502  0.073497  0.551033  0.451890  0.114964  0.822947  0.251480  0.296319   \n",
              "940  1.257502  0.363619  0.306579  0.690830 -0.358852 -1.067696  0.093691   \n",
              "393 -0.860626 -0.109137  2.112474 -1.400567  0.180269  1.329656  0.431001   \n",
              "\n",
              "           V8        V9       V10  ...       V22       V23       V24  \\\n",
              "593  0.363208  0.348139 -0.581863  ...  0.818037  0.833210 -0.577383   \n",
              "944  0.257902 -0.775436 -1.002016  ... -0.602202 -0.043352  0.333871   \n",
              "502  0.139497 -0.123050 -0.142617  ... -0.381932  0.151012 -1.363967   \n",
              "940 -0.209722  0.016059 -0.285749  ... -0.821590  0.127696  0.342841   \n",
              "393  0.317761  0.593762 -0.987304  ... -0.436535 -0.194840 -1.236873   \n",
              "\n",
              "          V25       V26       V27       V28    Amount  Class  Cluster  \n",
              "593  0.028529  0.361274 -0.188259 -0.068356  0.985158      1        8  \n",
              "944  0.166410  0.118726  0.058853 -0.019435 -0.337644      1        8  \n",
              "502 -1.389079  0.075412  0.231750  0.230171 -0.342311      1        8  \n",
              "940  0.220719  0.094415 -0.022279  0.030940 -0.340245      1        8  \n",
              "393  0.218668  0.902383 -0.210195 -0.190458  0.122157      0        8  \n",
              "\n",
              "[5 rows x 31 columns]"
            ],
            "text/html": [
              "\n",
              "  <div id=\"df-e93e4b5a-8f88-44de-9968-1f3ee2eda977\">\n",
              "    <div class=\"colab-df-container\">\n",
              "      <div>\n",
              "<style scoped>\n",
              "    .dataframe tbody tr th:only-of-type {\n",
              "        vertical-align: middle;\n",
              "    }\n",
              "\n",
              "    .dataframe tbody tr th {\n",
              "        vertical-align: top;\n",
              "    }\n",
              "\n",
              "    .dataframe thead th {\n",
              "        text-align: right;\n",
              "    }\n",
              "</style>\n",
              "<table border=\"1\" class=\"dataframe\">\n",
              "  <thead>\n",
              "    <tr style=\"text-align: right;\">\n",
              "      <th></th>\n",
              "      <th>V1</th>\n",
              "      <th>V2</th>\n",
              "      <th>V3</th>\n",
              "      <th>V4</th>\n",
              "      <th>V5</th>\n",
              "      <th>V6</th>\n",
              "      <th>V7</th>\n",
              "      <th>V8</th>\n",
              "      <th>V9</th>\n",
              "      <th>V10</th>\n",
              "      <th>...</th>\n",
              "      <th>V22</th>\n",
              "      <th>V23</th>\n",
              "      <th>V24</th>\n",
              "      <th>V25</th>\n",
              "      <th>V26</th>\n",
              "      <th>V27</th>\n",
              "      <th>V28</th>\n",
              "      <th>Amount</th>\n",
              "      <th>Class</th>\n",
              "      <th>Cluster</th>\n",
              "    </tr>\n",
              "  </thead>\n",
              "  <tbody>\n",
              "    <tr>\n",
              "      <th>593</th>\n",
              "      <td>-2.518483</td>\n",
              "      <td>-2.824130</td>\n",
              "      <td>1.782526</td>\n",
              "      <td>1.710416</td>\n",
              "      <td>1.914681</td>\n",
              "      <td>-0.229600</td>\n",
              "      <td>-0.900643</td>\n",
              "      <td>0.363208</td>\n",
              "      <td>0.348139</td>\n",
              "      <td>-0.581863</td>\n",
              "      <td>...</td>\n",
              "      <td>0.818037</td>\n",
              "      <td>0.833210</td>\n",
              "      <td>-0.577383</td>\n",
              "      <td>0.028529</td>\n",
              "      <td>0.361274</td>\n",
              "      <td>-0.188259</td>\n",
              "      <td>-0.068356</td>\n",
              "      <td>0.985158</td>\n",
              "      <td>1</td>\n",
              "      <td>8</td>\n",
              "    </tr>\n",
              "    <tr>\n",
              "      <th>944</th>\n",
              "      <td>0.224169</td>\n",
              "      <td>0.813109</td>\n",
              "      <td>-0.250093</td>\n",
              "      <td>1.648052</td>\n",
              "      <td>-0.415021</td>\n",
              "      <td>-1.173208</td>\n",
              "      <td>-0.671487</td>\n",
              "      <td>0.257902</td>\n",
              "      <td>-0.775436</td>\n",
              "      <td>-1.002016</td>\n",
              "      <td>...</td>\n",
              "      <td>-0.602202</td>\n",
              "      <td>-0.043352</td>\n",
              "      <td>0.333871</td>\n",
              "      <td>0.166410</td>\n",
              "      <td>0.118726</td>\n",
              "      <td>0.058853</td>\n",
              "      <td>-0.019435</td>\n",
              "      <td>-0.337644</td>\n",
              "      <td>1</td>\n",
              "      <td>8</td>\n",
              "    </tr>\n",
              "    <tr>\n",
              "      <th>502</th>\n",
              "      <td>0.073497</td>\n",
              "      <td>0.551033</td>\n",
              "      <td>0.451890</td>\n",
              "      <td>0.114964</td>\n",
              "      <td>0.822947</td>\n",
              "      <td>0.251480</td>\n",
              "      <td>0.296319</td>\n",
              "      <td>0.139497</td>\n",
              "      <td>-0.123050</td>\n",
              "      <td>-0.142617</td>\n",
              "      <td>...</td>\n",
              "      <td>-0.381932</td>\n",
              "      <td>0.151012</td>\n",
              "      <td>-1.363967</td>\n",
              "      <td>-1.389079</td>\n",
              "      <td>0.075412</td>\n",
              "      <td>0.231750</td>\n",
              "      <td>0.230171</td>\n",
              "      <td>-0.342311</td>\n",
              "      <td>1</td>\n",
              "      <td>8</td>\n",
              "    </tr>\n",
              "    <tr>\n",
              "      <th>940</th>\n",
              "      <td>1.257502</td>\n",
              "      <td>0.363619</td>\n",
              "      <td>0.306579</td>\n",
              "      <td>0.690830</td>\n",
              "      <td>-0.358852</td>\n",
              "      <td>-1.067696</td>\n",
              "      <td>0.093691</td>\n",
              "      <td>-0.209722</td>\n",
              "      <td>0.016059</td>\n",
              "      <td>-0.285749</td>\n",
              "      <td>...</td>\n",
              "      <td>-0.821590</td>\n",
              "      <td>0.127696</td>\n",
              "      <td>0.342841</td>\n",
              "      <td>0.220719</td>\n",
              "      <td>0.094415</td>\n",
              "      <td>-0.022279</td>\n",
              "      <td>0.030940</td>\n",
              "      <td>-0.340245</td>\n",
              "      <td>1</td>\n",
              "      <td>8</td>\n",
              "    </tr>\n",
              "    <tr>\n",
              "      <th>393</th>\n",
              "      <td>-0.860626</td>\n",
              "      <td>-0.109137</td>\n",
              "      <td>2.112474</td>\n",
              "      <td>-1.400567</td>\n",
              "      <td>0.180269</td>\n",
              "      <td>1.329656</td>\n",
              "      <td>0.431001</td>\n",
              "      <td>0.317761</td>\n",
              "      <td>0.593762</td>\n",
              "      <td>-0.987304</td>\n",
              "      <td>...</td>\n",
              "      <td>-0.436535</td>\n",
              "      <td>-0.194840</td>\n",
              "      <td>-1.236873</td>\n",
              "      <td>0.218668</td>\n",
              "      <td>0.902383</td>\n",
              "      <td>-0.210195</td>\n",
              "      <td>-0.190458</td>\n",
              "      <td>0.122157</td>\n",
              "      <td>0</td>\n",
              "      <td>8</td>\n",
              "    </tr>\n",
              "  </tbody>\n",
              "</table>\n",
              "<p>5 rows × 31 columns</p>\n",
              "</div>\n",
              "      <button class=\"colab-df-convert\" onclick=\"convertToInteractive('df-e93e4b5a-8f88-44de-9968-1f3ee2eda977')\"\n",
              "              title=\"Convert this dataframe to an interactive table.\"\n",
              "              style=\"display:none;\">\n",
              "        \n",
              "  <svg xmlns=\"http://www.w3.org/2000/svg\" height=\"24px\"viewBox=\"0 0 24 24\"\n",
              "       width=\"24px\">\n",
              "    <path d=\"M0 0h24v24H0V0z\" fill=\"none\"/>\n",
              "    <path d=\"M18.56 5.44l.94 2.06.94-2.06 2.06-.94-2.06-.94-.94-2.06-.94 2.06-2.06.94zm-11 1L8.5 8.5l.94-2.06 2.06-.94-2.06-.94L8.5 2.5l-.94 2.06-2.06.94zm10 10l.94 2.06.94-2.06 2.06-.94-2.06-.94-.94-2.06-.94 2.06-2.06.94z\"/><path d=\"M17.41 7.96l-1.37-1.37c-.4-.4-.92-.59-1.43-.59-.52 0-1.04.2-1.43.59L10.3 9.45l-7.72 7.72c-.78.78-.78 2.05 0 2.83L4 21.41c.39.39.9.59 1.41.59.51 0 1.02-.2 1.41-.59l7.78-7.78 2.81-2.81c.8-.78.8-2.07 0-2.86zM5.41 20L4 18.59l7.72-7.72 1.47 1.35L5.41 20z\"/>\n",
              "  </svg>\n",
              "      </button>\n",
              "      \n",
              "  <style>\n",
              "    .colab-df-container {\n",
              "      display:flex;\n",
              "      flex-wrap:wrap;\n",
              "      gap: 12px;\n",
              "    }\n",
              "\n",
              "    .colab-df-convert {\n",
              "      background-color: #E8F0FE;\n",
              "      border: none;\n",
              "      border-radius: 50%;\n",
              "      cursor: pointer;\n",
              "      display: none;\n",
              "      fill: #1967D2;\n",
              "      height: 32px;\n",
              "      padding: 0 0 0 0;\n",
              "      width: 32px;\n",
              "    }\n",
              "\n",
              "    .colab-df-convert:hover {\n",
              "      background-color: #E2EBFA;\n",
              "      box-shadow: 0px 1px 2px rgba(60, 64, 67, 0.3), 0px 1px 3px 1px rgba(60, 64, 67, 0.15);\n",
              "      fill: #174EA6;\n",
              "    }\n",
              "\n",
              "    [theme=dark] .colab-df-convert {\n",
              "      background-color: #3B4455;\n",
              "      fill: #D2E3FC;\n",
              "    }\n",
              "\n",
              "    [theme=dark] .colab-df-convert:hover {\n",
              "      background-color: #434B5C;\n",
              "      box-shadow: 0px 1px 3px 1px rgba(0, 0, 0, 0.15);\n",
              "      filter: drop-shadow(0px 1px 2px rgba(0, 0, 0, 0.3));\n",
              "      fill: #FFFFFF;\n",
              "    }\n",
              "  </style>\n",
              "\n",
              "      <script>\n",
              "        const buttonEl =\n",
              "          document.querySelector('#df-e93e4b5a-8f88-44de-9968-1f3ee2eda977 button.colab-df-convert');\n",
              "        buttonEl.style.display =\n",
              "          google.colab.kernel.accessAllowed ? 'block' : 'none';\n",
              "\n",
              "        async function convertToInteractive(key) {\n",
              "          const element = document.querySelector('#df-e93e4b5a-8f88-44de-9968-1f3ee2eda977');\n",
              "          const dataTable =\n",
              "            await google.colab.kernel.invokeFunction('convertToInteractive',\n",
              "                                                     [key], {});\n",
              "          if (!dataTable) return;\n",
              "\n",
              "          const docLinkHtml = 'Like what you see? Visit the ' +\n",
              "            '<a target=\"_blank\" href=https://colab.research.google.com/notebooks/data_table.ipynb>data table notebook</a>'\n",
              "            + ' to learn more about interactive tables.';\n",
              "          element.innerHTML = '';\n",
              "          dataTable['output_type'] = 'display_data';\n",
              "          await google.colab.output.renderOutput(dataTable, element);\n",
              "          const docLink = document.createElement('div');\n",
              "          docLink.innerHTML = docLinkHtml;\n",
              "          element.appendChild(docLink);\n",
              "        }\n",
              "      </script>\n",
              "    </div>\n",
              "  </div>\n",
              "  "
            ]
          },
          "metadata": {},
          "execution_count": 480
        }
      ]
    },
    {
      "cell_type": "markdown",
      "source": [
        "Classification Models"
      ],
      "metadata": {
        "id": "6fnx2VxV1Y7A"
      }
    },
    {
      "cell_type": "code",
      "source": [
        "# Spliting input and output features\n",
        "x_cluster=cluster_sample.iloc[:,:-2] # Except Cluster column\n",
        "y_cluster=cluster_sample.iloc[:,-2]"
      ],
      "metadata": {
        "id": "HwTEj_PI6LeT"
      },
      "execution_count": null,
      "outputs": []
    },
    {
      "cell_type": "code",
      "source": [
        "x_cluster"
      ],
      "metadata": {
        "colab": {
          "base_uri": "https://localhost:8080/",
          "height": 487
        },
        "id": "Ovz7C7jHKOQW",
        "outputId": "46edac94-976d-47f6-f50e-4f191d2223c9"
      },
      "execution_count": null,
      "outputs": [
        {
          "output_type": "execute_result",
          "data": {
            "text/plain": [
              "           V1        V2        V3        V4        V5        V6        V7  \\\n",
              "593 -2.518483 -2.824130  1.782526  1.710416  1.914681 -0.229600 -0.900643   \n",
              "944  0.224169  0.813109 -0.250093  1.648052 -0.415021 -1.173208 -0.671487   \n",
              "502  0.073497  0.551033  0.451890  0.114964  0.822947  0.251480  0.296319   \n",
              "940  1.257502  0.363619  0.306579  0.690830 -0.358852 -1.067696  0.093691   \n",
              "393 -0.860626 -0.109137  2.112474 -1.400567  0.180269  1.329656  0.431001   \n",
              "..        ...       ...       ...       ...       ...       ...       ...   \n",
              "547 -1.420040  0.075938  1.076119 -0.536559  0.827074 -0.269023  0.231267   \n",
              "988 -1.755141 -0.108323  1.267966 -0.543090  1.018048 -0.235784  0.118699   \n",
              "172 -0.903628 -0.233363  2.580864 -0.990572 -0.397920  0.281755  0.238619   \n",
              "543 -1.824345  1.732925 -1.348298  3.545906 -0.501574 -1.377815 -2.178477   \n",
              "389  1.220896  0.116243  0.545205  0.838269 -0.491896 -0.691202  0.037916   \n",
              "\n",
              "           V8        V9       V10  ...       V20       V21       V22  \\\n",
              "593  0.363208  0.348139 -0.581863  ...  1.356547  0.541255  0.818037   \n",
              "944  0.257902 -0.775436 -1.002016  ... -0.020039 -0.055034 -0.602202   \n",
              "502  0.139497 -0.123050 -0.142617  ... -0.043920 -0.128758 -0.381932   \n",
              "940 -0.209722  0.016059 -0.285749  ... -0.074242 -0.286913 -0.821590   \n",
              "393  0.317761  0.593762 -0.987304  ...  0.157201 -0.197635 -0.436535   \n",
              "..        ...       ...       ...  ...       ...       ...       ...   \n",
              "547  0.134595 -0.006852 -0.077339  ... -0.004858 -0.184571 -0.240586   \n",
              "988  0.181571  0.082583 -0.082981  ...  0.042031 -0.141496 -0.104342   \n",
              "172  0.249102  0.651330 -0.881775  ...  0.050471 -0.075017 -0.097906   \n",
              "543  1.173577 -2.386413 -2.431760  ...  0.098645  0.407156 -0.144142   \n",
              "389 -0.180524  0.348690 -0.218638  ... -0.059029 -0.219679 -0.426644   \n",
              "\n",
              "          V23       V24       V25       V26       V27       V28    Amount  \n",
              "593  0.833210 -0.577383  0.028529  0.361274 -0.188259 -0.068356  0.985158  \n",
              "944 -0.043352  0.333871  0.166410  0.118726  0.058853 -0.019435 -0.337644  \n",
              "502  0.151012 -1.363967 -1.389079  0.075412  0.231750  0.230171 -0.342311  \n",
              "940  0.127696  0.342841  0.220719  0.094415 -0.022279  0.030940 -0.340245  \n",
              "393 -0.194840 -1.236873  0.218668  0.902383 -0.210195 -0.190458  0.122157  \n",
              "..        ...       ...       ...       ...       ...       ...       ...  \n",
              "547 -0.222403 -0.248604 -0.280449  0.227884 -0.308590 -0.340269 -0.341331  \n",
              "988 -0.226502 -0.276641 -0.327726  0.279554 -0.331192 -0.370132 -0.342100  \n",
              "172  0.059448  0.244548 -0.316141  0.754405 -0.166316 -0.138177  0.013109  \n",
              "543 -0.384066  0.322828  0.067965  0.166469  0.222234 -0.119455 -0.345457  \n",
              "389 -0.001156  0.451173  0.477482  0.265557 -0.018555  0.015656 -0.282122  \n",
              "\n",
              "[340 rows x 29 columns]"
            ],
            "text/html": [
              "\n",
              "  <div id=\"df-5e797c45-1a89-425b-b877-67d985114db3\">\n",
              "    <div class=\"colab-df-container\">\n",
              "      <div>\n",
              "<style scoped>\n",
              "    .dataframe tbody tr th:only-of-type {\n",
              "        vertical-align: middle;\n",
              "    }\n",
              "\n",
              "    .dataframe tbody tr th {\n",
              "        vertical-align: top;\n",
              "    }\n",
              "\n",
              "    .dataframe thead th {\n",
              "        text-align: right;\n",
              "    }\n",
              "</style>\n",
              "<table border=\"1\" class=\"dataframe\">\n",
              "  <thead>\n",
              "    <tr style=\"text-align: right;\">\n",
              "      <th></th>\n",
              "      <th>V1</th>\n",
              "      <th>V2</th>\n",
              "      <th>V3</th>\n",
              "      <th>V4</th>\n",
              "      <th>V5</th>\n",
              "      <th>V6</th>\n",
              "      <th>V7</th>\n",
              "      <th>V8</th>\n",
              "      <th>V9</th>\n",
              "      <th>V10</th>\n",
              "      <th>...</th>\n",
              "      <th>V20</th>\n",
              "      <th>V21</th>\n",
              "      <th>V22</th>\n",
              "      <th>V23</th>\n",
              "      <th>V24</th>\n",
              "      <th>V25</th>\n",
              "      <th>V26</th>\n",
              "      <th>V27</th>\n",
              "      <th>V28</th>\n",
              "      <th>Amount</th>\n",
              "    </tr>\n",
              "  </thead>\n",
              "  <tbody>\n",
              "    <tr>\n",
              "      <th>593</th>\n",
              "      <td>-2.518483</td>\n",
              "      <td>-2.824130</td>\n",
              "      <td>1.782526</td>\n",
              "      <td>1.710416</td>\n",
              "      <td>1.914681</td>\n",
              "      <td>-0.229600</td>\n",
              "      <td>-0.900643</td>\n",
              "      <td>0.363208</td>\n",
              "      <td>0.348139</td>\n",
              "      <td>-0.581863</td>\n",
              "      <td>...</td>\n",
              "      <td>1.356547</td>\n",
              "      <td>0.541255</td>\n",
              "      <td>0.818037</td>\n",
              "      <td>0.833210</td>\n",
              "      <td>-0.577383</td>\n",
              "      <td>0.028529</td>\n",
              "      <td>0.361274</td>\n",
              "      <td>-0.188259</td>\n",
              "      <td>-0.068356</td>\n",
              "      <td>0.985158</td>\n",
              "    </tr>\n",
              "    <tr>\n",
              "      <th>944</th>\n",
              "      <td>0.224169</td>\n",
              "      <td>0.813109</td>\n",
              "      <td>-0.250093</td>\n",
              "      <td>1.648052</td>\n",
              "      <td>-0.415021</td>\n",
              "      <td>-1.173208</td>\n",
              "      <td>-0.671487</td>\n",
              "      <td>0.257902</td>\n",
              "      <td>-0.775436</td>\n",
              "      <td>-1.002016</td>\n",
              "      <td>...</td>\n",
              "      <td>-0.020039</td>\n",
              "      <td>-0.055034</td>\n",
              "      <td>-0.602202</td>\n",
              "      <td>-0.043352</td>\n",
              "      <td>0.333871</td>\n",
              "      <td>0.166410</td>\n",
              "      <td>0.118726</td>\n",
              "      <td>0.058853</td>\n",
              "      <td>-0.019435</td>\n",
              "      <td>-0.337644</td>\n",
              "    </tr>\n",
              "    <tr>\n",
              "      <th>502</th>\n",
              "      <td>0.073497</td>\n",
              "      <td>0.551033</td>\n",
              "      <td>0.451890</td>\n",
              "      <td>0.114964</td>\n",
              "      <td>0.822947</td>\n",
              "      <td>0.251480</td>\n",
              "      <td>0.296319</td>\n",
              "      <td>0.139497</td>\n",
              "      <td>-0.123050</td>\n",
              "      <td>-0.142617</td>\n",
              "      <td>...</td>\n",
              "      <td>-0.043920</td>\n",
              "      <td>-0.128758</td>\n",
              "      <td>-0.381932</td>\n",
              "      <td>0.151012</td>\n",
              "      <td>-1.363967</td>\n",
              "      <td>-1.389079</td>\n",
              "      <td>0.075412</td>\n",
              "      <td>0.231750</td>\n",
              "      <td>0.230171</td>\n",
              "      <td>-0.342311</td>\n",
              "    </tr>\n",
              "    <tr>\n",
              "      <th>940</th>\n",
              "      <td>1.257502</td>\n",
              "      <td>0.363619</td>\n",
              "      <td>0.306579</td>\n",
              "      <td>0.690830</td>\n",
              "      <td>-0.358852</td>\n",
              "      <td>-1.067696</td>\n",
              "      <td>0.093691</td>\n",
              "      <td>-0.209722</td>\n",
              "      <td>0.016059</td>\n",
              "      <td>-0.285749</td>\n",
              "      <td>...</td>\n",
              "      <td>-0.074242</td>\n",
              "      <td>-0.286913</td>\n",
              "      <td>-0.821590</td>\n",
              "      <td>0.127696</td>\n",
              "      <td>0.342841</td>\n",
              "      <td>0.220719</td>\n",
              "      <td>0.094415</td>\n",
              "      <td>-0.022279</td>\n",
              "      <td>0.030940</td>\n",
              "      <td>-0.340245</td>\n",
              "    </tr>\n",
              "    <tr>\n",
              "      <th>393</th>\n",
              "      <td>-0.860626</td>\n",
              "      <td>-0.109137</td>\n",
              "      <td>2.112474</td>\n",
              "      <td>-1.400567</td>\n",
              "      <td>0.180269</td>\n",
              "      <td>1.329656</td>\n",
              "      <td>0.431001</td>\n",
              "      <td>0.317761</td>\n",
              "      <td>0.593762</td>\n",
              "      <td>-0.987304</td>\n",
              "      <td>...</td>\n",
              "      <td>0.157201</td>\n",
              "      <td>-0.197635</td>\n",
              "      <td>-0.436535</td>\n",
              "      <td>-0.194840</td>\n",
              "      <td>-1.236873</td>\n",
              "      <td>0.218668</td>\n",
              "      <td>0.902383</td>\n",
              "      <td>-0.210195</td>\n",
              "      <td>-0.190458</td>\n",
              "      <td>0.122157</td>\n",
              "    </tr>\n",
              "    <tr>\n",
              "      <th>...</th>\n",
              "      <td>...</td>\n",
              "      <td>...</td>\n",
              "      <td>...</td>\n",
              "      <td>...</td>\n",
              "      <td>...</td>\n",
              "      <td>...</td>\n",
              "      <td>...</td>\n",
              "      <td>...</td>\n",
              "      <td>...</td>\n",
              "      <td>...</td>\n",
              "      <td>...</td>\n",
              "      <td>...</td>\n",
              "      <td>...</td>\n",
              "      <td>...</td>\n",
              "      <td>...</td>\n",
              "      <td>...</td>\n",
              "      <td>...</td>\n",
              "      <td>...</td>\n",
              "      <td>...</td>\n",
              "      <td>...</td>\n",
              "      <td>...</td>\n",
              "    </tr>\n",
              "    <tr>\n",
              "      <th>547</th>\n",
              "      <td>-1.420040</td>\n",
              "      <td>0.075938</td>\n",
              "      <td>1.076119</td>\n",
              "      <td>-0.536559</td>\n",
              "      <td>0.827074</td>\n",
              "      <td>-0.269023</td>\n",
              "      <td>0.231267</td>\n",
              "      <td>0.134595</td>\n",
              "      <td>-0.006852</td>\n",
              "      <td>-0.077339</td>\n",
              "      <td>...</td>\n",
              "      <td>-0.004858</td>\n",
              "      <td>-0.184571</td>\n",
              "      <td>-0.240586</td>\n",
              "      <td>-0.222403</td>\n",
              "      <td>-0.248604</td>\n",
              "      <td>-0.280449</td>\n",
              "      <td>0.227884</td>\n",
              "      <td>-0.308590</td>\n",
              "      <td>-0.340269</td>\n",
              "      <td>-0.341331</td>\n",
              "    </tr>\n",
              "    <tr>\n",
              "      <th>988</th>\n",
              "      <td>-1.755141</td>\n",
              "      <td>-0.108323</td>\n",
              "      <td>1.267966</td>\n",
              "      <td>-0.543090</td>\n",
              "      <td>1.018048</td>\n",
              "      <td>-0.235784</td>\n",
              "      <td>0.118699</td>\n",
              "      <td>0.181571</td>\n",
              "      <td>0.082583</td>\n",
              "      <td>-0.082981</td>\n",
              "      <td>...</td>\n",
              "      <td>0.042031</td>\n",
              "      <td>-0.141496</td>\n",
              "      <td>-0.104342</td>\n",
              "      <td>-0.226502</td>\n",
              "      <td>-0.276641</td>\n",
              "      <td>-0.327726</td>\n",
              "      <td>0.279554</td>\n",
              "      <td>-0.331192</td>\n",
              "      <td>-0.370132</td>\n",
              "      <td>-0.342100</td>\n",
              "    </tr>\n",
              "    <tr>\n",
              "      <th>172</th>\n",
              "      <td>-0.903628</td>\n",
              "      <td>-0.233363</td>\n",
              "      <td>2.580864</td>\n",
              "      <td>-0.990572</td>\n",
              "      <td>-0.397920</td>\n",
              "      <td>0.281755</td>\n",
              "      <td>0.238619</td>\n",
              "      <td>0.249102</td>\n",
              "      <td>0.651330</td>\n",
              "      <td>-0.881775</td>\n",
              "      <td>...</td>\n",
              "      <td>0.050471</td>\n",
              "      <td>-0.075017</td>\n",
              "      <td>-0.097906</td>\n",
              "      <td>0.059448</td>\n",
              "      <td>0.244548</td>\n",
              "      <td>-0.316141</td>\n",
              "      <td>0.754405</td>\n",
              "      <td>-0.166316</td>\n",
              "      <td>-0.138177</td>\n",
              "      <td>0.013109</td>\n",
              "    </tr>\n",
              "    <tr>\n",
              "      <th>543</th>\n",
              "      <td>-1.824345</td>\n",
              "      <td>1.732925</td>\n",
              "      <td>-1.348298</td>\n",
              "      <td>3.545906</td>\n",
              "      <td>-0.501574</td>\n",
              "      <td>-1.377815</td>\n",
              "      <td>-2.178477</td>\n",
              "      <td>1.173577</td>\n",
              "      <td>-2.386413</td>\n",
              "      <td>-2.431760</td>\n",
              "      <td>...</td>\n",
              "      <td>0.098645</td>\n",
              "      <td>0.407156</td>\n",
              "      <td>-0.144142</td>\n",
              "      <td>-0.384066</td>\n",
              "      <td>0.322828</td>\n",
              "      <td>0.067965</td>\n",
              "      <td>0.166469</td>\n",
              "      <td>0.222234</td>\n",
              "      <td>-0.119455</td>\n",
              "      <td>-0.345457</td>\n",
              "    </tr>\n",
              "    <tr>\n",
              "      <th>389</th>\n",
              "      <td>1.220896</td>\n",
              "      <td>0.116243</td>\n",
              "      <td>0.545205</td>\n",
              "      <td>0.838269</td>\n",
              "      <td>-0.491896</td>\n",
              "      <td>-0.691202</td>\n",
              "      <td>0.037916</td>\n",
              "      <td>-0.180524</td>\n",
              "      <td>0.348690</td>\n",
              "      <td>-0.218638</td>\n",
              "      <td>...</td>\n",
              "      <td>-0.059029</td>\n",
              "      <td>-0.219679</td>\n",
              "      <td>-0.426644</td>\n",
              "      <td>-0.001156</td>\n",
              "      <td>0.451173</td>\n",
              "      <td>0.477482</td>\n",
              "      <td>0.265557</td>\n",
              "      <td>-0.018555</td>\n",
              "      <td>0.015656</td>\n",
              "      <td>-0.282122</td>\n",
              "    </tr>\n",
              "  </tbody>\n",
              "</table>\n",
              "<p>340 rows × 29 columns</p>\n",
              "</div>\n",
              "      <button class=\"colab-df-convert\" onclick=\"convertToInteractive('df-5e797c45-1a89-425b-b877-67d985114db3')\"\n",
              "              title=\"Convert this dataframe to an interactive table.\"\n",
              "              style=\"display:none;\">\n",
              "        \n",
              "  <svg xmlns=\"http://www.w3.org/2000/svg\" height=\"24px\"viewBox=\"0 0 24 24\"\n",
              "       width=\"24px\">\n",
              "    <path d=\"M0 0h24v24H0V0z\" fill=\"none\"/>\n",
              "    <path d=\"M18.56 5.44l.94 2.06.94-2.06 2.06-.94-2.06-.94-.94-2.06-.94 2.06-2.06.94zm-11 1L8.5 8.5l.94-2.06 2.06-.94-2.06-.94L8.5 2.5l-.94 2.06-2.06.94zm10 10l.94 2.06.94-2.06 2.06-.94-2.06-.94-.94-2.06-.94 2.06-2.06.94z\"/><path d=\"M17.41 7.96l-1.37-1.37c-.4-.4-.92-.59-1.43-.59-.52 0-1.04.2-1.43.59L10.3 9.45l-7.72 7.72c-.78.78-.78 2.05 0 2.83L4 21.41c.39.39.9.59 1.41.59.51 0 1.02-.2 1.41-.59l7.78-7.78 2.81-2.81c.8-.78.8-2.07 0-2.86zM5.41 20L4 18.59l7.72-7.72 1.47 1.35L5.41 20z\"/>\n",
              "  </svg>\n",
              "      </button>\n",
              "      \n",
              "  <style>\n",
              "    .colab-df-container {\n",
              "      display:flex;\n",
              "      flex-wrap:wrap;\n",
              "      gap: 12px;\n",
              "    }\n",
              "\n",
              "    .colab-df-convert {\n",
              "      background-color: #E8F0FE;\n",
              "      border: none;\n",
              "      border-radius: 50%;\n",
              "      cursor: pointer;\n",
              "      display: none;\n",
              "      fill: #1967D2;\n",
              "      height: 32px;\n",
              "      padding: 0 0 0 0;\n",
              "      width: 32px;\n",
              "    }\n",
              "\n",
              "    .colab-df-convert:hover {\n",
              "      background-color: #E2EBFA;\n",
              "      box-shadow: 0px 1px 2px rgba(60, 64, 67, 0.3), 0px 1px 3px 1px rgba(60, 64, 67, 0.15);\n",
              "      fill: #174EA6;\n",
              "    }\n",
              "\n",
              "    [theme=dark] .colab-df-convert {\n",
              "      background-color: #3B4455;\n",
              "      fill: #D2E3FC;\n",
              "    }\n",
              "\n",
              "    [theme=dark] .colab-df-convert:hover {\n",
              "      background-color: #434B5C;\n",
              "      box-shadow: 0px 1px 3px 1px rgba(0, 0, 0, 0.15);\n",
              "      filter: drop-shadow(0px 1px 2px rgba(0, 0, 0, 0.3));\n",
              "      fill: #FFFFFF;\n",
              "    }\n",
              "  </style>\n",
              "\n",
              "      <script>\n",
              "        const buttonEl =\n",
              "          document.querySelector('#df-5e797c45-1a89-425b-b877-67d985114db3 button.colab-df-convert');\n",
              "        buttonEl.style.display =\n",
              "          google.colab.kernel.accessAllowed ? 'block' : 'none';\n",
              "\n",
              "        async function convertToInteractive(key) {\n",
              "          const element = document.querySelector('#df-5e797c45-1a89-425b-b877-67d985114db3');\n",
              "          const dataTable =\n",
              "            await google.colab.kernel.invokeFunction('convertToInteractive',\n",
              "                                                     [key], {});\n",
              "          if (!dataTable) return;\n",
              "\n",
              "          const docLinkHtml = 'Like what you see? Visit the ' +\n",
              "            '<a target=\"_blank\" href=https://colab.research.google.com/notebooks/data_table.ipynb>data table notebook</a>'\n",
              "            + ' to learn more about interactive tables.';\n",
              "          element.innerHTML = '';\n",
              "          dataTable['output_type'] = 'display_data';\n",
              "          await google.colab.output.renderOutput(dataTable, element);\n",
              "          const docLink = document.createElement('div');\n",
              "          docLink.innerHTML = docLinkHtml;\n",
              "          element.appendChild(docLink);\n",
              "        }\n",
              "      </script>\n",
              "    </div>\n",
              "  </div>\n",
              "  "
            ]
          },
          "metadata": {},
          "execution_count": 482
        }
      ]
    },
    {
      "cell_type": "code",
      "source": [
        "y_cluster"
      ],
      "metadata": {
        "colab": {
          "base_uri": "https://localhost:8080/"
        },
        "id": "ULTh2W8zKbHA",
        "outputId": "1f1970e7-a101-489c-da72-78f976128c0b"
      },
      "execution_count": 506,
      "outputs": [
        {
          "output_type": "execute_result",
          "data": {
            "text/plain": [
              "593    1\n",
              "944    1\n",
              "502    1\n",
              "940    1\n",
              "393    0\n",
              "      ..\n",
              "547    1\n",
              "988    1\n",
              "172    0\n",
              "543    1\n",
              "389    0\n",
              "Name: Class, Length: 340, dtype: int64"
            ]
          },
          "metadata": {},
          "execution_count": 506
        }
      ]
    },
    {
      "cell_type": "code",
      "source": [
        "# Training-Testing Splitting\n",
        "from sklearn.model_selection import train_test_split\n",
        "x_train, x_test, y_train, y_test = train_test_split(x_cluster, y_cluster, test_size=0.25, random_state=42)"
      ],
      "metadata": {
        "id": "nAwKTGHR6NOX"
      },
      "execution_count": 507,
      "outputs": []
    },
    {
      "cell_type": "markdown",
      "source": [
        "Logistic Regression"
      ],
      "metadata": {
        "id": "FTG8RGHc1c-w"
      }
    },
    {
      "cell_type": "code",
      "source": [
        "# Logistic Regression\n",
        "from sklearn.metrics import accuracy_score\n",
        "from sklearn import linear_model\n",
        "logr = linear_model.LogisticRegression()\n",
        "logr.fit(x_train, y_train)\n",
        "logr_pred = logr.predict(x_test)\n",
        "score = accuracy_score(logr_pred, y_test)\n",
        "print(score)"
      ],
      "metadata": {
        "colab": {
          "base_uri": "https://localhost:8080/"
        },
        "id": "U34dyKsE1ceK",
        "outputId": "9ef3e68b-edaa-4d66-c0e8-ea7a32af7e62"
      },
      "execution_count": 508,
      "outputs": [
        {
          "output_type": "stream",
          "name": "stdout",
          "text": [
            "0.9294117647058824\n"
          ]
        }
      ]
    },
    {
      "cell_type": "markdown",
      "source": [
        "Decision Tree Classifier"
      ],
      "metadata": {
        "id": "MWKKfF2K1jI-"
      }
    },
    {
      "cell_type": "code",
      "source": [
        "# Decision Tree Classifier\n",
        "from sklearn.tree import DecisionTreeClassifier\n",
        "from sklearn.metrics import confusion_matrix,accuracy_score\n",
        "\n",
        "dtree_model = DecisionTreeClassifier(max_depth = 2).fit(x_train, y_train)\n",
        "dtree_predictions = dtree_model.predict(x_test)\n",
        "\n",
        "# creating a confusion matrix\n",
        "#cm = confusion_matrix(y_test,dtree_predictions)\n",
        "#print(cm)\n",
        "accuracy_score(y_test,dtree_predictions)"
      ],
      "metadata": {
        "colab": {
          "base_uri": "https://localhost:8080/"
        },
        "id": "479kls4V1nMM",
        "outputId": "82561a37-4d5b-442b-97e5-b53a6d1ab18a"
      },
      "execution_count": 509,
      "outputs": [
        {
          "output_type": "execute_result",
          "data": {
            "text/plain": [
              "0.8470588235294118"
            ]
          },
          "metadata": {},
          "execution_count": 509
        }
      ]
    },
    {
      "cell_type": "markdown",
      "source": [
        "Random Forest Classification"
      ],
      "metadata": {
        "id": "cqKwVlOP1pB1"
      }
    },
    {
      "cell_type": "code",
      "source": [
        "# Random Forest Classifier\n",
        "from sklearn.ensemble import RandomForestClassifier\n",
        "from sklearn.metrics import accuracy_score\n",
        "model1 = RandomForestClassifier()\n",
        "model1.fit(x_train, y_train)\n",
        "ypred1 = model1.predict(x1)\n",
        "print(accuracy_score(y1, ypred1))"
      ],
      "metadata": {
        "colab": {
          "base_uri": "https://localhost:8080/"
        },
        "id": "yJVPw-uW1rjG",
        "outputId": "855e5a1e-7073-4c25-85bb-88c8e4b17f78"
      },
      "execution_count": null,
      "outputs": [
        {
          "output_type": "stream",
          "name": "stdout",
          "text": [
            "0.9973856209150327\n"
          ]
        }
      ]
    },
    {
      "cell_type": "markdown",
      "source": [
        "KNN Classification"
      ],
      "metadata": {
        "id": "LdBWbAya1s9G"
      }
    },
    {
      "cell_type": "code",
      "source": [
        "#KNN Classification\n",
        "from sklearn.neighbors import KNeighborsClassifier\n",
        "model = KNeighborsClassifier()\n",
        "model.fit(x_train, y_train)\n",
        "ypred = model.predict(x_test)\n",
        "print(accuracy_score(y_test, ypred))"
      ],
      "metadata": {
        "colab": {
          "base_uri": "https://localhost:8080/"
        },
        "id": "fEnIZdTW1v-M",
        "outputId": "e50c391c-c22c-4c2e-8ae9-7e7b7f4dce58"
      },
      "execution_count": 512,
      "outputs": [
        {
          "output_type": "stream",
          "name": "stdout",
          "text": [
            "0.9294117647058824\n"
          ]
        }
      ]
    },
    {
      "cell_type": "markdown",
      "source": [
        "Naive Bayes Classification"
      ],
      "metadata": {
        "id": "Cc8rPrfG17p-"
      }
    },
    {
      "cell_type": "code",
      "source": [
        "# Gaussian Naive Bayes\n",
        "from sklearn.naive_bayes import GaussianNB\n",
        "model = GaussianNB()\n",
        "model.fit(x_train, y_train)\n",
        "ypred = model.predict(x_test)\n",
        "print(accuracy_score(y_test, ypred))"
      ],
      "metadata": {
        "colab": {
          "base_uri": "https://localhost:8080/"
        },
        "id": "dMoHqvl81_Lh",
        "outputId": "9d5d9af0-0dd5-490e-e151-5e54e8cfced7"
      },
      "execution_count": null,
      "outputs": [
        {
          "output_type": "stream",
          "name": "stdout",
          "text": [
            "0.8235294117647058\n"
          ]
        }
      ]
    },
    {
      "cell_type": "markdown",
      "source": [
        "### Multi-Stage Sampling"
      ],
      "metadata": {
        "id": "tIQXQSxf4X5-"
      }
    },
    {
      "cell_type": "markdown",
      "source": [
        "Creating Samples"
      ],
      "metadata": {
        "id": "cBzYTKIA2ZER"
      }
    },
    {
      "cell_type": "code",
      "source": [
        "# Multi-Stage Sampling (Cluster sampling then Simple random sampling)\n",
        "def get_clustered_Sample(df, n_per_cluster, num_select_clusters):\n",
        "    N = len(df)\n",
        "    K = int(N/n_per_cluster)\n",
        "    data = None\n",
        "    for k in range(K):\n",
        "        sample_k = df.sample(n_per_cluster)\n",
        "        sample_k[\"cluster\"] = np.repeat(k,len(sample_k))\n",
        "        df = df.drop(index = sample_k.index)\n",
        "        data = pd.concat([data,sample_k],axis = 0)\n",
        "    random_chosen_clusters = np.random.randint(0,K,size = num_select_clusters)\n",
        "    samples = data[data.cluster.isin(random_chosen_clusters)]\n",
        "    return(samples)\n",
        "cluster_sample = get_clustered_Sample(df = df2, n_per_cluster = 20, num_select_clusters = 23)\n",
        "multi_sample = cluster_sample.sample(n = 200, random_state=42)\n",
        "print(multi_sample)"
      ],
      "metadata": {
        "id": "9eSh_zrN5bXo",
        "colab": {
          "base_uri": "https://localhost:8080/"
        },
        "outputId": "e1be8f42-c06d-4276-e99a-1f110ce52a07"
      },
      "execution_count": null,
      "outputs": [
        {
          "output_type": "stream",
          "name": "stdout",
          "text": [
            "           V1        V2        V3        V4        V5        V6        V7  \\\n",
            "443  1.138759 -1.192953  1.407131 -0.330070 -2.069503 -0.242175 -1.306635   \n",
            "676  1.256542  0.358677  0.305062  0.691677 -0.363530 -1.068645  0.091129   \n",
            "466 -1.118946 -0.071366  2.807769  1.025675 -0.100748  0.508680  0.620313   \n",
            "906 -0.903170  1.274084 -0.895555  2.570485 -0.288072 -0.886024 -1.548745   \n",
            "253 -2.074295 -0.121482  1.322021  0.410008  0.295198 -0.959537  0.543985   \n",
            "..        ...       ...       ...       ...       ...       ...       ...   \n",
            "26   0.019256  0.471698  0.868060 -1.239124  0.547898 -0.502661  0.808516   \n",
            "638  1.099327  0.420148  0.219078  0.837258 -0.378044 -1.085796 -0.027676   \n",
            "300  1.355790 -1.122921  1.191187 -0.576548 -1.708750  0.274721 -1.640785   \n",
            "526 -1.760400 -0.159472  1.293661 -0.507026  1.048987 -0.217999  0.070942   \n",
            "211 -2.565417  1.285936  1.446036  0.685430  0.496797  0.970669 -1.994767   \n",
            "\n",
            "           V8        V9       V10  ...       V22       V23       V24  \\\n",
            "443  0.104510  0.134628  0.493931  ... -0.030569 -0.019723  0.433753   \n",
            "676 -0.207169  0.023138 -0.284588  ... -0.825702  0.127839  0.341575   \n",
            "466 -0.213137  0.333039 -0.074899  ...  0.455553  0.170942  0.076211   \n",
            "906  0.866267 -1.758896 -1.724634  ... -0.277777 -0.237411  0.054782   \n",
            "253 -0.104627  0.475664  0.149451  ... -0.227404  0.742435  0.398535   \n",
            "..        ...       ...       ...  ...       ...       ...       ...   \n",
            "26  -0.247667  0.130741 -0.484994  ...  0.265057  0.066608 -0.381752   \n",
            "638 -0.133289 -0.087201 -0.391208  ... -0.797892  0.102206  0.338588   \n",
            "300  0.295838  0.618649  0.475943  ...  0.920013 -0.210219 -0.435499   \n",
            "526  0.194572  0.101358 -0.088245  ... -0.076493 -0.215267 -0.289078   \n",
            "211 -5.916808  0.893287  0.911375  ... -1.191485 -0.057648 -0.457314   \n",
            "\n",
            "          V25       V26       V27       V28    Amount  Class  cluster  \n",
            "443 -0.029521  1.141241 -0.008612  0.041564  0.142996      0       25  \n",
            "676  0.218949  0.094522 -0.022678  0.030922 -0.337823      1       31  \n",
            "466  0.197637 -0.286674 -0.230530 -0.405084  0.160344      0        5  \n",
            "906  0.093839  0.156952  0.152522 -0.079741 -0.341847      1       25  \n",
            "253  0.249212  0.274404  0.359969  0.243232 -0.213637      0       15  \n",
            "..        ...       ...       ...       ...       ...    ...      ...  \n",
            "26  -1.305171  0.646049 -0.013625 -0.011985 -0.334117      0       38  \n",
            "638  0.208467  0.098330 -0.010945  0.023295 -0.334306      1       37  \n",
            "300  0.450803  0.068454  0.062214  0.022191 -0.231846      0       38  \n",
            "526 -0.325403  0.292013 -0.326766 -0.365866 -0.342050      1       37  \n",
            "211 -0.492138 -0.330366  0.404640 -0.378188 -0.135088      0       33  \n",
            "\n",
            "[200 rows x 31 columns]\n"
          ]
        }
      ]
    },
    {
      "cell_type": "code",
      "source": [
        "multi_sample.head()"
      ],
      "metadata": {
        "colab": {
          "base_uri": "https://localhost:8080/",
          "height": 299
        },
        "id": "qq6Osom4P1oH",
        "outputId": "56e481d0-e739-48ef-8205-a57644ffe9e6"
      },
      "execution_count": null,
      "outputs": [
        {
          "output_type": "execute_result",
          "data": {
            "text/plain": [
              "           V1        V2        V3        V4        V5        V6        V7  \\\n",
              "443  1.138759 -1.192953  1.407131 -0.330070 -2.069503 -0.242175 -1.306635   \n",
              "676  1.256542  0.358677  0.305062  0.691677 -0.363530 -1.068645  0.091129   \n",
              "466 -1.118946 -0.071366  2.807769  1.025675 -0.100748  0.508680  0.620313   \n",
              "906 -0.903170  1.274084 -0.895555  2.570485 -0.288072 -0.886024 -1.548745   \n",
              "253 -2.074295 -0.121482  1.322021  0.410008  0.295198 -0.959537  0.543985   \n",
              "\n",
              "           V8        V9       V10  ...       V22       V23       V24  \\\n",
              "443  0.104510  0.134628  0.493931  ... -0.030569 -0.019723  0.433753   \n",
              "676 -0.207169  0.023138 -0.284588  ... -0.825702  0.127839  0.341575   \n",
              "466 -0.213137  0.333039 -0.074899  ...  0.455553  0.170942  0.076211   \n",
              "906  0.866267 -1.758896 -1.724634  ... -0.277777 -0.237411  0.054782   \n",
              "253 -0.104627  0.475664  0.149451  ... -0.227404  0.742435  0.398535   \n",
              "\n",
              "          V25       V26       V27       V28    Amount  Class  cluster  \n",
              "443 -0.029521  1.141241 -0.008612  0.041564  0.142996      0       25  \n",
              "676  0.218949  0.094522 -0.022678  0.030922 -0.337823      1       31  \n",
              "466  0.197637 -0.286674 -0.230530 -0.405084  0.160344      0        5  \n",
              "906  0.093839  0.156952  0.152522 -0.079741 -0.341847      1       25  \n",
              "253  0.249212  0.274404  0.359969  0.243232 -0.213637      0       15  \n",
              "\n",
              "[5 rows x 31 columns]"
            ],
            "text/html": [
              "\n",
              "  <div id=\"df-1b8cf536-4719-465f-93e1-cd3beb8a687e\">\n",
              "    <div class=\"colab-df-container\">\n",
              "      <div>\n",
              "<style scoped>\n",
              "    .dataframe tbody tr th:only-of-type {\n",
              "        vertical-align: middle;\n",
              "    }\n",
              "\n",
              "    .dataframe tbody tr th {\n",
              "        vertical-align: top;\n",
              "    }\n",
              "\n",
              "    .dataframe thead th {\n",
              "        text-align: right;\n",
              "    }\n",
              "</style>\n",
              "<table border=\"1\" class=\"dataframe\">\n",
              "  <thead>\n",
              "    <tr style=\"text-align: right;\">\n",
              "      <th></th>\n",
              "      <th>V1</th>\n",
              "      <th>V2</th>\n",
              "      <th>V3</th>\n",
              "      <th>V4</th>\n",
              "      <th>V5</th>\n",
              "      <th>V6</th>\n",
              "      <th>V7</th>\n",
              "      <th>V8</th>\n",
              "      <th>V9</th>\n",
              "      <th>V10</th>\n",
              "      <th>...</th>\n",
              "      <th>V22</th>\n",
              "      <th>V23</th>\n",
              "      <th>V24</th>\n",
              "      <th>V25</th>\n",
              "      <th>V26</th>\n",
              "      <th>V27</th>\n",
              "      <th>V28</th>\n",
              "      <th>Amount</th>\n",
              "      <th>Class</th>\n",
              "      <th>cluster</th>\n",
              "    </tr>\n",
              "  </thead>\n",
              "  <tbody>\n",
              "    <tr>\n",
              "      <th>443</th>\n",
              "      <td>1.138759</td>\n",
              "      <td>-1.192953</td>\n",
              "      <td>1.407131</td>\n",
              "      <td>-0.330070</td>\n",
              "      <td>-2.069503</td>\n",
              "      <td>-0.242175</td>\n",
              "      <td>-1.306635</td>\n",
              "      <td>0.104510</td>\n",
              "      <td>0.134628</td>\n",
              "      <td>0.493931</td>\n",
              "      <td>...</td>\n",
              "      <td>-0.030569</td>\n",
              "      <td>-0.019723</td>\n",
              "      <td>0.433753</td>\n",
              "      <td>-0.029521</td>\n",
              "      <td>1.141241</td>\n",
              "      <td>-0.008612</td>\n",
              "      <td>0.041564</td>\n",
              "      <td>0.142996</td>\n",
              "      <td>0</td>\n",
              "      <td>25</td>\n",
              "    </tr>\n",
              "    <tr>\n",
              "      <th>676</th>\n",
              "      <td>1.256542</td>\n",
              "      <td>0.358677</td>\n",
              "      <td>0.305062</td>\n",
              "      <td>0.691677</td>\n",
              "      <td>-0.363530</td>\n",
              "      <td>-1.068645</td>\n",
              "      <td>0.091129</td>\n",
              "      <td>-0.207169</td>\n",
              "      <td>0.023138</td>\n",
              "      <td>-0.284588</td>\n",
              "      <td>...</td>\n",
              "      <td>-0.825702</td>\n",
              "      <td>0.127839</td>\n",
              "      <td>0.341575</td>\n",
              "      <td>0.218949</td>\n",
              "      <td>0.094522</td>\n",
              "      <td>-0.022678</td>\n",
              "      <td>0.030922</td>\n",
              "      <td>-0.337823</td>\n",
              "      <td>1</td>\n",
              "      <td>31</td>\n",
              "    </tr>\n",
              "    <tr>\n",
              "      <th>466</th>\n",
              "      <td>-1.118946</td>\n",
              "      <td>-0.071366</td>\n",
              "      <td>2.807769</td>\n",
              "      <td>1.025675</td>\n",
              "      <td>-0.100748</td>\n",
              "      <td>0.508680</td>\n",
              "      <td>0.620313</td>\n",
              "      <td>-0.213137</td>\n",
              "      <td>0.333039</td>\n",
              "      <td>-0.074899</td>\n",
              "      <td>...</td>\n",
              "      <td>0.455553</td>\n",
              "      <td>0.170942</td>\n",
              "      <td>0.076211</td>\n",
              "      <td>0.197637</td>\n",
              "      <td>-0.286674</td>\n",
              "      <td>-0.230530</td>\n",
              "      <td>-0.405084</td>\n",
              "      <td>0.160344</td>\n",
              "      <td>0</td>\n",
              "      <td>5</td>\n",
              "    </tr>\n",
              "    <tr>\n",
              "      <th>906</th>\n",
              "      <td>-0.903170</td>\n",
              "      <td>1.274084</td>\n",
              "      <td>-0.895555</td>\n",
              "      <td>2.570485</td>\n",
              "      <td>-0.288072</td>\n",
              "      <td>-0.886024</td>\n",
              "      <td>-1.548745</td>\n",
              "      <td>0.866267</td>\n",
              "      <td>-1.758896</td>\n",
              "      <td>-1.724634</td>\n",
              "      <td>...</td>\n",
              "      <td>-0.277777</td>\n",
              "      <td>-0.237411</td>\n",
              "      <td>0.054782</td>\n",
              "      <td>0.093839</td>\n",
              "      <td>0.156952</td>\n",
              "      <td>0.152522</td>\n",
              "      <td>-0.079741</td>\n",
              "      <td>-0.341847</td>\n",
              "      <td>1</td>\n",
              "      <td>25</td>\n",
              "    </tr>\n",
              "    <tr>\n",
              "      <th>253</th>\n",
              "      <td>-2.074295</td>\n",
              "      <td>-0.121482</td>\n",
              "      <td>1.322021</td>\n",
              "      <td>0.410008</td>\n",
              "      <td>0.295198</td>\n",
              "      <td>-0.959537</td>\n",
              "      <td>0.543985</td>\n",
              "      <td>-0.104627</td>\n",
              "      <td>0.475664</td>\n",
              "      <td>0.149451</td>\n",
              "      <td>...</td>\n",
              "      <td>-0.227404</td>\n",
              "      <td>0.742435</td>\n",
              "      <td>0.398535</td>\n",
              "      <td>0.249212</td>\n",
              "      <td>0.274404</td>\n",
              "      <td>0.359969</td>\n",
              "      <td>0.243232</td>\n",
              "      <td>-0.213637</td>\n",
              "      <td>0</td>\n",
              "      <td>15</td>\n",
              "    </tr>\n",
              "  </tbody>\n",
              "</table>\n",
              "<p>5 rows × 31 columns</p>\n",
              "</div>\n",
              "      <button class=\"colab-df-convert\" onclick=\"convertToInteractive('df-1b8cf536-4719-465f-93e1-cd3beb8a687e')\"\n",
              "              title=\"Convert this dataframe to an interactive table.\"\n",
              "              style=\"display:none;\">\n",
              "        \n",
              "  <svg xmlns=\"http://www.w3.org/2000/svg\" height=\"24px\"viewBox=\"0 0 24 24\"\n",
              "       width=\"24px\">\n",
              "    <path d=\"M0 0h24v24H0V0z\" fill=\"none\"/>\n",
              "    <path d=\"M18.56 5.44l.94 2.06.94-2.06 2.06-.94-2.06-.94-.94-2.06-.94 2.06-2.06.94zm-11 1L8.5 8.5l.94-2.06 2.06-.94-2.06-.94L8.5 2.5l-.94 2.06-2.06.94zm10 10l.94 2.06.94-2.06 2.06-.94-2.06-.94-.94-2.06-.94 2.06-2.06.94z\"/><path d=\"M17.41 7.96l-1.37-1.37c-.4-.4-.92-.59-1.43-.59-.52 0-1.04.2-1.43.59L10.3 9.45l-7.72 7.72c-.78.78-.78 2.05 0 2.83L4 21.41c.39.39.9.59 1.41.59.51 0 1.02-.2 1.41-.59l7.78-7.78 2.81-2.81c.8-.78.8-2.07 0-2.86zM5.41 20L4 18.59l7.72-7.72 1.47 1.35L5.41 20z\"/>\n",
              "  </svg>\n",
              "      </button>\n",
              "      \n",
              "  <style>\n",
              "    .colab-df-container {\n",
              "      display:flex;\n",
              "      flex-wrap:wrap;\n",
              "      gap: 12px;\n",
              "    }\n",
              "\n",
              "    .colab-df-convert {\n",
              "      background-color: #E8F0FE;\n",
              "      border: none;\n",
              "      border-radius: 50%;\n",
              "      cursor: pointer;\n",
              "      display: none;\n",
              "      fill: #1967D2;\n",
              "      height: 32px;\n",
              "      padding: 0 0 0 0;\n",
              "      width: 32px;\n",
              "    }\n",
              "\n",
              "    .colab-df-convert:hover {\n",
              "      background-color: #E2EBFA;\n",
              "      box-shadow: 0px 1px 2px rgba(60, 64, 67, 0.3), 0px 1px 3px 1px rgba(60, 64, 67, 0.15);\n",
              "      fill: #174EA6;\n",
              "    }\n",
              "\n",
              "    [theme=dark] .colab-df-convert {\n",
              "      background-color: #3B4455;\n",
              "      fill: #D2E3FC;\n",
              "    }\n",
              "\n",
              "    [theme=dark] .colab-df-convert:hover {\n",
              "      background-color: #434B5C;\n",
              "      box-shadow: 0px 1px 3px 1px rgba(0, 0, 0, 0.15);\n",
              "      filter: drop-shadow(0px 1px 2px rgba(0, 0, 0, 0.3));\n",
              "      fill: #FFFFFF;\n",
              "    }\n",
              "  </style>\n",
              "\n",
              "      <script>\n",
              "        const buttonEl =\n",
              "          document.querySelector('#df-1b8cf536-4719-465f-93e1-cd3beb8a687e button.colab-df-convert');\n",
              "        buttonEl.style.display =\n",
              "          google.colab.kernel.accessAllowed ? 'block' : 'none';\n",
              "\n",
              "        async function convertToInteractive(key) {\n",
              "          const element = document.querySelector('#df-1b8cf536-4719-465f-93e1-cd3beb8a687e');\n",
              "          const dataTable =\n",
              "            await google.colab.kernel.invokeFunction('convertToInteractive',\n",
              "                                                     [key], {});\n",
              "          if (!dataTable) return;\n",
              "\n",
              "          const docLinkHtml = 'Like what you see? Visit the ' +\n",
              "            '<a target=\"_blank\" href=https://colab.research.google.com/notebooks/data_table.ipynb>data table notebook</a>'\n",
              "            + ' to learn more about interactive tables.';\n",
              "          element.innerHTML = '';\n",
              "          dataTable['output_type'] = 'display_data';\n",
              "          await google.colab.output.renderOutput(dataTable, element);\n",
              "          const docLink = document.createElement('div');\n",
              "          docLink.innerHTML = docLinkHtml;\n",
              "          element.appendChild(docLink);\n",
              "        }\n",
              "      </script>\n",
              "    </div>\n",
              "  </div>\n",
              "  "
            ]
          },
          "metadata": {},
          "execution_count": 491
        }
      ]
    },
    {
      "cell_type": "code",
      "source": [
        "#multi_sample.to_csv('Multi-Sample.csv')"
      ],
      "metadata": {
        "id": "nDQ07WguQHx2"
      },
      "execution_count": null,
      "outputs": []
    },
    {
      "cell_type": "markdown",
      "source": [
        "Classification Models"
      ],
      "metadata": {
        "id": "hDZ6QKJ52bPZ"
      }
    },
    {
      "cell_type": "code",
      "source": [
        "# Spliting input and output features\n",
        "x_multi=multi_sample.iloc[:,:-2] # Except Column Cluster\n",
        "y_multi=multi_sample.iloc[:,-2]"
      ],
      "metadata": {
        "id": "ObK-oKbn2eoA"
      },
      "execution_count": null,
      "outputs": []
    },
    {
      "cell_type": "code",
      "source": [
        "x_multi"
      ],
      "metadata": {
        "colab": {
          "base_uri": "https://localhost:8080/",
          "height": 487
        },
        "id": "evT_3V5UQPLE",
        "outputId": "60da5237-72e1-4ede-cd28-1930f7f805d4"
      },
      "execution_count": null,
      "outputs": [
        {
          "output_type": "execute_result",
          "data": {
            "text/plain": [
              "           V1        V2        V3        V4        V5        V6        V7  \\\n",
              "443  1.138759 -1.192953  1.407131 -0.330070 -2.069503 -0.242175 -1.306635   \n",
              "676  1.256542  0.358677  0.305062  0.691677 -0.363530 -1.068645  0.091129   \n",
              "466 -1.118946 -0.071366  2.807769  1.025675 -0.100748  0.508680  0.620313   \n",
              "906 -0.903170  1.274084 -0.895555  2.570485 -0.288072 -0.886024 -1.548745   \n",
              "253 -2.074295 -0.121482  1.322021  0.410008  0.295198 -0.959537  0.543985   \n",
              "..        ...       ...       ...       ...       ...       ...       ...   \n",
              "26   0.019256  0.471698  0.868060 -1.239124  0.547898 -0.502661  0.808516   \n",
              "638  1.099327  0.420148  0.219078  0.837258 -0.378044 -1.085796 -0.027676   \n",
              "300  1.355790 -1.122921  1.191187 -0.576548 -1.708750  0.274721 -1.640785   \n",
              "526 -1.760400 -0.159472  1.293661 -0.507026  1.048987 -0.217999  0.070942   \n",
              "211 -2.565417  1.285936  1.446036  0.685430  0.496797  0.970669 -1.994767   \n",
              "\n",
              "           V8        V9       V10  ...       V20       V21       V22  \\\n",
              "443  0.104510  0.134628  0.493931  ... -0.299307 -0.156198 -0.030569   \n",
              "676 -0.207169  0.023138 -0.284588  ... -0.076286 -0.287165 -0.825702   \n",
              "466 -0.213137  0.333039 -0.074899  ...  0.101302 -0.045782  0.455553   \n",
              "906  0.866267 -1.758896 -1.724634  ...  0.048098  0.218455 -0.277777   \n",
              "253 -0.104627  0.475664  0.149451  ... -0.386694 -0.403639 -0.227404   \n",
              "..        ...       ...       ...  ...       ...       ...       ...   \n",
              "26  -0.247667  0.130741 -0.484994  ... -0.107130  0.021430  0.265057   \n",
              "638 -0.133289 -0.087201 -0.391208  ... -0.070742 -0.252488 -0.797892   \n",
              "300  0.295838  0.618649  0.475943  ...  0.020548  0.302035  0.920013   \n",
              "526  0.194572  0.101358 -0.088245  ...  0.054434 -0.129412 -0.076493   \n",
              "211 -5.916808  0.893287  0.911375  ... -1.662163  5.200062 -1.191485   \n",
              "\n",
              "          V23       V24       V25       V26       V27       V28    Amount  \n",
              "443 -0.019723  0.433753 -0.029521  1.141241 -0.008612  0.041564  0.142996  \n",
              "676  0.127839  0.341575  0.218949  0.094522 -0.022678  0.030922 -0.337823  \n",
              "466  0.170942  0.076211  0.197637 -0.286674 -0.230530 -0.405084  0.160344  \n",
              "906 -0.237411  0.054782  0.093839  0.156952  0.152522 -0.079741 -0.341847  \n",
              "253  0.742435  0.398535  0.249212  0.274404  0.359969  0.243232 -0.213637  \n",
              "..        ...       ...       ...       ...       ...       ...       ...  \n",
              "26   0.066608 -0.381752 -1.305171  0.646049 -0.013625 -0.011985 -0.334117  \n",
              "638  0.102206  0.338588  0.208467  0.098330 -0.010945  0.023295 -0.334306  \n",
              "300 -0.210219 -0.435499  0.450803  0.068454  0.062214  0.022191 -0.231846  \n",
              "526 -0.215267 -0.289078 -0.325403  0.292013 -0.326766 -0.365866 -0.342050  \n",
              "211 -0.057648 -0.457314 -0.492138 -0.330366  0.404640 -0.378188 -0.135088  \n",
              "\n",
              "[200 rows x 29 columns]"
            ],
            "text/html": [
              "\n",
              "  <div id=\"df-30929abd-a68a-4c1c-a945-66137e5e4567\">\n",
              "    <div class=\"colab-df-container\">\n",
              "      <div>\n",
              "<style scoped>\n",
              "    .dataframe tbody tr th:only-of-type {\n",
              "        vertical-align: middle;\n",
              "    }\n",
              "\n",
              "    .dataframe tbody tr th {\n",
              "        vertical-align: top;\n",
              "    }\n",
              "\n",
              "    .dataframe thead th {\n",
              "        text-align: right;\n",
              "    }\n",
              "</style>\n",
              "<table border=\"1\" class=\"dataframe\">\n",
              "  <thead>\n",
              "    <tr style=\"text-align: right;\">\n",
              "      <th></th>\n",
              "      <th>V1</th>\n",
              "      <th>V2</th>\n",
              "      <th>V3</th>\n",
              "      <th>V4</th>\n",
              "      <th>V5</th>\n",
              "      <th>V6</th>\n",
              "      <th>V7</th>\n",
              "      <th>V8</th>\n",
              "      <th>V9</th>\n",
              "      <th>V10</th>\n",
              "      <th>...</th>\n",
              "      <th>V20</th>\n",
              "      <th>V21</th>\n",
              "      <th>V22</th>\n",
              "      <th>V23</th>\n",
              "      <th>V24</th>\n",
              "      <th>V25</th>\n",
              "      <th>V26</th>\n",
              "      <th>V27</th>\n",
              "      <th>V28</th>\n",
              "      <th>Amount</th>\n",
              "    </tr>\n",
              "  </thead>\n",
              "  <tbody>\n",
              "    <tr>\n",
              "      <th>443</th>\n",
              "      <td>1.138759</td>\n",
              "      <td>-1.192953</td>\n",
              "      <td>1.407131</td>\n",
              "      <td>-0.330070</td>\n",
              "      <td>-2.069503</td>\n",
              "      <td>-0.242175</td>\n",
              "      <td>-1.306635</td>\n",
              "      <td>0.104510</td>\n",
              "      <td>0.134628</td>\n",
              "      <td>0.493931</td>\n",
              "      <td>...</td>\n",
              "      <td>-0.299307</td>\n",
              "      <td>-0.156198</td>\n",
              "      <td>-0.030569</td>\n",
              "      <td>-0.019723</td>\n",
              "      <td>0.433753</td>\n",
              "      <td>-0.029521</td>\n",
              "      <td>1.141241</td>\n",
              "      <td>-0.008612</td>\n",
              "      <td>0.041564</td>\n",
              "      <td>0.142996</td>\n",
              "    </tr>\n",
              "    <tr>\n",
              "      <th>676</th>\n",
              "      <td>1.256542</td>\n",
              "      <td>0.358677</td>\n",
              "      <td>0.305062</td>\n",
              "      <td>0.691677</td>\n",
              "      <td>-0.363530</td>\n",
              "      <td>-1.068645</td>\n",
              "      <td>0.091129</td>\n",
              "      <td>-0.207169</td>\n",
              "      <td>0.023138</td>\n",
              "      <td>-0.284588</td>\n",
              "      <td>...</td>\n",
              "      <td>-0.076286</td>\n",
              "      <td>-0.287165</td>\n",
              "      <td>-0.825702</td>\n",
              "      <td>0.127839</td>\n",
              "      <td>0.341575</td>\n",
              "      <td>0.218949</td>\n",
              "      <td>0.094522</td>\n",
              "      <td>-0.022678</td>\n",
              "      <td>0.030922</td>\n",
              "      <td>-0.337823</td>\n",
              "    </tr>\n",
              "    <tr>\n",
              "      <th>466</th>\n",
              "      <td>-1.118946</td>\n",
              "      <td>-0.071366</td>\n",
              "      <td>2.807769</td>\n",
              "      <td>1.025675</td>\n",
              "      <td>-0.100748</td>\n",
              "      <td>0.508680</td>\n",
              "      <td>0.620313</td>\n",
              "      <td>-0.213137</td>\n",
              "      <td>0.333039</td>\n",
              "      <td>-0.074899</td>\n",
              "      <td>...</td>\n",
              "      <td>0.101302</td>\n",
              "      <td>-0.045782</td>\n",
              "      <td>0.455553</td>\n",
              "      <td>0.170942</td>\n",
              "      <td>0.076211</td>\n",
              "      <td>0.197637</td>\n",
              "      <td>-0.286674</td>\n",
              "      <td>-0.230530</td>\n",
              "      <td>-0.405084</td>\n",
              "      <td>0.160344</td>\n",
              "    </tr>\n",
              "    <tr>\n",
              "      <th>906</th>\n",
              "      <td>-0.903170</td>\n",
              "      <td>1.274084</td>\n",
              "      <td>-0.895555</td>\n",
              "      <td>2.570485</td>\n",
              "      <td>-0.288072</td>\n",
              "      <td>-0.886024</td>\n",
              "      <td>-1.548745</td>\n",
              "      <td>0.866267</td>\n",
              "      <td>-1.758896</td>\n",
              "      <td>-1.724634</td>\n",
              "      <td>...</td>\n",
              "      <td>0.048098</td>\n",
              "      <td>0.218455</td>\n",
              "      <td>-0.277777</td>\n",
              "      <td>-0.237411</td>\n",
              "      <td>0.054782</td>\n",
              "      <td>0.093839</td>\n",
              "      <td>0.156952</td>\n",
              "      <td>0.152522</td>\n",
              "      <td>-0.079741</td>\n",
              "      <td>-0.341847</td>\n",
              "    </tr>\n",
              "    <tr>\n",
              "      <th>253</th>\n",
              "      <td>-2.074295</td>\n",
              "      <td>-0.121482</td>\n",
              "      <td>1.322021</td>\n",
              "      <td>0.410008</td>\n",
              "      <td>0.295198</td>\n",
              "      <td>-0.959537</td>\n",
              "      <td>0.543985</td>\n",
              "      <td>-0.104627</td>\n",
              "      <td>0.475664</td>\n",
              "      <td>0.149451</td>\n",
              "      <td>...</td>\n",
              "      <td>-0.386694</td>\n",
              "      <td>-0.403639</td>\n",
              "      <td>-0.227404</td>\n",
              "      <td>0.742435</td>\n",
              "      <td>0.398535</td>\n",
              "      <td>0.249212</td>\n",
              "      <td>0.274404</td>\n",
              "      <td>0.359969</td>\n",
              "      <td>0.243232</td>\n",
              "      <td>-0.213637</td>\n",
              "    </tr>\n",
              "    <tr>\n",
              "      <th>...</th>\n",
              "      <td>...</td>\n",
              "      <td>...</td>\n",
              "      <td>...</td>\n",
              "      <td>...</td>\n",
              "      <td>...</td>\n",
              "      <td>...</td>\n",
              "      <td>...</td>\n",
              "      <td>...</td>\n",
              "      <td>...</td>\n",
              "      <td>...</td>\n",
              "      <td>...</td>\n",
              "      <td>...</td>\n",
              "      <td>...</td>\n",
              "      <td>...</td>\n",
              "      <td>...</td>\n",
              "      <td>...</td>\n",
              "      <td>...</td>\n",
              "      <td>...</td>\n",
              "      <td>...</td>\n",
              "      <td>...</td>\n",
              "      <td>...</td>\n",
              "    </tr>\n",
              "    <tr>\n",
              "      <th>26</th>\n",
              "      <td>0.019256</td>\n",
              "      <td>0.471698</td>\n",
              "      <td>0.868060</td>\n",
              "      <td>-1.239124</td>\n",
              "      <td>0.547898</td>\n",
              "      <td>-0.502661</td>\n",
              "      <td>0.808516</td>\n",
              "      <td>-0.247667</td>\n",
              "      <td>0.130741</td>\n",
              "      <td>-0.484994</td>\n",
              "      <td>...</td>\n",
              "      <td>-0.107130</td>\n",
              "      <td>0.021430</td>\n",
              "      <td>0.265057</td>\n",
              "      <td>0.066608</td>\n",
              "      <td>-0.381752</td>\n",
              "      <td>-1.305171</td>\n",
              "      <td>0.646049</td>\n",
              "      <td>-0.013625</td>\n",
              "      <td>-0.011985</td>\n",
              "      <td>-0.334117</td>\n",
              "    </tr>\n",
              "    <tr>\n",
              "      <th>638</th>\n",
              "      <td>1.099327</td>\n",
              "      <td>0.420148</td>\n",
              "      <td>0.219078</td>\n",
              "      <td>0.837258</td>\n",
              "      <td>-0.378044</td>\n",
              "      <td>-1.085796</td>\n",
              "      <td>-0.027676</td>\n",
              "      <td>-0.133289</td>\n",
              "      <td>-0.087201</td>\n",
              "      <td>-0.391208</td>\n",
              "      <td>...</td>\n",
              "      <td>-0.070742</td>\n",
              "      <td>-0.252488</td>\n",
              "      <td>-0.797892</td>\n",
              "      <td>0.102206</td>\n",
              "      <td>0.338588</td>\n",
              "      <td>0.208467</td>\n",
              "      <td>0.098330</td>\n",
              "      <td>-0.010945</td>\n",
              "      <td>0.023295</td>\n",
              "      <td>-0.334306</td>\n",
              "    </tr>\n",
              "    <tr>\n",
              "      <th>300</th>\n",
              "      <td>1.355790</td>\n",
              "      <td>-1.122921</td>\n",
              "      <td>1.191187</td>\n",
              "      <td>-0.576548</td>\n",
              "      <td>-1.708750</td>\n",
              "      <td>0.274721</td>\n",
              "      <td>-1.640785</td>\n",
              "      <td>0.295838</td>\n",
              "      <td>0.618649</td>\n",
              "      <td>0.475943</td>\n",
              "      <td>...</td>\n",
              "      <td>0.020548</td>\n",
              "      <td>0.302035</td>\n",
              "      <td>0.920013</td>\n",
              "      <td>-0.210219</td>\n",
              "      <td>-0.435499</td>\n",
              "      <td>0.450803</td>\n",
              "      <td>0.068454</td>\n",
              "      <td>0.062214</td>\n",
              "      <td>0.022191</td>\n",
              "      <td>-0.231846</td>\n",
              "    </tr>\n",
              "    <tr>\n",
              "      <th>526</th>\n",
              "      <td>-1.760400</td>\n",
              "      <td>-0.159472</td>\n",
              "      <td>1.293661</td>\n",
              "      <td>-0.507026</td>\n",
              "      <td>1.048987</td>\n",
              "      <td>-0.217999</td>\n",
              "      <td>0.070942</td>\n",
              "      <td>0.194572</td>\n",
              "      <td>0.101358</td>\n",
              "      <td>-0.088245</td>\n",
              "      <td>...</td>\n",
              "      <td>0.054434</td>\n",
              "      <td>-0.129412</td>\n",
              "      <td>-0.076493</td>\n",
              "      <td>-0.215267</td>\n",
              "      <td>-0.289078</td>\n",
              "      <td>-0.325403</td>\n",
              "      <td>0.292013</td>\n",
              "      <td>-0.326766</td>\n",
              "      <td>-0.365866</td>\n",
              "      <td>-0.342050</td>\n",
              "    </tr>\n",
              "    <tr>\n",
              "      <th>211</th>\n",
              "      <td>-2.565417</td>\n",
              "      <td>1.285936</td>\n",
              "      <td>1.446036</td>\n",
              "      <td>0.685430</td>\n",
              "      <td>0.496797</td>\n",
              "      <td>0.970669</td>\n",
              "      <td>-1.994767</td>\n",
              "      <td>-5.916808</td>\n",
              "      <td>0.893287</td>\n",
              "      <td>0.911375</td>\n",
              "      <td>...</td>\n",
              "      <td>-1.662163</td>\n",
              "      <td>5.200062</td>\n",
              "      <td>-1.191485</td>\n",
              "      <td>-0.057648</td>\n",
              "      <td>-0.457314</td>\n",
              "      <td>-0.492138</td>\n",
              "      <td>-0.330366</td>\n",
              "      <td>0.404640</td>\n",
              "      <td>-0.378188</td>\n",
              "      <td>-0.135088</td>\n",
              "    </tr>\n",
              "  </tbody>\n",
              "</table>\n",
              "<p>200 rows × 29 columns</p>\n",
              "</div>\n",
              "      <button class=\"colab-df-convert\" onclick=\"convertToInteractive('df-30929abd-a68a-4c1c-a945-66137e5e4567')\"\n",
              "              title=\"Convert this dataframe to an interactive table.\"\n",
              "              style=\"display:none;\">\n",
              "        \n",
              "  <svg xmlns=\"http://www.w3.org/2000/svg\" height=\"24px\"viewBox=\"0 0 24 24\"\n",
              "       width=\"24px\">\n",
              "    <path d=\"M0 0h24v24H0V0z\" fill=\"none\"/>\n",
              "    <path d=\"M18.56 5.44l.94 2.06.94-2.06 2.06-.94-2.06-.94-.94-2.06-.94 2.06-2.06.94zm-11 1L8.5 8.5l.94-2.06 2.06-.94-2.06-.94L8.5 2.5l-.94 2.06-2.06.94zm10 10l.94 2.06.94-2.06 2.06-.94-2.06-.94-.94-2.06-.94 2.06-2.06.94z\"/><path d=\"M17.41 7.96l-1.37-1.37c-.4-.4-.92-.59-1.43-.59-.52 0-1.04.2-1.43.59L10.3 9.45l-7.72 7.72c-.78.78-.78 2.05 0 2.83L4 21.41c.39.39.9.59 1.41.59.51 0 1.02-.2 1.41-.59l7.78-7.78 2.81-2.81c.8-.78.8-2.07 0-2.86zM5.41 20L4 18.59l7.72-7.72 1.47 1.35L5.41 20z\"/>\n",
              "  </svg>\n",
              "      </button>\n",
              "      \n",
              "  <style>\n",
              "    .colab-df-container {\n",
              "      display:flex;\n",
              "      flex-wrap:wrap;\n",
              "      gap: 12px;\n",
              "    }\n",
              "\n",
              "    .colab-df-convert {\n",
              "      background-color: #E8F0FE;\n",
              "      border: none;\n",
              "      border-radius: 50%;\n",
              "      cursor: pointer;\n",
              "      display: none;\n",
              "      fill: #1967D2;\n",
              "      height: 32px;\n",
              "      padding: 0 0 0 0;\n",
              "      width: 32px;\n",
              "    }\n",
              "\n",
              "    .colab-df-convert:hover {\n",
              "      background-color: #E2EBFA;\n",
              "      box-shadow: 0px 1px 2px rgba(60, 64, 67, 0.3), 0px 1px 3px 1px rgba(60, 64, 67, 0.15);\n",
              "      fill: #174EA6;\n",
              "    }\n",
              "\n",
              "    [theme=dark] .colab-df-convert {\n",
              "      background-color: #3B4455;\n",
              "      fill: #D2E3FC;\n",
              "    }\n",
              "\n",
              "    [theme=dark] .colab-df-convert:hover {\n",
              "      background-color: #434B5C;\n",
              "      box-shadow: 0px 1px 3px 1px rgba(0, 0, 0, 0.15);\n",
              "      filter: drop-shadow(0px 1px 2px rgba(0, 0, 0, 0.3));\n",
              "      fill: #FFFFFF;\n",
              "    }\n",
              "  </style>\n",
              "\n",
              "      <script>\n",
              "        const buttonEl =\n",
              "          document.querySelector('#df-30929abd-a68a-4c1c-a945-66137e5e4567 button.colab-df-convert');\n",
              "        buttonEl.style.display =\n",
              "          google.colab.kernel.accessAllowed ? 'block' : 'none';\n",
              "\n",
              "        async function convertToInteractive(key) {\n",
              "          const element = document.querySelector('#df-30929abd-a68a-4c1c-a945-66137e5e4567');\n",
              "          const dataTable =\n",
              "            await google.colab.kernel.invokeFunction('convertToInteractive',\n",
              "                                                     [key], {});\n",
              "          if (!dataTable) return;\n",
              "\n",
              "          const docLinkHtml = 'Like what you see? Visit the ' +\n",
              "            '<a target=\"_blank\" href=https://colab.research.google.com/notebooks/data_table.ipynb>data table notebook</a>'\n",
              "            + ' to learn more about interactive tables.';\n",
              "          element.innerHTML = '';\n",
              "          dataTable['output_type'] = 'display_data';\n",
              "          await google.colab.output.renderOutput(dataTable, element);\n",
              "          const docLink = document.createElement('div');\n",
              "          docLink.innerHTML = docLinkHtml;\n",
              "          element.appendChild(docLink);\n",
              "        }\n",
              "      </script>\n",
              "    </div>\n",
              "  </div>\n",
              "  "
            ]
          },
          "metadata": {},
          "execution_count": 494
        }
      ]
    },
    {
      "cell_type": "code",
      "source": [
        "y_multi"
      ],
      "metadata": {
        "colab": {
          "base_uri": "https://localhost:8080/"
        },
        "id": "mY2NR_JoQSGY",
        "outputId": "dd99b43c-7d59-4876-e590-78e95435d0d0"
      },
      "execution_count": null,
      "outputs": [
        {
          "output_type": "execute_result",
          "data": {
            "text/plain": [
              "443    0\n",
              "676    1\n",
              "466    0\n",
              "906    1\n",
              "253    0\n",
              "      ..\n",
              "26     0\n",
              "638    1\n",
              "300    0\n",
              "526    1\n",
              "211    0\n",
              "Name: Class, Length: 200, dtype: int64"
            ]
          },
          "metadata": {},
          "execution_count": 495
        }
      ]
    },
    {
      "cell_type": "code",
      "source": [
        "# Training-Testing Splitting\n",
        "from sklearn.model_selection import train_test_split\n",
        "x_train, x_test, y_train, y_test = train_test_split(x_multi, y_multi, test_size=0.25, random_state=42)"
      ],
      "metadata": {
        "id": "BQWFxwFR2pJb"
      },
      "execution_count": null,
      "outputs": []
    },
    {
      "cell_type": "markdown",
      "source": [
        "Logistic Regression"
      ],
      "metadata": {
        "id": "vReI_sOt2d8W"
      }
    },
    {
      "cell_type": "code",
      "source": [
        "# Logistic Regression\n",
        "from sklearn.metrics import accuracy_score\n",
        "from sklearn import linear_model\n",
        "logr = linear_model.LogisticRegression()\n",
        "logr.fit(x_train, y_train)\n",
        "logr_pred = logr.predict(x_test)\n",
        "score = accuracy_score(logr_pred, y_test)\n",
        "print(score)"
      ],
      "metadata": {
        "colab": {
          "base_uri": "https://localhost:8080/"
        },
        "id": "3ryyvqBx2tWH",
        "outputId": "27e1971e-4589-4317-d2ca-36540054b93a"
      },
      "execution_count": null,
      "outputs": [
        {
          "output_type": "stream",
          "name": "stdout",
          "text": [
            "0.86\n"
          ]
        }
      ]
    },
    {
      "cell_type": "markdown",
      "source": [
        "Decision Tree Classification"
      ],
      "metadata": {
        "id": "csmWFZF52vEn"
      }
    },
    {
      "cell_type": "code",
      "source": [
        "# Decision Tree Classifier\n",
        "from sklearn.tree import DecisionTreeClassifier\n",
        "from sklearn.metrics import confusion_matrix,accuracy_score\n",
        "\n",
        "dtree_model = DecisionTreeClassifier(max_depth = 2).fit(x_train, y_train)\n",
        "dtree_predictions = dtree_model.predict(x_test)\n",
        "\n",
        "# creating a confusion matrix\n",
        "#cm = confusion_matrix(y_test,dtree_predictions)\n",
        "#print(cm)\n",
        "accuracy_score(y_test,dtree_predictions)"
      ],
      "metadata": {
        "colab": {
          "base_uri": "https://localhost:8080/"
        },
        "id": "QQzquesX2x58",
        "outputId": "a2b13698-87da-438d-e7a0-fa2d5afe7ffc"
      },
      "execution_count": null,
      "outputs": [
        {
          "output_type": "execute_result",
          "data": {
            "text/plain": [
              "0.88"
            ]
          },
          "metadata": {},
          "execution_count": 498
        }
      ]
    },
    {
      "cell_type": "markdown",
      "source": [
        "Random Forest Classification"
      ],
      "metadata": {
        "id": "TktiLnov22AW"
      }
    },
    {
      "cell_type": "code",
      "source": [
        "# Random Forest Classifier\n",
        "from sklearn.ensemble import RandomForestClassifier\n",
        "from sklearn.metrics import accuracy_score\n",
        "model1 = RandomForestClassifier()\n",
        "model1.fit(x_train, y_train)\n",
        "ypred1 = model1.predict(x1)\n",
        "print(accuracy_score(y1, ypred1))"
      ],
      "metadata": {
        "colab": {
          "base_uri": "https://localhost:8080/"
        },
        "id": "QRa2zyID25QA",
        "outputId": "2159583b-299f-4074-aa06-4910d961f7b0"
      },
      "execution_count": null,
      "outputs": [
        {
          "output_type": "stream",
          "name": "stdout",
          "text": [
            "0.9725490196078431\n"
          ]
        }
      ]
    },
    {
      "cell_type": "markdown",
      "source": [
        "KNN Classification"
      ],
      "metadata": {
        "id": "gCydM11n26_M"
      }
    },
    {
      "cell_type": "code",
      "source": [
        "#KNN Classification\n",
        "from sklearn.neighbors import KNeighborsClassifier\n",
        "model = KNeighborsClassifier()\n",
        "model.fit(x_train, y_train)\n",
        "ypred = model.predict(x_test)\n",
        "print(accuracy_score(y_test, ypred))"
      ],
      "metadata": {
        "colab": {
          "base_uri": "https://localhost:8080/"
        },
        "id": "wF3RacRT281b",
        "outputId": "afba0170-98a1-42b4-9dda-8256d2c07432"
      },
      "execution_count": null,
      "outputs": [
        {
          "output_type": "stream",
          "name": "stdout",
          "text": [
            "0.8\n"
          ]
        }
      ]
    },
    {
      "cell_type": "markdown",
      "source": [
        "Naive Bayes Classification"
      ],
      "metadata": {
        "id": "mb_TgDsc2-Rm"
      }
    },
    {
      "cell_type": "code",
      "source": [
        "# Gaussian Naive Bayes\n",
        "from sklearn.naive_bayes import GaussianNB\n",
        "model = GaussianNB()\n",
        "model.fit(x_train, y_train)\n",
        "ypred = model.predict(x_test)\n",
        "print(accuracy_score(y_test, ypred))"
      ],
      "metadata": {
        "colab": {
          "base_uri": "https://localhost:8080/"
        },
        "id": "OnVXNWB53CXt",
        "outputId": "2ec237fd-c11e-40cc-ca74-33462df94883"
      },
      "execution_count": null,
      "outputs": [
        {
          "output_type": "stream",
          "name": "stdout",
          "text": [
            "0.64\n"
          ]
        }
      ]
    }
  ]
}